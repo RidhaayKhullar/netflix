{
 "cells": [
  {
   "cell_type": "code",
   "execution_count": 4,
   "metadata": {
    "_cell_guid": "b1076dfc-b9ad-4769-8c92-a6c4dae69d19",
    "_uuid": "8f2839f25d086af736a60e9eeb907d3b93b6e0e5",
    "execution": {
     "iopub.execute_input": "2023-12-20T17:14:52.485566Z",
     "iopub.status.busy": "2023-12-20T17:14:52.485332Z",
     "iopub.status.idle": "2023-12-20T17:14:52.805405Z",
     "shell.execute_reply": "2023-12-20T17:14:52.804139Z",
     "shell.execute_reply.started": "2023-12-20T17:14:52.485543Z"
    },
    "papermill": {
     "duration": 0.476883,
     "end_time": "2023-11-28T08:54:56.739307",
     "exception": false,
     "start_time": "2023-11-28T08:54:56.262424",
     "status": "completed"
    },
    "tags": []
   },
   "outputs": [],
   "source": [
    "\n",
    "\n",
    "import numpy as np # linear algebra\n",
    "import pandas as pd # data processing, CSV file I/O (e.g. pd.read_csv)\n",
    "\n"
   ]
  },
  {
   "cell_type": "markdown",
   "metadata": {
    "papermill": {
     "duration": 0.029404,
     "end_time": "2023-11-28T08:54:56.799063",
     "exception": false,
     "start_time": "2023-11-28T08:54:56.769659",
     "status": "completed"
    },
    "tags": []
   },
   "source": [
    "# Import Libraries"
   ]
  },
  {
   "cell_type": "code",
   "execution_count": 5,
   "metadata": {
    "execution": {
     "iopub.execute_input": "2023-12-20T17:14:52.807414Z",
     "iopub.status.busy": "2023-12-20T17:14:52.806862Z",
     "iopub.status.idle": "2023-12-20T17:14:53.209023Z",
     "shell.execute_reply": "2023-12-20T17:14:53.207336Z",
     "shell.execute_reply.started": "2023-12-20T17:14:52.807379Z"
    },
    "papermill": {
     "duration": 0.044254,
     "end_time": "2023-11-28T08:54:56.873635",
     "exception": false,
     "start_time": "2023-11-28T08:54:56.829381",
     "status": "completed"
    },
    "tags": []
   },
   "outputs": [],
   "source": [
    "import matplotlib.pylab as plt\n",
    "plt.style.use('ggplot')\n",
    "import re\n",
    "import seaborn as sns"
   ]
  },
  {
   "cell_type": "markdown",
   "metadata": {
    "papermill": {
     "duration": 0.03163,
     "end_time": "2023-11-28T08:54:56.936505",
     "exception": false,
     "start_time": "2023-11-28T08:54:56.904875",
     "status": "completed"
    },
    "tags": []
   },
   "source": [
    "# Reading data\n"
   ]
  },
  {
   "cell_type": "code",
   "execution_count": 6,
   "metadata": {
    "execution": {
     "iopub.execute_input": "2023-12-20T17:14:53.211087Z",
     "iopub.status.busy": "2023-12-20T17:14:53.210715Z",
     "iopub.status.idle": "2023-12-20T17:14:53.280605Z",
     "shell.execute_reply": "2023-12-20T17:14:53.279504Z",
     "shell.execute_reply.started": "2023-12-20T17:14:53.211027Z"
    },
    "papermill": {
     "duration": 0.191051,
     "end_time": "2023-11-28T08:54:57.159431",
     "exception": false,
     "start_time": "2023-11-28T08:54:56.968380",
     "status": "completed"
    },
    "tags": []
   },
   "outputs": [],
   "source": [
    "data = pd.read_csv(\"netflix_titles.csv\")\n",
    "data2 = data.copy()"
   ]
  },
  {
   "cell_type": "markdown",
   "metadata": {
    "papermill": {
     "duration": 0.030014,
     "end_time": "2023-11-28T08:54:57.311004",
     "exception": false,
     "start_time": "2023-11-28T08:54:57.280990",
     "status": "completed"
    },
    "tags": []
   },
   "source": [
    "# Data Analysis Tasks"
   ]
  },
  {
   "cell_type": "code",
   "execution_count": 4,
   "metadata": {
    "execution": {
     "iopub.execute_input": "2023-12-20T17:14:53.283588Z",
     "iopub.status.busy": "2023-12-20T17:14:53.283262Z",
     "iopub.status.idle": "2023-12-20T17:14:53.287923Z",
     "shell.execute_reply": "2023-12-20T17:14:53.287286Z",
     "shell.execute_reply.started": "2023-12-20T17:14:53.283561Z"
    },
    "papermill": {
     "duration": 0.04079,
     "end_time": "2023-11-28T08:54:57.381705",
     "exception": false,
     "start_time": "2023-11-28T08:54:57.340915",
     "status": "completed"
    },
    "tags": []
   },
   "outputs": [],
   "source": [
    "#1. Does Netflix has more focus on TV Shows than movies in recent years?\n",
    "#2. Extract the top 10 directors by number of movies made from the dataset.\n",
    "#3. How many unique countries have produced movies?\n",
    "#4. In what year were the least movies produced?\n",
    "#5. What is the tv show with maximum duration/seasons?\n",
    "#6. How many movies were produced in the last 10 years? \n",
    "#7. Which countries produced the most movies?\n",
    "#8. What is the most popular rating in TV shows?\n",
    "#9. In which year were the most Adult rated movies produced?\n",
    "#10. Who is the most popular movie director from India?\n",
    "#11. Which movie is the smallest movie ever made?\n",
    "#12. Did 2020 see any new TV shows being released? True/False?\n",
    "#13. How many categories of ratings exist?\n",
    "#14. Does United States make more movies or tv shows?\n",
    "#15. Does United States make lengthier movies than India?\n",
    "#16. Was there a tv/show that was released on Feb 29 of any year?\n",
    "#17. Which directors produced atleast one movie in 2021?\n",
    "#18. How many unique TV shows and movies are there in the dataset? \n",
    "#19. How many TV shows and movies are there per country? \n",
    "#20. What is the average duration of a movie in the dataset?\n",
    "#21. How many movies and TV shows were added to Netflix each year?\n",
    "#22. What is the most common rating for movies and TV shows in the dataset?\n",
    "#23. What is the average duration of movies released each year?\n",
    "#24. How many movies and TV shows are there for each rating category?\n",
    "#25. Which country has produced the most number of movies?\n",
    "#26. Which country has produced the most number of TV shows?\n",
    "#27. What is the earliest and latest release year in the dataset?\n",
    "#28. How many movies and TV shows were added to Netflix each month?\n",
    "#29. What is the most common duration for movies in the dataset?\n",
    "#30. What is the most common number of seasons for TV shows in the dataset?\n",
    "#31. How many unique directors are there in the dataset?\n",
    "#32. What is the most common release year for movies and TV shows in the dataset? \n",
    "#33. How many movies and TV shows were produced by each country per year?\n",
    "#34 How many movies and TV shows does each rating category have per year?\n",
    "#35. How many movies and TV shows were directed by each director per year?"
   ]
  },
  {
   "cell_type": "code",
   "execution_count": 8,
   "metadata": {},
   "outputs": [
    {
     "data": {
      "text/html": [
       "<div>\n",
       "<style scoped>\n",
       "    .dataframe tbody tr th:only-of-type {\n",
       "        vertical-align: middle;\n",
       "    }\n",
       "\n",
       "    .dataframe tbody tr th {\n",
       "        vertical-align: top;\n",
       "    }\n",
       "\n",
       "    .dataframe thead th {\n",
       "        text-align: right;\n",
       "    }\n",
       "</style>\n",
       "<table border=\"1\" class=\"dataframe\">\n",
       "  <thead>\n",
       "    <tr style=\"text-align: right;\">\n",
       "      <th></th>\n",
       "      <th>show_id</th>\n",
       "      <th>type</th>\n",
       "      <th>title</th>\n",
       "      <th>director</th>\n",
       "      <th>cast</th>\n",
       "      <th>country</th>\n",
       "      <th>date_added</th>\n",
       "      <th>release_year</th>\n",
       "      <th>rating</th>\n",
       "      <th>duration</th>\n",
       "      <th>listed_in</th>\n",
       "      <th>description</th>\n",
       "    </tr>\n",
       "  </thead>\n",
       "  <tbody>\n",
       "    <tr>\n",
       "      <th>0</th>\n",
       "      <td>81145628</td>\n",
       "      <td>Movie</td>\n",
       "      <td>Norm of the North: King Sized Adventure</td>\n",
       "      <td>Richard Finn, Tim Maltby</td>\n",
       "      <td>Alan Marriott, Andrew Toth, Brian Dobson, Cole...</td>\n",
       "      <td>United States, India, South Korea, China</td>\n",
       "      <td>September 9, 2019</td>\n",
       "      <td>2019</td>\n",
       "      <td>TV-PG</td>\n",
       "      <td>90 min</td>\n",
       "      <td>Children &amp; Family Movies, Comedies</td>\n",
       "      <td>Before planning an awesome wedding for his gra...</td>\n",
       "    </tr>\n",
       "    <tr>\n",
       "      <th>1</th>\n",
       "      <td>80117401</td>\n",
       "      <td>Movie</td>\n",
       "      <td>Jandino: Whatever it Takes</td>\n",
       "      <td>NaN</td>\n",
       "      <td>Jandino Asporaat</td>\n",
       "      <td>United Kingdom</td>\n",
       "      <td>September 9, 2016</td>\n",
       "      <td>2016</td>\n",
       "      <td>TV-MA</td>\n",
       "      <td>94 min</td>\n",
       "      <td>Stand-Up Comedy</td>\n",
       "      <td>Jandino Asporaat riffs on the challenges of ra...</td>\n",
       "    </tr>\n",
       "    <tr>\n",
       "      <th>2</th>\n",
       "      <td>70234439</td>\n",
       "      <td>TV Show</td>\n",
       "      <td>Transformers Prime</td>\n",
       "      <td>NaN</td>\n",
       "      <td>Peter Cullen, Sumalee Montano, Frank Welker, J...</td>\n",
       "      <td>United States</td>\n",
       "      <td>September 8, 2018</td>\n",
       "      <td>2013</td>\n",
       "      <td>TV-Y7-FV</td>\n",
       "      <td>1 Season</td>\n",
       "      <td>Kids' TV</td>\n",
       "      <td>With the help of three human allies, the Autob...</td>\n",
       "    </tr>\n",
       "    <tr>\n",
       "      <th>3</th>\n",
       "      <td>80058654</td>\n",
       "      <td>TV Show</td>\n",
       "      <td>Transformers: Robots in Disguise</td>\n",
       "      <td>NaN</td>\n",
       "      <td>Will Friedle, Darren Criss, Constance Zimmer, ...</td>\n",
       "      <td>United States</td>\n",
       "      <td>September 8, 2018</td>\n",
       "      <td>2016</td>\n",
       "      <td>TV-Y7</td>\n",
       "      <td>1 Season</td>\n",
       "      <td>Kids' TV</td>\n",
       "      <td>When a prison ship crash unleashes hundreds of...</td>\n",
       "    </tr>\n",
       "    <tr>\n",
       "      <th>4</th>\n",
       "      <td>80125979</td>\n",
       "      <td>Movie</td>\n",
       "      <td>#realityhigh</td>\n",
       "      <td>Fernando Lebrija</td>\n",
       "      <td>Nesta Cooper, Kate Walsh, John Michael Higgins...</td>\n",
       "      <td>United States</td>\n",
       "      <td>September 8, 2017</td>\n",
       "      <td>2017</td>\n",
       "      <td>TV-14</td>\n",
       "      <td>99 min</td>\n",
       "      <td>Comedies</td>\n",
       "      <td>When nerdy high schooler Dani finally attracts...</td>\n",
       "    </tr>\n",
       "  </tbody>\n",
       "</table>\n",
       "</div>"
      ],
      "text/plain": [
       "    show_id     type                                    title  \\\n",
       "0  81145628    Movie  Norm of the North: King Sized Adventure   \n",
       "1  80117401    Movie               Jandino: Whatever it Takes   \n",
       "2  70234439  TV Show                       Transformers Prime   \n",
       "3  80058654  TV Show         Transformers: Robots in Disguise   \n",
       "4  80125979    Movie                             #realityhigh   \n",
       "\n",
       "                   director  \\\n",
       "0  Richard Finn, Tim Maltby   \n",
       "1                       NaN   \n",
       "2                       NaN   \n",
       "3                       NaN   \n",
       "4          Fernando Lebrija   \n",
       "\n",
       "                                                cast  \\\n",
       "0  Alan Marriott, Andrew Toth, Brian Dobson, Cole...   \n",
       "1                                   Jandino Asporaat   \n",
       "2  Peter Cullen, Sumalee Montano, Frank Welker, J...   \n",
       "3  Will Friedle, Darren Criss, Constance Zimmer, ...   \n",
       "4  Nesta Cooper, Kate Walsh, John Michael Higgins...   \n",
       "\n",
       "                                    country         date_added  release_year  \\\n",
       "0  United States, India, South Korea, China  September 9, 2019          2019   \n",
       "1                            United Kingdom  September 9, 2016          2016   \n",
       "2                             United States  September 8, 2018          2013   \n",
       "3                             United States  September 8, 2018          2016   \n",
       "4                             United States  September 8, 2017          2017   \n",
       "\n",
       "     rating  duration                           listed_in  \\\n",
       "0     TV-PG    90 min  Children & Family Movies, Comedies   \n",
       "1     TV-MA    94 min                     Stand-Up Comedy   \n",
       "2  TV-Y7-FV  1 Season                            Kids' TV   \n",
       "3     TV-Y7  1 Season                            Kids' TV   \n",
       "4     TV-14    99 min                            Comedies   \n",
       "\n",
       "                                         description  \n",
       "0  Before planning an awesome wedding for his gra...  \n",
       "1  Jandino Asporaat riffs on the challenges of ra...  \n",
       "2  With the help of three human allies, the Autob...  \n",
       "3  When a prison ship crash unleashes hundreds of...  \n",
       "4  When nerdy high schooler Dani finally attracts...  "
      ]
     },
     "execution_count": 8,
     "metadata": {},
     "output_type": "execute_result"
    }
   ],
   "source": [
    "data2.head()"
   ]
  },
  {
   "cell_type": "code",
   "execution_count": 10,
   "metadata": {},
   "outputs": [
    {
     "data": {
      "text/plain": [
       "(6234, 12)"
      ]
     },
     "execution_count": 10,
     "metadata": {},
     "output_type": "execute_result"
    }
   ],
   "source": [
    "data2.shape"
   ]
  },
  {
   "cell_type": "markdown",
   "metadata": {},
   "source": [
    "# Cleaning up the data"
   ]
  },
  {
   "cell_type": "code",
   "execution_count": 11,
   "metadata": {
    "execution": {
     "iopub.execute_input": "2023-12-20T17:14:53.289265Z",
     "iopub.status.busy": "2023-12-20T17:14:53.288872Z",
     "iopub.status.idle": "2023-12-20T17:14:53.312503Z",
     "shell.execute_reply": "2023-12-20T17:14:53.311273Z",
     "shell.execute_reply.started": "2023-12-20T17:14:53.289243Z"
    }
   },
   "outputs": [
    {
     "data": {
      "text/plain": [
       "Documentaries                                       299\n",
       "Stand-Up Comedy                                     273\n",
       "Dramas, International Movies                        248\n",
       "Dramas, Independent Movies, International Movies    186\n",
       "Comedies, Dramas, International Movies              174\n",
       "                                                   ... \n",
       "TV Comedies, TV Dramas, TV Mysteries                  1\n",
       "Classic Movies, Dramas, LGBTQ Movies                  1\n",
       "Crime TV Shows, TV Dramas, TV Sci-Fi & Fantasy        1\n",
       "Docuseries, Reality TV, Teen TV Shows                 1\n",
       "Reality TV, Spanish-Language TV Shows                 1\n",
       "Name: listed_in, Length: 461, dtype: int64"
      ]
     },
     "execution_count": 11,
     "metadata": {},
     "output_type": "execute_result"
    }
   ],
   "source": [
    "data2['listed_in'].value_counts()"
   ]
  },
  {
   "cell_type": "code",
   "execution_count": 12,
   "metadata": {
    "execution": {
     "iopub.execute_input": "2023-12-20T17:14:53.314725Z",
     "iopub.status.busy": "2023-12-20T17:14:53.313618Z",
     "iopub.status.idle": "2023-12-20T17:14:55.526865Z",
     "shell.execute_reply": "2023-12-20T17:14:55.525864Z",
     "shell.execute_reply.started": "2023-12-20T17:14:53.314673Z"
    }
   },
   "outputs": [],
   "source": [
    "#funtion to get listed_in column into different columns for each categories\n",
    "def func(str_val):\n",
    "    list_val = str_val.split(\",\")\n",
    "    output_dict = {}\n",
    "    for item in list_val:\n",
    "        output_dict[item] = 1\n",
    "    return output_dict\n",
    "    \n",
    "data_categories = data2['listed_in'].apply(lambda x: func(x)).apply(pd.Series).fillna(0)"
   ]
  },
  {
   "cell_type": "code",
   "execution_count": 13,
   "metadata": {
    "execution": {
     "iopub.execute_input": "2023-12-20T17:14:55.528299Z",
     "iopub.status.busy": "2023-12-20T17:14:55.528031Z",
     "iopub.status.idle": "2023-12-20T17:14:55.537355Z",
     "shell.execute_reply": "2023-12-20T17:14:55.535949Z",
     "shell.execute_reply.started": "2023-12-20T17:14:55.528277Z"
    }
   },
   "outputs": [],
   "source": [
    "#concatinating both the data side by side\n",
    "data2 = pd.concat([data, data_categories], axis=1)"
   ]
  },
  {
   "cell_type": "code",
   "execution_count": 14,
   "metadata": {},
   "outputs": [
    {
     "data": {
      "text/html": [
       "<div>\n",
       "<style scoped>\n",
       "    .dataframe tbody tr th:only-of-type {\n",
       "        vertical-align: middle;\n",
       "    }\n",
       "\n",
       "    .dataframe tbody tr th {\n",
       "        vertical-align: top;\n",
       "    }\n",
       "\n",
       "    .dataframe thead th {\n",
       "        text-align: right;\n",
       "    }\n",
       "</style>\n",
       "<table border=\"1\" class=\"dataframe\">\n",
       "  <thead>\n",
       "    <tr style=\"text-align: right;\">\n",
       "      <th></th>\n",
       "      <th>show_id</th>\n",
       "      <th>type</th>\n",
       "      <th>title</th>\n",
       "      <th>director</th>\n",
       "      <th>cast</th>\n",
       "      <th>country</th>\n",
       "      <th>date_added</th>\n",
       "      <th>release_year</th>\n",
       "      <th>rating</th>\n",
       "      <th>duration</th>\n",
       "      <th>...</th>\n",
       "      <th>Sci-Fi &amp; Fantasy</th>\n",
       "      <th>Children &amp; Family Movies</th>\n",
       "      <th>Classic Movies</th>\n",
       "      <th>TV Shows</th>\n",
       "      <th>Spanish-Language TV Shows</th>\n",
       "      <th>Sports Movies</th>\n",
       "      <th>Classic &amp; Cult TV</th>\n",
       "      <th>Romantic Movies</th>\n",
       "      <th>TV Sci-Fi &amp; Fantasy</th>\n",
       "      <th>Classic &amp; Cult TV</th>\n",
       "    </tr>\n",
       "  </thead>\n",
       "  <tbody>\n",
       "    <tr>\n",
       "      <th>0</th>\n",
       "      <td>81145628</td>\n",
       "      <td>Movie</td>\n",
       "      <td>Norm of the North: King Sized Adventure</td>\n",
       "      <td>Richard Finn, Tim Maltby</td>\n",
       "      <td>Alan Marriott, Andrew Toth, Brian Dobson, Cole...</td>\n",
       "      <td>United States, India, South Korea, China</td>\n",
       "      <td>September 9, 2019</td>\n",
       "      <td>2019</td>\n",
       "      <td>TV-PG</td>\n",
       "      <td>90 min</td>\n",
       "      <td>...</td>\n",
       "      <td>0.0</td>\n",
       "      <td>0.0</td>\n",
       "      <td>0.0</td>\n",
       "      <td>0.0</td>\n",
       "      <td>0.0</td>\n",
       "      <td>0.0</td>\n",
       "      <td>0.0</td>\n",
       "      <td>0.0</td>\n",
       "      <td>0.0</td>\n",
       "      <td>0.0</td>\n",
       "    </tr>\n",
       "    <tr>\n",
       "      <th>1</th>\n",
       "      <td>80117401</td>\n",
       "      <td>Movie</td>\n",
       "      <td>Jandino: Whatever it Takes</td>\n",
       "      <td>NaN</td>\n",
       "      <td>Jandino Asporaat</td>\n",
       "      <td>United Kingdom</td>\n",
       "      <td>September 9, 2016</td>\n",
       "      <td>2016</td>\n",
       "      <td>TV-MA</td>\n",
       "      <td>94 min</td>\n",
       "      <td>...</td>\n",
       "      <td>0.0</td>\n",
       "      <td>0.0</td>\n",
       "      <td>0.0</td>\n",
       "      <td>0.0</td>\n",
       "      <td>0.0</td>\n",
       "      <td>0.0</td>\n",
       "      <td>0.0</td>\n",
       "      <td>0.0</td>\n",
       "      <td>0.0</td>\n",
       "      <td>0.0</td>\n",
       "    </tr>\n",
       "    <tr>\n",
       "      <th>2</th>\n",
       "      <td>70234439</td>\n",
       "      <td>TV Show</td>\n",
       "      <td>Transformers Prime</td>\n",
       "      <td>NaN</td>\n",
       "      <td>Peter Cullen, Sumalee Montano, Frank Welker, J...</td>\n",
       "      <td>United States</td>\n",
       "      <td>September 8, 2018</td>\n",
       "      <td>2013</td>\n",
       "      <td>TV-Y7-FV</td>\n",
       "      <td>1 Season</td>\n",
       "      <td>...</td>\n",
       "      <td>0.0</td>\n",
       "      <td>0.0</td>\n",
       "      <td>0.0</td>\n",
       "      <td>0.0</td>\n",
       "      <td>0.0</td>\n",
       "      <td>0.0</td>\n",
       "      <td>0.0</td>\n",
       "      <td>0.0</td>\n",
       "      <td>0.0</td>\n",
       "      <td>0.0</td>\n",
       "    </tr>\n",
       "    <tr>\n",
       "      <th>3</th>\n",
       "      <td>80058654</td>\n",
       "      <td>TV Show</td>\n",
       "      <td>Transformers: Robots in Disguise</td>\n",
       "      <td>NaN</td>\n",
       "      <td>Will Friedle, Darren Criss, Constance Zimmer, ...</td>\n",
       "      <td>United States</td>\n",
       "      <td>September 8, 2018</td>\n",
       "      <td>2016</td>\n",
       "      <td>TV-Y7</td>\n",
       "      <td>1 Season</td>\n",
       "      <td>...</td>\n",
       "      <td>0.0</td>\n",
       "      <td>0.0</td>\n",
       "      <td>0.0</td>\n",
       "      <td>0.0</td>\n",
       "      <td>0.0</td>\n",
       "      <td>0.0</td>\n",
       "      <td>0.0</td>\n",
       "      <td>0.0</td>\n",
       "      <td>0.0</td>\n",
       "      <td>0.0</td>\n",
       "    </tr>\n",
       "    <tr>\n",
       "      <th>4</th>\n",
       "      <td>80125979</td>\n",
       "      <td>Movie</td>\n",
       "      <td>#realityhigh</td>\n",
       "      <td>Fernando Lebrija</td>\n",
       "      <td>Nesta Cooper, Kate Walsh, John Michael Higgins...</td>\n",
       "      <td>United States</td>\n",
       "      <td>September 8, 2017</td>\n",
       "      <td>2017</td>\n",
       "      <td>TV-14</td>\n",
       "      <td>99 min</td>\n",
       "      <td>...</td>\n",
       "      <td>0.0</td>\n",
       "      <td>0.0</td>\n",
       "      <td>0.0</td>\n",
       "      <td>0.0</td>\n",
       "      <td>0.0</td>\n",
       "      <td>0.0</td>\n",
       "      <td>0.0</td>\n",
       "      <td>0.0</td>\n",
       "      <td>0.0</td>\n",
       "      <td>0.0</td>\n",
       "    </tr>\n",
       "  </tbody>\n",
       "</table>\n",
       "<p>5 rows × 84 columns</p>\n",
       "</div>"
      ],
      "text/plain": [
       "    show_id     type                                    title  \\\n",
       "0  81145628    Movie  Norm of the North: King Sized Adventure   \n",
       "1  80117401    Movie               Jandino: Whatever it Takes   \n",
       "2  70234439  TV Show                       Transformers Prime   \n",
       "3  80058654  TV Show         Transformers: Robots in Disguise   \n",
       "4  80125979    Movie                             #realityhigh   \n",
       "\n",
       "                   director  \\\n",
       "0  Richard Finn, Tim Maltby   \n",
       "1                       NaN   \n",
       "2                       NaN   \n",
       "3                       NaN   \n",
       "4          Fernando Lebrija   \n",
       "\n",
       "                                                cast  \\\n",
       "0  Alan Marriott, Andrew Toth, Brian Dobson, Cole...   \n",
       "1                                   Jandino Asporaat   \n",
       "2  Peter Cullen, Sumalee Montano, Frank Welker, J...   \n",
       "3  Will Friedle, Darren Criss, Constance Zimmer, ...   \n",
       "4  Nesta Cooper, Kate Walsh, John Michael Higgins...   \n",
       "\n",
       "                                    country         date_added  release_year  \\\n",
       "0  United States, India, South Korea, China  September 9, 2019          2019   \n",
       "1                            United Kingdom  September 9, 2016          2016   \n",
       "2                             United States  September 8, 2018          2013   \n",
       "3                             United States  September 8, 2018          2016   \n",
       "4                             United States  September 8, 2017          2017   \n",
       "\n",
       "     rating  duration  ... Sci-Fi & Fantasy  Children & Family Movies  \\\n",
       "0     TV-PG    90 min  ...              0.0                       0.0   \n",
       "1     TV-MA    94 min  ...              0.0                       0.0   \n",
       "2  TV-Y7-FV  1 Season  ...              0.0                       0.0   \n",
       "3     TV-Y7  1 Season  ...              0.0                       0.0   \n",
       "4     TV-14    99 min  ...              0.0                       0.0   \n",
       "\n",
       "    Classic Movies  TV Shows  Spanish-Language TV Shows  Sports Movies  \\\n",
       "0              0.0       0.0                        0.0            0.0   \n",
       "1              0.0       0.0                        0.0            0.0   \n",
       "2              0.0       0.0                        0.0            0.0   \n",
       "3              0.0       0.0                        0.0            0.0   \n",
       "4              0.0       0.0                        0.0            0.0   \n",
       "\n",
       "   Classic & Cult TV  Romantic Movies  TV Sci-Fi & Fantasy   Classic & Cult TV  \n",
       "0                0.0              0.0                  0.0                 0.0  \n",
       "1                0.0              0.0                  0.0                 0.0  \n",
       "2                0.0              0.0                  0.0                 0.0  \n",
       "3                0.0              0.0                  0.0                 0.0  \n",
       "4                0.0              0.0                  0.0                 0.0  \n",
       "\n",
       "[5 rows x 84 columns]"
      ]
     },
     "execution_count": 14,
     "metadata": {},
     "output_type": "execute_result"
    }
   ],
   "source": [
    "data2.head()"
   ]
  },
  {
   "cell_type": "markdown",
   "metadata": {
    "papermill": {
     "duration": 0.030126,
     "end_time": "2023-11-28T08:54:57.442049",
     "exception": false,
     "start_time": "2023-11-28T08:54:57.411923",
     "status": "completed"
    },
    "tags": []
   },
   "source": [
    "# 1. Does Netflix has more focus on TV Shows than movies in recent years?"
   ]
  },
  {
   "cell_type": "code",
   "execution_count": 8,
   "metadata": {
    "execution": {
     "iopub.execute_input": "2023-12-20T17:14:55.540356Z",
     "iopub.status.busy": "2023-12-20T17:14:55.539782Z",
     "iopub.status.idle": "2023-12-20T17:14:55.552104Z",
     "shell.execute_reply": "2023-12-20T17:14:55.550956Z",
     "shell.execute_reply.started": "2023-12-20T17:14:55.540320Z"
    },
    "papermill": {
     "duration": 0.06055,
     "end_time": "2023-11-28T08:54:57.532576",
     "exception": false,
     "start_time": "2023-11-28T08:54:57.472026",
     "status": "completed"
    },
    "tags": []
   },
   "outputs": [
    {
     "data": {
      "text/plain": [
       "type\n",
       "Movie      6131\n",
       "TV Show    2676\n",
       "Name: count, dtype: int64"
      ]
     },
     "execution_count": 8,
     "metadata": {},
     "output_type": "execute_result"
    }
   ],
   "source": [
    "data['type'].value_counts()"
   ]
  },
  {
   "cell_type": "code",
   "execution_count": 9,
   "metadata": {
    "execution": {
     "iopub.execute_input": "2023-12-20T17:14:55.555576Z",
     "iopub.status.busy": "2023-12-20T17:14:55.554019Z",
     "iopub.status.idle": "2023-12-20T17:14:55.866453Z",
     "shell.execute_reply": "2023-12-20T17:14:55.865053Z",
     "shell.execute_reply.started": "2023-12-20T17:14:55.555378Z"
    },
    "papermill": {
     "duration": 0.440188,
     "end_time": "2023-11-28T08:54:58.003217",
     "exception": false,
     "start_time": "2023-11-28T08:54:57.563029",
     "status": "completed"
    },
    "tags": []
   },
   "outputs": [
    {
     "data": {
      "text/plain": [
       "<Axes: title={'center': 'Type of shows on netflix'}, xlabel='type'>"
      ]
     },
     "execution_count": 9,
     "metadata": {},
     "output_type": "execute_result"
    },
    {
     "data": {
      "image/png": "[encoded data removed]",
      "text/plain": [
       "<Figure size 640x480 with 1 Axes>"
      ]
     },
     "metadata": {},
     "output_type": "display_data"
    }
   ],
   "source": [
    "data['type'].value_counts().plot(kind='bar',title= 'Type of shows on netflix')"
   ]
  },
  {
   "cell_type": "markdown",
   "metadata": {
    "papermill": {
     "duration": 0.030573,
     "end_time": "2023-11-28T08:54:58.064667",
     "exception": false,
     "start_time": "2023-11-28T08:54:58.034094",
     "status": "completed"
    },
    "tags": []
   },
   "source": [
    "The insight from the above analysis is that we have more Movies than TV shows."
   ]
  },
  {
   "cell_type": "markdown",
   "metadata": {
    "papermill": {
     "duration": 0.032896,
     "end_time": "2023-11-28T08:54:58.129090",
     "exception": false,
     "start_time": "2023-11-28T08:54:58.096194",
     "status": "completed"
    },
    "tags": []
   },
   "source": [
    "# 2. Extract the top 10 directors by number of movies made from the dataset."
   ]
  },
  {
   "cell_type": "code",
   "execution_count": 16,
   "metadata": {
    "execution": {
     "iopub.execute_input": "2023-12-20T17:14:55.868139Z",
     "iopub.status.busy": "2023-12-20T17:14:55.867765Z",
     "iopub.status.idle": "2023-12-20T17:14:55.886455Z",
     "shell.execute_reply": "2023-12-20T17:14:55.885198Z",
     "shell.execute_reply.started": "2023-12-20T17:14:55.868105Z"
    },
    "papermill": {
     "duration": 0.063521,
     "end_time": "2023-11-28T08:54:58.223251",
     "exception": false,
     "start_time": "2023-11-28T08:54:58.159730",
     "status": "completed"
    },
    "tags": []
   },
   "outputs": [
    {
     "data": {
      "text/html": [
       "<div>\n",
       "<style scoped>\n",
       "    .dataframe tbody tr th:only-of-type {\n",
       "        vertical-align: middle;\n",
       "    }\n",
       "\n",
       "    .dataframe tbody tr th {\n",
       "        vertical-align: top;\n",
       "    }\n",
       "\n",
       "    .dataframe thead th {\n",
       "        text-align: right;\n",
       "    }\n",
       "</style>\n",
       "<table border=\"1\" class=\"dataframe\">\n",
       "  <thead>\n",
       "    <tr style=\"text-align: right;\">\n",
       "      <th></th>\n",
       "      <th>index</th>\n",
       "      <th>director</th>\n",
       "    </tr>\n",
       "  </thead>\n",
       "  <tbody>\n",
       "    <tr>\n",
       "      <th>0</th>\n",
       "      <td>Raúl Campos, Jan Suter</td>\n",
       "      <td>18</td>\n",
       "    </tr>\n",
       "    <tr>\n",
       "      <th>1</th>\n",
       "      <td>Marcus Raboy</td>\n",
       "      <td>14</td>\n",
       "    </tr>\n",
       "    <tr>\n",
       "      <th>2</th>\n",
       "      <td>Jay Karas</td>\n",
       "      <td>13</td>\n",
       "    </tr>\n",
       "    <tr>\n",
       "      <th>3</th>\n",
       "      <td>Jay Chapman</td>\n",
       "      <td>12</td>\n",
       "    </tr>\n",
       "    <tr>\n",
       "      <th>4</th>\n",
       "      <td>Steven Spielberg</td>\n",
       "      <td>9</td>\n",
       "    </tr>\n",
       "    <tr>\n",
       "      <th>5</th>\n",
       "      <td>Martin Scorsese</td>\n",
       "      <td>9</td>\n",
       "    </tr>\n",
       "    <tr>\n",
       "      <th>6</th>\n",
       "      <td>Johnnie To</td>\n",
       "      <td>8</td>\n",
       "    </tr>\n",
       "    <tr>\n",
       "      <th>7</th>\n",
       "      <td>David Dhawan</td>\n",
       "      <td>8</td>\n",
       "    </tr>\n",
       "    <tr>\n",
       "      <th>8</th>\n",
       "      <td>Lance Bangs</td>\n",
       "      <td>8</td>\n",
       "    </tr>\n",
       "    <tr>\n",
       "      <th>9</th>\n",
       "      <td>S.S. Rajamouli</td>\n",
       "      <td>7</td>\n",
       "    </tr>\n",
       "  </tbody>\n",
       "</table>\n",
       "</div>"
      ],
      "text/plain": [
       "                    index  director\n",
       "0  Raúl Campos, Jan Suter        18\n",
       "1            Marcus Raboy        14\n",
       "2               Jay Karas        13\n",
       "3             Jay Chapman        12\n",
       "4        Steven Spielberg         9\n",
       "5         Martin Scorsese         9\n",
       "6              Johnnie To         8\n",
       "7            David Dhawan         8\n",
       "8             Lance Bangs         8\n",
       "9          S.S. Rajamouli         7"
      ]
     },
     "execution_count": 16,
     "metadata": {},
     "output_type": "execute_result"
    }
   ],
   "source": [
    "data.loc[data['type'] == 'Movie', 'director'].value_counts().reset_index().head(10)"
   ]
  },
  {
   "cell_type": "markdown",
   "metadata": {
    "papermill": {
     "duration": 0.030652,
     "end_time": "2023-11-28T08:54:58.285915",
     "exception": false,
     "start_time": "2023-11-28T08:54:58.255263",
     "status": "completed"
    },
    "tags": []
   },
   "source": [
    "# 3. How many unique countries have produced movies?"
   ]
  },
  {
   "cell_type": "code",
   "execution_count": 11,
   "metadata": {
    "execution": {
     "iopub.execute_input": "2023-12-20T17:14:55.887943Z",
     "iopub.status.busy": "2023-12-20T17:14:55.887648Z",
     "iopub.status.idle": "2023-12-20T17:14:55.896236Z",
     "shell.execute_reply": "2023-12-20T17:14:55.895206Z",
     "shell.execute_reply.started": "2023-12-20T17:14:55.887919Z"
    },
    "papermill": {
     "duration": 0.050646,
     "end_time": "2023-11-28T08:54:58.367945",
     "exception": false,
     "start_time": "2023-11-28T08:54:58.317299",
     "status": "completed"
    },
    "tags": []
   },
   "outputs": [
    {
     "data": {
      "text/plain": [
       "651"
      ]
     },
     "execution_count": 11,
     "metadata": {},
     "output_type": "execute_result"
    }
   ],
   "source": [
    "data.loc[data['type'] == 'Movie','country'].nunique()"
   ]
  },
  {
   "cell_type": "markdown",
   "metadata": {
    "papermill": {
     "duration": 0.031424,
     "end_time": "2023-11-28T08:54:58.430954",
     "exception": false,
     "start_time": "2023-11-28T08:54:58.399530",
     "status": "completed"
    },
    "tags": []
   },
   "source": [
    "As per the current data 651 unique countries have produced moview but this data needs a cleanup, you can see why below."
   ]
  },
  {
   "cell_type": "code",
   "execution_count": 12,
   "metadata": {
    "execution": {
     "iopub.execute_input": "2023-12-20T17:14:55.899109Z",
     "iopub.status.busy": "2023-12-20T17:14:55.897903Z",
     "iopub.status.idle": "2023-12-20T17:14:55.912265Z",
     "shell.execute_reply": "2023-12-20T17:14:55.910696Z",
     "shell.execute_reply.started": "2023-12-20T17:14:55.899054Z"
    },
    "papermill": {
     "duration": 0.050075,
     "end_time": "2023-11-28T08:54:58.512207",
     "exception": false,
     "start_time": "2023-11-28T08:54:58.462132",
     "status": "completed"
    },
    "tags": []
   },
   "outputs": [
    {
     "data": {
      "text/plain": [
       "country\n",
       "United States                             2818\n",
       "India                                      972\n",
       "United Kingdom                             419\n",
       "Japan                                      245\n",
       "South Korea                                199\n",
       "                                          ... \n",
       "Romania, Bulgaria, Hungary                   1\n",
       "Uruguay, Guatemala                           1\n",
       "France, Senegal, Belgium                     1\n",
       "Mexico, United States, Spain, Colombia       1\n",
       "United Arab Emirates, Jordan                 1\n",
       "Name: count, Length: 748, dtype: int64"
      ]
     },
     "execution_count": 12,
     "metadata": {},
     "output_type": "execute_result"
    }
   ],
   "source": [
    "data['country'].value_counts()"
   ]
  },
  {
   "cell_type": "markdown",
   "metadata": {
    "papermill": {
     "duration": 0.031933,
     "end_time": "2023-11-28T08:54:58.576338",
     "exception": false,
     "start_time": "2023-11-28T08:54:58.544405",
     "status": "completed"
    },
    "tags": []
   },
   "source": [
    "# 4. In what year were the least movies produced?"
   ]
  },
  {
   "cell_type": "code",
   "execution_count": 13,
   "metadata": {
    "execution": {
     "iopub.execute_input": "2023-12-20T17:14:55.918418Z",
     "iopub.status.busy": "2023-12-20T17:14:55.918049Z",
     "iopub.status.idle": "2023-12-20T17:14:55.933679Z",
     "shell.execute_reply": "2023-12-20T17:14:55.932007Z",
     "shell.execute_reply.started": "2023-12-20T17:14:55.918390Z"
    },
    "papermill": {
     "duration": 0.051807,
     "end_time": "2023-11-28T08:54:58.659804",
     "exception": false,
     "start_time": "2023-11-28T08:54:58.607997",
     "status": "completed"
    },
    "tags": []
   },
   "outputs": [
    {
     "data": {
      "text/plain": [
       "release_year\n",
       "2017    767\n",
       "2018    767\n",
       "2016    658\n",
       "2019    633\n",
       "2020    517\n",
       "       ... \n",
       "1966      1\n",
       "1961      1\n",
       "1946      1\n",
       "1963      1\n",
       "1947      1\n",
       "Name: count, Length: 73, dtype: int64"
      ]
     },
     "execution_count": 13,
     "metadata": {},
     "output_type": "execute_result"
    }
   ],
   "source": [
    "data.loc[data['type'] == 'Movie','release_year'].value_counts()"
   ]
  },
  {
   "cell_type": "markdown",
   "metadata": {
    "papermill": {
     "duration": 0.031424,
     "end_time": "2023-11-28T08:54:58.722666",
     "exception": false,
     "start_time": "2023-11-28T08:54:58.691242",
     "status": "completed"
    },
    "tags": []
   },
   "source": [
    "From the above analysis we found out that minimum number of movies were produced in the years of 1966,1961,1946,1963, 1947 and possibly more."
   ]
  },
  {
   "cell_type": "markdown",
   "metadata": {
    "papermill": {
     "duration": 0.031519,
     "end_time": "2023-11-28T08:54:58.785733",
     "exception": false,
     "start_time": "2023-11-28T08:54:58.754214",
     "status": "completed"
    },
    "tags": []
   },
   "source": [
    "# 5. What is the tv show with maximum duration/seasons?"
   ]
  },
  {
   "cell_type": "code",
   "execution_count": 14,
   "metadata": {
    "execution": {
     "iopub.execute_input": "2023-12-20T17:14:55.937934Z",
     "iopub.status.busy": "2023-12-20T17:14:55.937483Z",
     "iopub.status.idle": "2023-12-20T17:14:55.953708Z",
     "shell.execute_reply": "2023-12-20T17:14:55.952576Z",
     "shell.execute_reply.started": "2023-12-20T17:14:55.937910Z"
    },
    "papermill": {
     "duration": 0.065843,
     "end_time": "2023-11-28T08:54:58.883153",
     "exception": false,
     "start_time": "2023-11-28T08:54:58.817310",
     "status": "completed"
    },
    "tags": []
   },
   "outputs": [
    {
     "data": {
      "text/html": [
       "<div>\n",
       "<style scoped>\n",
       "    .dataframe tbody tr th:only-of-type {\n",
       "        vertical-align: middle;\n",
       "    }\n",
       "\n",
       "    .dataframe tbody tr th {\n",
       "        vertical-align: top;\n",
       "    }\n",
       "\n",
       "    .dataframe thead th {\n",
       "        text-align: right;\n",
       "    }\n",
       "</style>\n",
       "<table border=\"1\" class=\"dataframe\">\n",
       "  <thead>\n",
       "    <tr style=\"text-align: right;\">\n",
       "      <th></th>\n",
       "      <th>duration</th>\n",
       "      <th>count</th>\n",
       "    </tr>\n",
       "  </thead>\n",
       "  <tbody>\n",
       "    <tr>\n",
       "      <th>0</th>\n",
       "      <td>1 Season</td>\n",
       "      <td>1793</td>\n",
       "    </tr>\n",
       "    <tr>\n",
       "      <th>1</th>\n",
       "      <td>2 Seasons</td>\n",
       "      <td>425</td>\n",
       "    </tr>\n",
       "    <tr>\n",
       "      <th>2</th>\n",
       "      <td>3 Seasons</td>\n",
       "      <td>199</td>\n",
       "    </tr>\n",
       "    <tr>\n",
       "      <th>3</th>\n",
       "      <td>4 Seasons</td>\n",
       "      <td>95</td>\n",
       "    </tr>\n",
       "    <tr>\n",
       "      <th>4</th>\n",
       "      <td>5 Seasons</td>\n",
       "      <td>65</td>\n",
       "    </tr>\n",
       "    <tr>\n",
       "      <th>5</th>\n",
       "      <td>6 Seasons</td>\n",
       "      <td>33</td>\n",
       "    </tr>\n",
       "    <tr>\n",
       "      <th>6</th>\n",
       "      <td>7 Seasons</td>\n",
       "      <td>23</td>\n",
       "    </tr>\n",
       "    <tr>\n",
       "      <th>7</th>\n",
       "      <td>8 Seasons</td>\n",
       "      <td>17</td>\n",
       "    </tr>\n",
       "    <tr>\n",
       "      <th>8</th>\n",
       "      <td>9 Seasons</td>\n",
       "      <td>9</td>\n",
       "    </tr>\n",
       "    <tr>\n",
       "      <th>9</th>\n",
       "      <td>10 Seasons</td>\n",
       "      <td>7</td>\n",
       "    </tr>\n",
       "    <tr>\n",
       "      <th>10</th>\n",
       "      <td>13 Seasons</td>\n",
       "      <td>3</td>\n",
       "    </tr>\n",
       "    <tr>\n",
       "      <th>11</th>\n",
       "      <td>11 Seasons</td>\n",
       "      <td>2</td>\n",
       "    </tr>\n",
       "    <tr>\n",
       "      <th>12</th>\n",
       "      <td>12 Seasons</td>\n",
       "      <td>2</td>\n",
       "    </tr>\n",
       "    <tr>\n",
       "      <th>13</th>\n",
       "      <td>15 Seasons</td>\n",
       "      <td>2</td>\n",
       "    </tr>\n",
       "    <tr>\n",
       "      <th>14</th>\n",
       "      <td>17 Seasons</td>\n",
       "      <td>1</td>\n",
       "    </tr>\n",
       "  </tbody>\n",
       "</table>\n",
       "</div>"
      ],
      "text/plain": [
       "      duration  count\n",
       "0     1 Season   1793\n",
       "1    2 Seasons    425\n",
       "2    3 Seasons    199\n",
       "3    4 Seasons     95\n",
       "4    5 Seasons     65\n",
       "5    6 Seasons     33\n",
       "6    7 Seasons     23\n",
       "7    8 Seasons     17\n",
       "8    9 Seasons      9\n",
       "9   10 Seasons      7\n",
       "10  13 Seasons      3\n",
       "11  11 Seasons      2\n",
       "12  12 Seasons      2\n",
       "13  15 Seasons      2\n",
       "14  17 Seasons      1"
      ]
     },
     "execution_count": 14,
     "metadata": {},
     "output_type": "execute_result"
    }
   ],
   "source": [
    "data.loc[data['type'] == 'TV Show', ['duration']].value_counts().reset_index()"
   ]
  },
  {
   "cell_type": "code",
   "execution_count": 15,
   "metadata": {
    "execution": {
     "iopub.execute_input": "2023-12-20T17:14:55.956390Z",
     "iopub.status.busy": "2023-12-20T17:14:55.955725Z",
     "iopub.status.idle": "2023-12-20T17:14:55.977149Z",
     "shell.execute_reply": "2023-12-20T17:14:55.976086Z",
     "shell.execute_reply.started": "2023-12-20T17:14:55.956351Z"
    },
    "papermill": {
     "duration": 0.055507,
     "end_time": "2023-11-28T08:54:58.970461",
     "exception": false,
     "start_time": "2023-11-28T08:54:58.914954",
     "status": "completed"
    },
    "tags": []
   },
   "outputs": [
    {
     "data": {
      "text/html": [
       "<div>\n",
       "<style scoped>\n",
       "    .dataframe tbody tr th:only-of-type {\n",
       "        vertical-align: middle;\n",
       "    }\n",
       "\n",
       "    .dataframe tbody tr th {\n",
       "        vertical-align: top;\n",
       "    }\n",
       "\n",
       "    .dataframe thead th {\n",
       "        text-align: right;\n",
       "    }\n",
       "</style>\n",
       "<table border=\"1\" class=\"dataframe\">\n",
       "  <thead>\n",
       "    <tr style=\"text-align: right;\">\n",
       "      <th></th>\n",
       "      <th>show_id</th>\n",
       "      <th>type</th>\n",
       "      <th>title</th>\n",
       "      <th>director</th>\n",
       "      <th>cast</th>\n",
       "      <th>country</th>\n",
       "      <th>date_added</th>\n",
       "      <th>release_year</th>\n",
       "      <th>rating</th>\n",
       "      <th>duration</th>\n",
       "      <th>listed_in</th>\n",
       "      <th>description</th>\n",
       "    </tr>\n",
       "  </thead>\n",
       "  <tbody>\n",
       "    <tr>\n",
       "      <th>548</th>\n",
       "      <td>s549</td>\n",
       "      <td>TV Show</td>\n",
       "      <td>Grey's Anatomy</td>\n",
       "      <td>NaN</td>\n",
       "      <td>Ellen Pompeo, Sandra Oh, Katherine Heigl, Just...</td>\n",
       "      <td>United States</td>\n",
       "      <td>July 3, 2021</td>\n",
       "      <td>2020</td>\n",
       "      <td>TV-14</td>\n",
       "      <td>17 Seasons</td>\n",
       "      <td>Romantic TV Shows, TV Dramas</td>\n",
       "      <td>Intern (and eventual resident) Meredith Grey f...</td>\n",
       "    </tr>\n",
       "  </tbody>\n",
       "</table>\n",
       "</div>"
      ],
      "text/plain": [
       "    show_id     type           title director  \\\n",
       "548    s549  TV Show  Grey's Anatomy      NaN   \n",
       "\n",
       "                                                  cast        country  \\\n",
       "548  Ellen Pompeo, Sandra Oh, Katherine Heigl, Just...  United States   \n",
       "\n",
       "       date_added  release_year rating    duration  \\\n",
       "548  July 3, 2021          2020  TV-14  17 Seasons   \n",
       "\n",
       "                        listed_in  \\\n",
       "548  Romantic TV Shows, TV Dramas   \n",
       "\n",
       "                                           description  \n",
       "548  Intern (and eventual resident) Meredith Grey f...  "
      ]
     },
     "execution_count": 15,
     "metadata": {},
     "output_type": "execute_result"
    }
   ],
   "source": [
    "data.loc[data['duration'] == '17 Seasons', :]"
   ]
  },
  {
   "cell_type": "markdown",
   "metadata": {
    "papermill": {
     "duration": 0.032335,
     "end_time": "2023-11-28T08:54:59.035286",
     "exception": false,
     "start_time": "2023-11-28T08:54:59.002951",
     "status": "completed"
    },
    "tags": []
   },
   "source": [
    "From the above analysis we found out that Grey's Anatomy has the maximum seasons released among all the TV shows available on netflix."
   ]
  },
  {
   "cell_type": "markdown",
   "metadata": {
    "papermill": {
     "duration": 0.032502,
     "end_time": "2023-11-28T08:54:59.100159",
     "exception": false,
     "start_time": "2023-11-28T08:54:59.067657",
     "status": "completed"
    },
    "tags": []
   },
   "source": [
    "# 6. How many movies were produced in the last 10 years?"
   ]
  },
  {
   "cell_type": "code",
   "execution_count": 16,
   "metadata": {
    "execution": {
     "iopub.execute_input": "2023-12-20T17:14:55.979408Z",
     "iopub.status.busy": "2023-12-20T17:14:55.978515Z",
     "iopub.status.idle": "2023-12-20T17:14:55.996276Z",
     "shell.execute_reply": "2023-12-20T17:14:55.995302Z",
     "shell.execute_reply.started": "2023-12-20T17:14:55.979377Z"
    },
    "papermill": {
     "duration": 0.051049,
     "end_time": "2023-11-28T08:54:59.184870",
     "exception": false,
     "start_time": "2023-11-28T08:54:59.133821",
     "status": "completed"
    },
    "tags": []
   },
   "outputs": [
    {
     "data": {
      "text/plain": [
       "4281"
      ]
     },
     "execution_count": 16,
     "metadata": {},
     "output_type": "execute_result"
    }
   ],
   "source": [
    "data.loc[(data['type'] == 'Movie') & (data['release_year'] > 2013)].shape[0]"
   ]
  },
  {
   "cell_type": "markdown",
   "metadata": {
    "papermill": {
     "duration": 0.032517,
     "end_time": "2023-11-28T08:54:59.249667",
     "exception": false,
     "start_time": "2023-11-28T08:54:59.217150",
     "status": "completed"
    },
    "tags": []
   },
   "source": [
    "From the above code we can conclude that 4281 Movies were produced in the last 10 years."
   ]
  },
  {
   "cell_type": "markdown",
   "metadata": {
    "papermill": {
     "duration": 0.033681,
     "end_time": "2023-11-28T08:54:59.315545",
     "exception": false,
     "start_time": "2023-11-28T08:54:59.281864",
     "status": "completed"
    },
    "tags": []
   },
   "source": [
    "# 7. Which countries produced the most movies?\n"
   ]
  },
  {
   "cell_type": "code",
   "execution_count": 17,
   "metadata": {
    "execution": {
     "iopub.execute_input": "2023-12-20T17:14:55.998229Z",
     "iopub.status.busy": "2023-12-20T17:14:55.997464Z",
     "iopub.status.idle": "2023-12-20T17:14:56.008861Z",
     "shell.execute_reply": "2023-12-20T17:14:56.007952Z",
     "shell.execute_reply.started": "2023-12-20T17:14:55.998203Z"
    },
    "papermill": {
     "duration": 0.054334,
     "end_time": "2023-11-28T08:54:59.402066",
     "exception": false,
     "start_time": "2023-11-28T08:54:59.347732",
     "status": "completed"
    },
    "tags": []
   },
   "outputs": [
    {
     "data": {
      "text/plain": [
       "country\n",
       "United States                            2058\n",
       "India                                     893\n",
       "United Kingdom                            206\n",
       "Canada                                    122\n",
       "Spain                                      97\n",
       "                                         ... \n",
       "United Kingdom, Russia, United States       1\n",
       "Paraguay, Argentina                         1\n",
       "United Kingdom, Malawi                      1\n",
       "Austria, Iraq, United States                1\n",
       "United Arab Emirates, Jordan                1\n",
       "Name: count, Length: 651, dtype: int64"
      ]
     },
     "execution_count": 17,
     "metadata": {},
     "output_type": "execute_result"
    }
   ],
   "source": [
    "data.loc[data['type'] == 'Movie','country'].value_counts()"
   ]
  },
  {
   "cell_type": "markdown",
   "metadata": {
    "papermill": {
     "duration": 0.032013,
     "end_time": "2023-11-28T08:54:59.466906",
     "exception": false,
     "start_time": "2023-11-28T08:54:59.434893",
     "status": "completed"
    },
    "tags": []
   },
   "source": [
    "From the above analysis we can see that United states has produced the maximum number of movies."
   ]
  },
  {
   "cell_type": "markdown",
   "metadata": {
    "papermill": {
     "duration": 0.03186,
     "end_time": "2023-11-28T08:54:59.531207",
     "exception": false,
     "start_time": "2023-11-28T08:54:59.499347",
     "status": "completed"
    },
    "tags": []
   },
   "source": [
    "# 8. What is the most popular rating in TV shows?"
   ]
  },
  {
   "cell_type": "code",
   "execution_count": 18,
   "metadata": {
    "execution": {
     "iopub.execute_input": "2023-12-20T17:14:56.010715Z",
     "iopub.status.busy": "2023-12-20T17:14:56.010136Z",
     "iopub.status.idle": "2023-12-20T17:14:56.023572Z",
     "shell.execute_reply": "2023-12-20T17:14:56.022565Z",
     "shell.execute_reply.started": "2023-12-20T17:14:56.010688Z"
    },
    "papermill": {
     "duration": 0.050555,
     "end_time": "2023-11-28T08:54:59.614183",
     "exception": false,
     "start_time": "2023-11-28T08:54:59.563628",
     "status": "completed"
    },
    "tags": []
   },
   "outputs": [
    {
     "data": {
      "text/plain": [
       "<bound method Series.reset_index of rating\n",
       "TV-MA       1145\n",
       "TV-14        733\n",
       "TV-PG        323\n",
       "TV-Y7        195\n",
       "TV-Y         176\n",
       "TV-G          94\n",
       "NR             5\n",
       "R              2\n",
       "TV-Y7-FV       1\n",
       "Name: count, dtype: int64>"
      ]
     },
     "execution_count": 18,
     "metadata": {},
     "output_type": "execute_result"
    }
   ],
   "source": [
    "data.loc[data['type'] == 'TV Show', 'rating'].value_counts().reset_index"
   ]
  },
  {
   "cell_type": "markdown",
   "metadata": {
    "papermill": {
     "duration": 0.03379,
     "end_time": "2023-11-28T08:54:59.682965",
     "exception": false,
     "start_time": "2023-11-28T08:54:59.649175",
     "status": "completed"
    },
    "tags": []
   },
   "source": [
    "from the above analysis we can see the most popular rating is TV-MA."
   ]
  },
  {
   "cell_type": "markdown",
   "metadata": {
    "papermill": {
     "duration": 0.033344,
     "end_time": "2023-11-28T08:54:59.752748",
     "exception": false,
     "start_time": "2023-11-28T08:54:59.719404",
     "status": "completed"
    },
    "tags": []
   },
   "source": [
    " # 9. In which year were the most Adult rated movies produced?"
   ]
  },
  {
   "cell_type": "code",
   "execution_count": 19,
   "metadata": {
    "execution": {
     "iopub.execute_input": "2023-12-20T17:14:56.025642Z",
     "iopub.status.busy": "2023-12-20T17:14:56.025101Z",
     "iopub.status.idle": "2023-12-20T17:14:56.042819Z",
     "shell.execute_reply": "2023-12-20T17:14:56.041714Z",
     "shell.execute_reply.started": "2023-12-20T17:14:56.025615Z"
    },
    "papermill": {
     "duration": 0.053072,
     "end_time": "2023-11-28T08:54:59.839457",
     "exception": false,
     "start_time": "2023-11-28T08:54:59.786385",
     "status": "completed"
    },
    "tags": []
   },
   "outputs": [
    {
     "data": {
      "text/plain": [
       "release_year\n",
       "2018    358\n",
       "2017    337\n",
       "2019    286\n",
       "2016    273\n",
       "2020    220\n",
       "2015    135\n",
       "2021    110\n",
       "2014     62\n",
       "2013     48\n",
       "2012     41\n",
       "2010     33\n",
       "2008     20\n",
       "2011     20\n",
       "2006     13\n",
       "2007     12\n",
       "2003      8\n",
       "2004      8\n",
       "2009      8\n",
       "1998      7\n",
       "1991      5\n",
       "2002      5\n",
       "2005      4\n",
       "1999      4\n",
       "1983      4\n",
       "1993      3\n",
       "1990      3\n",
       "1997      3\n",
       "1992      3\n",
       "1978      2\n",
       "1975      2\n",
       "2001      2\n",
       "1982      2\n",
       "1989      2\n",
       "1979      2\n",
       "1985      2\n",
       "1963      1\n",
       "1981      1\n",
       "1984      1\n",
       "1945      1\n",
       "1973      1\n",
       "1976      1\n",
       "1986      1\n",
       "1988      1\n",
       "1970      1\n",
       "1994      1\n",
       "1977      1\n",
       "2000      1\n",
       "1972      1\n",
       "1987      1\n",
       "1967      1\n",
       "Name: count, dtype: int64"
      ]
     },
     "execution_count": 19,
     "metadata": {},
     "output_type": "execute_result"
    }
   ],
   "source": [
    "movie_rating = data.loc[(data['type'] == 'Movie') & (data['rating'] == 'TV-MA')]\n",
    "\n",
    "movie_rating.loc[: ,'release_year'].value_counts()"
   ]
  },
  {
   "cell_type": "markdown",
   "metadata": {
    "papermill": {
     "duration": 0.033754,
     "end_time": "2023-11-28T08:54:59.992238",
     "exception": false,
     "start_time": "2023-11-28T08:54:59.958484",
     "status": "completed"
    },
    "tags": []
   },
   "source": [
    "from the above analysis we can find out that in the year 2018 is the year of most movie produced. "
   ]
  },
  {
   "cell_type": "markdown",
   "metadata": {
    "papermill": {
     "duration": 0.035996,
     "end_time": "2023-11-28T08:55:00.064462",
     "exception": false,
     "start_time": "2023-11-28T08:55:00.028466",
     "status": "completed"
    },
    "tags": []
   },
   "source": [
    "# 10. Who is the most popular movie director from India?"
   ]
  },
  {
   "cell_type": "code",
   "execution_count": 20,
   "metadata": {
    "execution": {
     "iopub.execute_input": "2023-12-20T17:14:56.044365Z",
     "iopub.status.busy": "2023-12-20T17:14:56.044049Z",
     "iopub.status.idle": "2023-12-20T17:14:56.051870Z",
     "shell.execute_reply": "2023-12-20T17:14:56.051108Z",
     "shell.execute_reply.started": "2023-12-20T17:14:56.044338Z"
    },
    "papermill": {
     "duration": 0.053494,
     "end_time": "2023-11-28T08:55:00.152897",
     "exception": false,
     "start_time": "2023-11-28T08:55:00.099403",
     "status": "completed"
    },
    "tags": []
   },
   "outputs": [],
   "source": [
    "pop_dir = data.loc[(data['country'] == 'India') & (data['type'] == 'Movie')]"
   ]
  },
  {
   "cell_type": "code",
   "execution_count": 21,
   "metadata": {
    "execution": {
     "iopub.execute_input": "2023-12-20T17:14:56.053900Z",
     "iopub.status.busy": "2023-12-20T17:14:56.053086Z",
     "iopub.status.idle": "2023-12-20T17:14:56.070575Z",
     "shell.execute_reply": "2023-12-20T17:14:56.069258Z",
     "shell.execute_reply.started": "2023-12-20T17:14:56.053874Z"
    },
    "papermill": {
     "duration": 0.051167,
     "end_time": "2023-11-28T08:55:00.239977",
     "exception": false,
     "start_time": "2023-11-28T08:55:00.188810",
     "status": "completed"
    },
    "tags": []
   },
   "outputs": [
    {
     "data": {
      "text/plain": [
       "director\n",
       "David Dhawan          9\n",
       "Ram Gopal Varma       7\n",
       "Anees Bazmee          6\n",
       "Sooraj R. Barjatya    6\n",
       "Rajkumar Santoshi     6\n",
       "                     ..\n",
       "Manu Ashokan          1\n",
       "Saurabh Sinha         1\n",
       "Sunil Thakur          1\n",
       "Rai Yuvraj Bains      1\n",
       "Mozez Singh           1\n",
       "Name: count, Length: 637, dtype: int64"
      ]
     },
     "execution_count": 21,
     "metadata": {},
     "output_type": "execute_result"
    }
   ],
   "source": [
    "pop_dir.loc[: , 'director'].value_counts()"
   ]
  },
  {
   "cell_type": "markdown",
   "metadata": {
    "papermill": {
     "duration": 0.037072,
     "end_time": "2023-11-28T08:55:00.315054",
     "exception": false,
     "start_time": "2023-11-28T08:55:00.277982",
     "status": "completed"
    },
    "tags": []
   },
   "source": [
    "David dhawan from India is the most popular director for movies."
   ]
  },
  {
   "cell_type": "markdown",
   "metadata": {
    "papermill": {
     "duration": 0.033185,
     "end_time": "2023-11-28T08:55:00.383031",
     "exception": false,
     "start_time": "2023-11-28T08:55:00.349846",
     "status": "completed"
    },
    "tags": []
   },
   "source": [
    "# 11. Which movie is the smallest movie ever made?"
   ]
  },
  {
   "cell_type": "code",
   "execution_count": 22,
   "metadata": {
    "execution": {
     "iopub.execute_input": "2023-12-20T17:14:56.072305Z",
     "iopub.status.busy": "2023-12-20T17:14:56.072013Z",
     "iopub.status.idle": "2023-12-20T17:14:56.096514Z",
     "shell.execute_reply": "2023-12-20T17:14:56.095154Z",
     "shell.execute_reply.started": "2023-12-20T17:14:56.072281Z"
    },
    "papermill": {
     "duration": 0.059106,
     "end_time": "2023-11-28T08:55:00.475175",
     "exception": false,
     "start_time": "2023-11-28T08:55:00.416069",
     "status": "completed"
    },
    "tags": []
   },
   "outputs": [
    {
     "data": {
      "text/html": [
       "<div>\n",
       "<style scoped>\n",
       "    .dataframe tbody tr th:only-of-type {\n",
       "        vertical-align: middle;\n",
       "    }\n",
       "\n",
       "    .dataframe tbody tr th {\n",
       "        vertical-align: top;\n",
       "    }\n",
       "\n",
       "    .dataframe thead th {\n",
       "        text-align: right;\n",
       "    }\n",
       "</style>\n",
       "<table border=\"1\" class=\"dataframe\">\n",
       "  <thead>\n",
       "    <tr style=\"text-align: right;\">\n",
       "      <th></th>\n",
       "      <th>show_id</th>\n",
       "      <th>type</th>\n",
       "      <th>title</th>\n",
       "      <th>director</th>\n",
       "      <th>cast</th>\n",
       "      <th>country</th>\n",
       "      <th>date_added</th>\n",
       "      <th>release_year</th>\n",
       "      <th>rating</th>\n",
       "      <th>duration</th>\n",
       "      <th>listed_in</th>\n",
       "      <th>description</th>\n",
       "    </tr>\n",
       "  </thead>\n",
       "  <tbody>\n",
       "    <tr>\n",
       "      <th>1484</th>\n",
       "      <td>s1485</td>\n",
       "      <td>Movie</td>\n",
       "      <td>Cops and Robbers</td>\n",
       "      <td>Arnon Manor, Timothy Ware-Hill</td>\n",
       "      <td>Timothy Ware-Hill</td>\n",
       "      <td>United States</td>\n",
       "      <td>December 28, 2020</td>\n",
       "      <td>2020</td>\n",
       "      <td>PG-13</td>\n",
       "      <td>8 min</td>\n",
       "      <td>Dramas</td>\n",
       "      <td>Animation and activism unite in this multimedi...</td>\n",
       "    </tr>\n",
       "  </tbody>\n",
       "</table>\n",
       "</div>"
      ],
      "text/plain": [
       "     show_id   type             title                        director  \\\n",
       "1484   s1485  Movie  Cops and Robbers  Arnon Manor, Timothy Ware-Hill   \n",
       "\n",
       "                   cast        country         date_added  release_year  \\\n",
       "1484  Timothy Ware-Hill  United States  December 28, 2020          2020   \n",
       "\n",
       "     rating duration listed_in  \\\n",
       "1484  PG-13    8 min    Dramas   \n",
       "\n",
       "                                            description  \n",
       "1484  Animation and activism unite in this multimedi...  "
      ]
     },
     "execution_count": 22,
     "metadata": {},
     "output_type": "execute_result"
    }
   ],
   "source": [
    "data.loc[(data['type'] == 'Movie') & (data['duration'] == '8 min')]"
   ]
  },
  {
   "cell_type": "markdown",
   "metadata": {
    "papermill": {
     "duration": 0.034007,
     "end_time": "2023-11-28T08:55:00.542739",
     "exception": false,
     "start_time": "2023-11-28T08:55:00.508732",
     "status": "completed"
    },
    "tags": []
   },
   "source": [
    "from the above analysis we can see most probably the smallest movie in this data is Cops and Robbers."
   ]
  },
  {
   "cell_type": "markdown",
   "metadata": {
    "papermill": {
     "duration": 0.032917,
     "end_time": "2023-11-28T08:55:00.609017",
     "exception": false,
     "start_time": "2023-11-28T08:55:00.576100",
     "status": "completed"
    },
    "tags": []
   },
   "source": [
    "# 12. Did 2020 see any new TV shows being released? True/False?"
   ]
  },
  {
   "cell_type": "code",
   "execution_count": 23,
   "metadata": {
    "execution": {
     "iopub.execute_input": "2023-12-20T17:14:56.097924Z",
     "iopub.status.busy": "2023-12-20T17:14:56.097655Z",
     "iopub.status.idle": "2023-12-20T17:14:56.105978Z",
     "shell.execute_reply": "2023-12-20T17:14:56.104683Z",
     "shell.execute_reply.started": "2023-12-20T17:14:56.097900Z"
    },
    "papermill": {
     "duration": 0.048344,
     "end_time": "2023-11-28T08:55:00.690379",
     "exception": false,
     "start_time": "2023-11-28T08:55:00.642035",
     "status": "completed"
    },
    "tags": []
   },
   "outputs": [],
   "source": [
    "release_2020 = data.loc[(data['type'] == 'TV Show') & (data['release_year'] == 2020)]"
   ]
  },
  {
   "cell_type": "code",
   "execution_count": 24,
   "metadata": {
    "execution": {
     "iopub.execute_input": "2023-12-20T17:14:56.108336Z",
     "iopub.status.busy": "2023-12-20T17:14:56.107668Z",
     "iopub.status.idle": "2023-12-20T17:14:56.121667Z",
     "shell.execute_reply": "2023-12-20T17:14:56.120500Z",
     "shell.execute_reply.started": "2023-12-20T17:14:56.108304Z"
    },
    "papermill": {
     "duration": 0.046334,
     "end_time": "2023-11-28T08:55:00.771172",
     "exception": false,
     "start_time": "2023-11-28T08:55:00.724838",
     "status": "completed"
    },
    "tags": []
   },
   "outputs": [
    {
     "data": {
      "text/plain": [
       "type\n",
       "TV Show    436\n",
       "Name: count, dtype: int64"
      ]
     },
     "execution_count": 24,
     "metadata": {},
     "output_type": "execute_result"
    }
   ],
   "source": [
    "release_2020['type'].value_counts()"
   ]
  },
  {
   "cell_type": "markdown",
   "metadata": {
    "papermill": {
     "duration": 0.032817,
     "end_time": "2023-11-28T08:55:00.837314",
     "exception": false,
     "start_time": "2023-11-28T08:55:00.804497",
     "status": "completed"
    },
    "tags": []
   },
   "source": [
    "436 TV show were added in the year 2020 from the above data."
   ]
  },
  {
   "cell_type": "markdown",
   "metadata": {
    "papermill": {
     "duration": 0.033167,
     "end_time": "2023-11-28T08:55:00.904054",
     "exception": false,
     "start_time": "2023-11-28T08:55:00.870887",
     "status": "completed"
    },
    "tags": []
   },
   "source": [
    "# 13. How many categories of ratings exist?"
   ]
  },
  {
   "cell_type": "code",
   "execution_count": 25,
   "metadata": {
    "execution": {
     "iopub.execute_input": "2023-12-20T17:14:56.126582Z",
     "iopub.status.busy": "2023-12-20T17:14:56.125582Z",
     "iopub.status.idle": "2023-12-20T17:14:56.134750Z",
     "shell.execute_reply": "2023-12-20T17:14:56.133839Z",
     "shell.execute_reply.started": "2023-12-20T17:14:56.126544Z"
    },
    "papermill": {
     "duration": 0.047863,
     "end_time": "2023-11-28T08:55:00.985223",
     "exception": false,
     "start_time": "2023-11-28T08:55:00.937360",
     "status": "completed"
    },
    "tags": []
   },
   "outputs": [
    {
     "data": {
      "text/plain": [
       "17"
      ]
     },
     "execution_count": 25,
     "metadata": {},
     "output_type": "execute_result"
    }
   ],
   "source": [
    "data.loc[:, 'rating'].nunique()"
   ]
  },
  {
   "cell_type": "markdown",
   "metadata": {
    "papermill": {
     "duration": 0.035077,
     "end_time": "2023-11-28T08:55:01.058582",
     "exception": false,
     "start_time": "2023-11-28T08:55:01.023505",
     "status": "completed"
    },
    "tags": []
   },
   "source": [
    "there are 17 types of ratings among TV show and Movies together exist on Netflix."
   ]
  },
  {
   "cell_type": "markdown",
   "metadata": {
    "papermill": {
     "duration": 0.047213,
     "end_time": "2023-11-28T08:55:01.152866",
     "exception": false,
     "start_time": "2023-11-28T08:55:01.105653",
     "status": "completed"
    },
    "tags": []
   },
   "source": [
    "# 14. Does United States make more movies or tv shows?"
   ]
  },
  {
   "cell_type": "code",
   "execution_count": 26,
   "metadata": {
    "execution": {
     "iopub.execute_input": "2023-12-20T17:14:56.136950Z",
     "iopub.status.busy": "2023-12-20T17:14:56.136602Z",
     "iopub.status.idle": "2023-12-20T17:14:56.154016Z",
     "shell.execute_reply": "2023-12-20T17:14:56.153130Z",
     "shell.execute_reply.started": "2023-12-20T17:14:56.136925Z"
    },
    "papermill": {
     "duration": 0.06104,
     "end_time": "2023-11-28T08:55:01.249974",
     "exception": false,
     "start_time": "2023-11-28T08:55:01.188934",
     "status": "completed"
    },
    "tags": []
   },
   "outputs": [
    {
     "data": {
      "text/plain": [
       "760"
      ]
     },
     "execution_count": 26,
     "metadata": {},
     "output_type": "execute_result"
    }
   ],
   "source": [
    "data.loc[(data['country'] == 'United States') & (data['type'] == 'TV Show'), 'title'].nunique()"
   ]
  },
  {
   "cell_type": "code",
   "execution_count": 27,
   "metadata": {
    "execution": {
     "iopub.execute_input": "2023-12-20T17:14:56.155920Z",
     "iopub.status.busy": "2023-12-20T17:14:56.155426Z",
     "iopub.status.idle": "2023-12-20T17:14:56.172995Z",
     "shell.execute_reply": "2023-12-20T17:14:56.172212Z",
     "shell.execute_reply.started": "2023-12-20T17:14:56.155888Z"
    },
    "papermill": {
     "duration": 0.074014,
     "end_time": "2023-11-28T08:55:01.369857",
     "exception": false,
     "start_time": "2023-11-28T08:55:01.295843",
     "status": "completed"
    },
    "tags": []
   },
   "outputs": [
    {
     "data": {
      "text/plain": [
       "2058"
      ]
     },
     "execution_count": 27,
     "metadata": {},
     "output_type": "execute_result"
    }
   ],
   "source": [
    "data.loc[(data['country'] == 'United States') & (data['type'] == 'Movie'), 'title'].nunique()"
   ]
  },
  {
   "cell_type": "code",
   "execution_count": 28,
   "metadata": {
    "execution": {
     "iopub.execute_input": "2023-12-20T17:14:56.174779Z",
     "iopub.status.busy": "2023-12-20T17:14:56.174300Z",
     "iopub.status.idle": "2023-12-20T17:14:56.190382Z",
     "shell.execute_reply": "2023-12-20T17:14:56.189387Z",
     "shell.execute_reply.started": "2023-12-20T17:14:56.174737Z"
    },
    "papermill": {
     "duration": 0.05445,
     "end_time": "2023-11-28T08:55:01.461053",
     "exception": false,
     "start_time": "2023-11-28T08:55:01.406603",
     "status": "completed"
    },
    "tags": []
   },
   "outputs": [
    {
     "data": {
      "text/plain": [
       "type\n",
       "Movie      2058\n",
       "TV Show     760\n",
       "Name: count, dtype: int64"
      ]
     },
     "execution_count": 28,
     "metadata": {},
     "output_type": "execute_result"
    }
   ],
   "source": [
    "# alternate approach\n",
    "data.loc[(data['country'] == 'United States'), 'type'].value_counts()"
   ]
  },
  {
   "cell_type": "markdown",
   "metadata": {
    "papermill": {
     "duration": 0.040101,
     "end_time": "2023-11-28T08:55:01.536451",
     "exception": false,
     "start_time": "2023-11-28T08:55:01.496350",
     "status": "completed"
    },
    "tags": []
   },
   "source": [
    "if my above analysis is correct US makes more movies than TV shows. "
   ]
  },
  {
   "cell_type": "markdown",
   "metadata": {
    "papermill": {
     "duration": 0.03996,
     "end_time": "2023-11-28T08:55:01.619223",
     "exception": false,
     "start_time": "2023-11-28T08:55:01.579263",
     "status": "completed"
    },
    "tags": []
   },
   "source": [
    "# 15. Does United States make lengthier movies than India?"
   ]
  },
  {
   "cell_type": "code",
   "execution_count": 29,
   "metadata": {
    "execution": {
     "iopub.execute_input": "2023-12-20T17:14:56.192205Z",
     "iopub.status.busy": "2023-12-20T17:14:56.191863Z",
     "iopub.status.idle": "2023-12-20T17:14:56.232642Z",
     "shell.execute_reply": "2023-12-20T17:14:56.231478Z",
     "shell.execute_reply.started": "2023-12-20T17:14:56.192178Z"
    },
    "papermill": {
     "duration": 0.096715,
     "end_time": "2023-11-28T08:55:01.751306",
     "exception": false,
     "start_time": "2023-11-28T08:55:01.654591",
     "status": "completed"
    },
    "tags": []
   },
   "outputs": [
    {
     "data": {
      "text/html": [
       "<div>\n",
       "<style scoped>\n",
       "    .dataframe tbody tr th:only-of-type {\n",
       "        vertical-align: middle;\n",
       "    }\n",
       "\n",
       "    .dataframe tbody tr th {\n",
       "        vertical-align: top;\n",
       "    }\n",
       "\n",
       "    .dataframe thead th {\n",
       "        text-align: right;\n",
       "    }\n",
       "</style>\n",
       "<table border=\"1\" class=\"dataframe\">\n",
       "  <thead>\n",
       "    <tr style=\"text-align: right;\">\n",
       "      <th></th>\n",
       "      <th>show_id</th>\n",
       "      <th>type</th>\n",
       "      <th>title</th>\n",
       "      <th>director</th>\n",
       "      <th>cast</th>\n",
       "      <th>country</th>\n",
       "      <th>date_added</th>\n",
       "      <th>release_year</th>\n",
       "      <th>rating</th>\n",
       "      <th>duration</th>\n",
       "      <th>listed_in</th>\n",
       "      <th>description</th>\n",
       "      <th>duration_int</th>\n",
       "    </tr>\n",
       "  </thead>\n",
       "  <tbody>\n",
       "    <tr>\n",
       "      <th>0</th>\n",
       "      <td>s1</td>\n",
       "      <td>Movie</td>\n",
       "      <td>Dick Johnson Is Dead</td>\n",
       "      <td>Kirsten Johnson</td>\n",
       "      <td>NaN</td>\n",
       "      <td>United States</td>\n",
       "      <td>September 25, 2021</td>\n",
       "      <td>2020</td>\n",
       "      <td>PG-13</td>\n",
       "      <td>90 min</td>\n",
       "      <td>Documentaries</td>\n",
       "      <td>As her father nears the end of his life, filmm...</td>\n",
       "      <td>90</td>\n",
       "    </tr>\n",
       "    <tr>\n",
       "      <th>1</th>\n",
       "      <td>s2</td>\n",
       "      <td>TV Show</td>\n",
       "      <td>Blood &amp; Water</td>\n",
       "      <td>NaN</td>\n",
       "      <td>Ama Qamata, Khosi Ngema, Gail Mabalane, Thaban...</td>\n",
       "      <td>South Africa</td>\n",
       "      <td>September 24, 2021</td>\n",
       "      <td>2021</td>\n",
       "      <td>TV-MA</td>\n",
       "      <td>2 Seasons</td>\n",
       "      <td>International TV Shows, TV Dramas, TV Mysteries</td>\n",
       "      <td>After crossing paths at a party, a Cape Town t...</td>\n",
       "      <td>2</td>\n",
       "    </tr>\n",
       "    <tr>\n",
       "      <th>2</th>\n",
       "      <td>s3</td>\n",
       "      <td>TV Show</td>\n",
       "      <td>Ganglands</td>\n",
       "      <td>Julien Leclercq</td>\n",
       "      <td>Sami Bouajila, Tracy Gotoas, Samuel Jouy, Nabi...</td>\n",
       "      <td>NaN</td>\n",
       "      <td>September 24, 2021</td>\n",
       "      <td>2021</td>\n",
       "      <td>TV-MA</td>\n",
       "      <td>1 Season</td>\n",
       "      <td>Crime TV Shows, International TV Shows, TV Act...</td>\n",
       "      <td>To protect his family from a powerful drug lor...</td>\n",
       "      <td>1</td>\n",
       "    </tr>\n",
       "    <tr>\n",
       "      <th>3</th>\n",
       "      <td>s4</td>\n",
       "      <td>TV Show</td>\n",
       "      <td>Jailbirds New Orleans</td>\n",
       "      <td>NaN</td>\n",
       "      <td>NaN</td>\n",
       "      <td>NaN</td>\n",
       "      <td>September 24, 2021</td>\n",
       "      <td>2021</td>\n",
       "      <td>TV-MA</td>\n",
       "      <td>1 Season</td>\n",
       "      <td>Docuseries, Reality TV</td>\n",
       "      <td>Feuds, flirtations and toilet talk go down amo...</td>\n",
       "      <td>1</td>\n",
       "    </tr>\n",
       "    <tr>\n",
       "      <th>4</th>\n",
       "      <td>s5</td>\n",
       "      <td>TV Show</td>\n",
       "      <td>Kota Factory</td>\n",
       "      <td>NaN</td>\n",
       "      <td>Mayur More, Jitendra Kumar, Ranjan Raj, Alam K...</td>\n",
       "      <td>India</td>\n",
       "      <td>September 24, 2021</td>\n",
       "      <td>2021</td>\n",
       "      <td>TV-MA</td>\n",
       "      <td>2 Seasons</td>\n",
       "      <td>International TV Shows, Romantic TV Shows, TV ...</td>\n",
       "      <td>In a city of coaching centers known to train I...</td>\n",
       "      <td>2</td>\n",
       "    </tr>\n",
       "    <tr>\n",
       "      <th>...</th>\n",
       "      <td>...</td>\n",
       "      <td>...</td>\n",
       "      <td>...</td>\n",
       "      <td>...</td>\n",
       "      <td>...</td>\n",
       "      <td>...</td>\n",
       "      <td>...</td>\n",
       "      <td>...</td>\n",
       "      <td>...</td>\n",
       "      <td>...</td>\n",
       "      <td>...</td>\n",
       "      <td>...</td>\n",
       "      <td>...</td>\n",
       "    </tr>\n",
       "    <tr>\n",
       "      <th>8802</th>\n",
       "      <td>s8803</td>\n",
       "      <td>Movie</td>\n",
       "      <td>Zodiac</td>\n",
       "      <td>David Fincher</td>\n",
       "      <td>Mark Ruffalo, Jake Gyllenhaal, Robert Downey J...</td>\n",
       "      <td>United States</td>\n",
       "      <td>November 20, 2019</td>\n",
       "      <td>2007</td>\n",
       "      <td>R</td>\n",
       "      <td>158 min</td>\n",
       "      <td>Cult Movies, Dramas, Thrillers</td>\n",
       "      <td>A political cartoonist, a crime reporter and a...</td>\n",
       "      <td>158</td>\n",
       "    </tr>\n",
       "    <tr>\n",
       "      <th>8803</th>\n",
       "      <td>s8804</td>\n",
       "      <td>TV Show</td>\n",
       "      <td>Zombie Dumb</td>\n",
       "      <td>NaN</td>\n",
       "      <td>NaN</td>\n",
       "      <td>NaN</td>\n",
       "      <td>July 1, 2019</td>\n",
       "      <td>2018</td>\n",
       "      <td>TV-Y7</td>\n",
       "      <td>2 Seasons</td>\n",
       "      <td>Kids' TV, Korean TV Shows, TV Comedies</td>\n",
       "      <td>While living alone in a spooky town, a young g...</td>\n",
       "      <td>2</td>\n",
       "    </tr>\n",
       "    <tr>\n",
       "      <th>8804</th>\n",
       "      <td>s8805</td>\n",
       "      <td>Movie</td>\n",
       "      <td>Zombieland</td>\n",
       "      <td>Ruben Fleischer</td>\n",
       "      <td>Jesse Eisenberg, Woody Harrelson, Emma Stone, ...</td>\n",
       "      <td>United States</td>\n",
       "      <td>November 1, 2019</td>\n",
       "      <td>2009</td>\n",
       "      <td>R</td>\n",
       "      <td>88 min</td>\n",
       "      <td>Comedies, Horror Movies</td>\n",
       "      <td>Looking to survive in a world taken over by zo...</td>\n",
       "      <td>88</td>\n",
       "    </tr>\n",
       "    <tr>\n",
       "      <th>8805</th>\n",
       "      <td>s8806</td>\n",
       "      <td>Movie</td>\n",
       "      <td>Zoom</td>\n",
       "      <td>Peter Hewitt</td>\n",
       "      <td>Tim Allen, Courteney Cox, Chevy Chase, Kate Ma...</td>\n",
       "      <td>United States</td>\n",
       "      <td>January 11, 2020</td>\n",
       "      <td>2006</td>\n",
       "      <td>PG</td>\n",
       "      <td>88 min</td>\n",
       "      <td>Children &amp; Family Movies, Comedies</td>\n",
       "      <td>Dragged from civilian life, a former superhero...</td>\n",
       "      <td>88</td>\n",
       "    </tr>\n",
       "    <tr>\n",
       "      <th>8806</th>\n",
       "      <td>s8807</td>\n",
       "      <td>Movie</td>\n",
       "      <td>Zubaan</td>\n",
       "      <td>Mozez Singh</td>\n",
       "      <td>Vicky Kaushal, Sarah-Jane Dias, Raaghav Chanan...</td>\n",
       "      <td>India</td>\n",
       "      <td>March 2, 2019</td>\n",
       "      <td>2015</td>\n",
       "      <td>TV-14</td>\n",
       "      <td>111 min</td>\n",
       "      <td>Dramas, International Movies, Music &amp; Musicals</td>\n",
       "      <td>A scrappy but poor boy worms his way into a ty...</td>\n",
       "      <td>111</td>\n",
       "    </tr>\n",
       "  </tbody>\n",
       "</table>\n",
       "<p>8807 rows × 13 columns</p>\n",
       "</div>"
      ],
      "text/plain": [
       "     show_id     type                  title         director  \\\n",
       "0         s1    Movie   Dick Johnson Is Dead  Kirsten Johnson   \n",
       "1         s2  TV Show          Blood & Water              NaN   \n",
       "2         s3  TV Show              Ganglands  Julien Leclercq   \n",
       "3         s4  TV Show  Jailbirds New Orleans              NaN   \n",
       "4         s5  TV Show           Kota Factory              NaN   \n",
       "...      ...      ...                    ...              ...   \n",
       "8802   s8803    Movie                 Zodiac    David Fincher   \n",
       "8803   s8804  TV Show            Zombie Dumb              NaN   \n",
       "8804   s8805    Movie             Zombieland  Ruben Fleischer   \n",
       "8805   s8806    Movie                   Zoom     Peter Hewitt   \n",
       "8806   s8807    Movie                 Zubaan      Mozez Singh   \n",
       "\n",
       "                                                   cast        country  \\\n",
       "0                                                   NaN  United States   \n",
       "1     Ama Qamata, Khosi Ngema, Gail Mabalane, Thaban...   South Africa   \n",
       "2     Sami Bouajila, Tracy Gotoas, Samuel Jouy, Nabi...            NaN   \n",
       "3                                                   NaN            NaN   \n",
       "4     Mayur More, Jitendra Kumar, Ranjan Raj, Alam K...          India   \n",
       "...                                                 ...            ...   \n",
       "8802  Mark Ruffalo, Jake Gyllenhaal, Robert Downey J...  United States   \n",
       "8803                                                NaN            NaN   \n",
       "8804  Jesse Eisenberg, Woody Harrelson, Emma Stone, ...  United States   \n",
       "8805  Tim Allen, Courteney Cox, Chevy Chase, Kate Ma...  United States   \n",
       "8806  Vicky Kaushal, Sarah-Jane Dias, Raaghav Chanan...          India   \n",
       "\n",
       "              date_added  release_year rating   duration  \\\n",
       "0     September 25, 2021          2020  PG-13     90 min   \n",
       "1     September 24, 2021          2021  TV-MA  2 Seasons   \n",
       "2     September 24, 2021          2021  TV-MA   1 Season   \n",
       "3     September 24, 2021          2021  TV-MA   1 Season   \n",
       "4     September 24, 2021          2021  TV-MA  2 Seasons   \n",
       "...                  ...           ...    ...        ...   \n",
       "8802   November 20, 2019          2007      R    158 min   \n",
       "8803        July 1, 2019          2018  TV-Y7  2 Seasons   \n",
       "8804    November 1, 2019          2009      R     88 min   \n",
       "8805    January 11, 2020          2006     PG     88 min   \n",
       "8806       March 2, 2019          2015  TV-14    111 min   \n",
       "\n",
       "                                              listed_in  \\\n",
       "0                                         Documentaries   \n",
       "1       International TV Shows, TV Dramas, TV Mysteries   \n",
       "2     Crime TV Shows, International TV Shows, TV Act...   \n",
       "3                                Docuseries, Reality TV   \n",
       "4     International TV Shows, Romantic TV Shows, TV ...   \n",
       "...                                                 ...   \n",
       "8802                     Cult Movies, Dramas, Thrillers   \n",
       "8803             Kids' TV, Korean TV Shows, TV Comedies   \n",
       "8804                            Comedies, Horror Movies   \n",
       "8805                 Children & Family Movies, Comedies   \n",
       "8806     Dramas, International Movies, Music & Musicals   \n",
       "\n",
       "                                            description  duration_int  \n",
       "0     As her father nears the end of his life, filmm...            90  \n",
       "1     After crossing paths at a party, a Cape Town t...             2  \n",
       "2     To protect his family from a powerful drug lor...             1  \n",
       "3     Feuds, flirtations and toilet talk go down amo...             1  \n",
       "4     In a city of coaching centers known to train I...             2  \n",
       "...                                                 ...           ...  \n",
       "8802  A political cartoonist, a crime reporter and a...           158  \n",
       "8803  While living alone in a spooky town, a young g...             2  \n",
       "8804  Looking to survive in a world taken over by zo...            88  \n",
       "8805  Dragged from civilian life, a former superhero...            88  \n",
       "8806  A scrappy but poor boy worms his way into a ty...           111  \n",
       "\n",
       "[8807 rows x 13 columns]"
      ]
     },
     "execution_count": 29,
     "metadata": {},
     "output_type": "execute_result"
    }
   ],
   "source": [
    "data['duration_int'] = data['duration'].str.extract(r'(\\d+)') \n",
    "data['duration_int'] = data['duration_int'].fillna(0).astype(int)\n",
    "data"
   ]
  },
  {
   "cell_type": "code",
   "execution_count": 30,
   "metadata": {
    "execution": {
     "iopub.execute_input": "2023-12-20T17:14:56.234736Z",
     "iopub.status.busy": "2023-12-20T17:14:56.234422Z",
     "iopub.status.idle": "2023-12-20T17:14:56.257081Z",
     "shell.execute_reply": "2023-12-20T17:14:56.256187Z",
     "shell.execute_reply.started": "2023-12-20T17:14:56.234707Z"
    },
    "papermill": {
     "duration": 0.063546,
     "end_time": "2023-11-28T08:55:01.852037",
     "exception": false,
     "start_time": "2023-11-28T08:55:01.788491",
     "status": "completed"
    },
    "tags": []
   },
   "outputs": [
    {
     "data": {
      "text/html": [
       "<div>\n",
       "<style scoped>\n",
       "    .dataframe tbody tr th:only-of-type {\n",
       "        vertical-align: middle;\n",
       "    }\n",
       "\n",
       "    .dataframe tbody tr th {\n",
       "        vertical-align: top;\n",
       "    }\n",
       "\n",
       "    .dataframe thead th {\n",
       "        text-align: right;\n",
       "    }\n",
       "</style>\n",
       "<table border=\"1\" class=\"dataframe\">\n",
       "  <thead>\n",
       "    <tr style=\"text-align: right;\">\n",
       "      <th></th>\n",
       "      <th>type</th>\n",
       "      <th>country</th>\n",
       "      <th>duration_int</th>\n",
       "    </tr>\n",
       "  </thead>\n",
       "  <tbody>\n",
       "    <tr>\n",
       "      <th>0</th>\n",
       "      <td>Movie</td>\n",
       "      <td>United States</td>\n",
       "      <td>90</td>\n",
       "    </tr>\n",
       "    <tr>\n",
       "      <th>9</th>\n",
       "      <td>Movie</td>\n",
       "      <td>United States</td>\n",
       "      <td>104</td>\n",
       "    </tr>\n",
       "    <tr>\n",
       "      <th>24</th>\n",
       "      <td>Movie</td>\n",
       "      <td>India</td>\n",
       "      <td>166</td>\n",
       "    </tr>\n",
       "    <tr>\n",
       "      <th>27</th>\n",
       "      <td>Movie</td>\n",
       "      <td>United States</td>\n",
       "      <td>103</td>\n",
       "    </tr>\n",
       "    <tr>\n",
       "      <th>28</th>\n",
       "      <td>Movie</td>\n",
       "      <td>United States</td>\n",
       "      <td>97</td>\n",
       "    </tr>\n",
       "  </tbody>\n",
       "</table>\n",
       "</div>"
      ],
      "text/plain": [
       "     type        country  duration_int\n",
       "0   Movie  United States            90\n",
       "9   Movie  United States           104\n",
       "24  Movie          India           166\n",
       "27  Movie  United States           103\n",
       "28  Movie  United States            97"
      ]
     },
     "execution_count": 30,
     "metadata": {},
     "output_type": "execute_result"
    }
   ],
   "source": [
    "data_movies = data[['type', 'country', 'duration_int']].query(\"type == 'Movie' and country in ('United States', 'India')\")\n",
    "data_movies.head()"
   ]
  },
  {
   "cell_type": "code",
   "execution_count": 31,
   "metadata": {
    "execution": {
     "iopub.execute_input": "2023-12-20T17:14:56.258941Z",
     "iopub.status.busy": "2023-12-20T17:14:56.258632Z",
     "iopub.status.idle": "2023-12-20T17:14:56.269573Z",
     "shell.execute_reply": "2023-12-20T17:14:56.268580Z",
     "shell.execute_reply.started": "2023-12-20T17:14:56.258904Z"
    },
    "papermill": {
     "duration": 0.057014,
     "end_time": "2023-11-28T08:55:01.947621",
     "exception": false,
     "start_time": "2023-11-28T08:55:01.890607",
     "status": "completed"
    },
    "tags": []
   },
   "outputs": [
    {
     "data": {
      "text/plain": [
       "country\n",
       "India            126.922732\n",
       "United States     90.497570\n",
       "Name: duration_int, dtype: float64"
      ]
     },
     "execution_count": 31,
     "metadata": {},
     "output_type": "execute_result"
    }
   ],
   "source": [
    "data_movies.groupby('country')['duration_int'].mean()"
   ]
  },
  {
   "cell_type": "markdown",
   "metadata": {
    "papermill": {
     "duration": 0.038753,
     "end_time": "2023-11-28T08:55:02.024821",
     "exception": false,
     "start_time": "2023-11-28T08:55:01.986068",
     "status": "completed"
    },
    "tags": []
   },
   "source": [
    "from the above analysis we can say that India makes lenthier movies than Unites States make."
   ]
  },
  {
   "cell_type": "markdown",
   "metadata": {
    "papermill": {
     "duration": 0.038006,
     "end_time": "2023-11-28T08:55:02.103198",
     "exception": false,
     "start_time": "2023-11-28T08:55:02.065192",
     "status": "completed"
    },
    "tags": []
   },
   "source": [
    "# 16. Was there a tv/show that was released on Feb 29 of any year?"
   ]
  },
  {
   "cell_type": "code",
   "execution_count": 32,
   "metadata": {
    "execution": {
     "iopub.execute_input": "2023-12-20T17:14:56.271494Z",
     "iopub.status.busy": "2023-12-20T17:14:56.271201Z",
     "iopub.status.idle": "2023-12-20T17:14:56.282980Z",
     "shell.execute_reply": "2023-12-20T17:14:56.281741Z",
     "shell.execute_reply.started": "2023-12-20T17:14:56.271469Z"
    },
    "papermill": {
     "duration": 0.050049,
     "end_time": "2023-11-28T08:55:02.194108",
     "exception": false,
     "start_time": "2023-11-28T08:55:02.144059",
     "status": "completed"
    },
    "tags": []
   },
   "outputs": [
    {
     "data": {
      "text/plain": [
       "show_id         object\n",
       "type            object\n",
       "title           object\n",
       "director        object\n",
       "cast            object\n",
       "country         object\n",
       "date_added      object\n",
       "release_year     int64\n",
       "rating          object\n",
       "duration        object\n",
       "listed_in       object\n",
       "description     object\n",
       "duration_int     int64\n",
       "dtype: object"
      ]
     },
     "execution_count": 32,
     "metadata": {},
     "output_type": "execute_result"
    }
   ],
   "source": [
    "data.dtypes"
   ]
  },
  {
   "cell_type": "code",
   "execution_count": 33,
   "metadata": {
    "execution": {
     "iopub.execute_input": "2023-12-20T17:14:56.285269Z",
     "iopub.status.busy": "2023-12-20T17:14:56.284297Z",
     "iopub.status.idle": "2023-12-20T17:14:56.306173Z",
     "shell.execute_reply": "2023-12-20T17:14:56.304947Z",
     "shell.execute_reply.started": "2023-12-20T17:14:56.285238Z"
    },
    "papermill": {
     "duration": 0.067051,
     "end_time": "2023-11-28T08:55:02.300690",
     "exception": false,
     "start_time": "2023-11-28T08:55:02.233639",
     "status": "completed"
    },
    "tags": []
   },
   "outputs": [
    {
     "data": {
      "text/html": [
       "<div>\n",
       "<style scoped>\n",
       "    .dataframe tbody tr th:only-of-type {\n",
       "        vertical-align: middle;\n",
       "    }\n",
       "\n",
       "    .dataframe tbody tr th {\n",
       "        vertical-align: top;\n",
       "    }\n",
       "\n",
       "    .dataframe thead th {\n",
       "        text-align: right;\n",
       "    }\n",
       "</style>\n",
       "<table border=\"1\" class=\"dataframe\">\n",
       "  <thead>\n",
       "    <tr style=\"text-align: right;\">\n",
       "      <th></th>\n",
       "      <th>show_id</th>\n",
       "      <th>type</th>\n",
       "      <th>title</th>\n",
       "      <th>director</th>\n",
       "      <th>cast</th>\n",
       "      <th>country</th>\n",
       "      <th>date_added</th>\n",
       "      <th>release_year</th>\n",
       "      <th>rating</th>\n",
       "      <th>duration</th>\n",
       "      <th>listed_in</th>\n",
       "      <th>description</th>\n",
       "      <th>duration_int</th>\n",
       "    </tr>\n",
       "  </thead>\n",
       "  <tbody>\n",
       "  </tbody>\n",
       "</table>\n",
       "</div>"
      ],
      "text/plain": [
       "Empty DataFrame\n",
       "Columns: [show_id, type, title, director, cast, country, date_added, release_year, rating, duration, listed_in, description, duration_int]\n",
       "Index: []"
      ]
     },
     "execution_count": 33,
     "metadata": {},
     "output_type": "execute_result"
    }
   ],
   "source": [
    "data.loc[data['date_added'].fillna(\"na\").str.contains(\"February 29\"),:]"
   ]
  },
  {
   "cell_type": "markdown",
   "metadata": {
    "papermill": {
     "duration": 0.036841,
     "end_time": "2023-11-28T08:55:02.376546",
     "exception": false,
     "start_time": "2023-11-28T08:55:02.339705",
     "status": "completed"
    },
    "tags": []
   },
   "source": [
    "From the above analysis we can say that we dont have any TV show added on 29th Feb."
   ]
  },
  {
   "cell_type": "markdown",
   "metadata": {
    "papermill": {
     "duration": 0.035136,
     "end_time": "2023-11-28T08:55:02.447428",
     "exception": false,
     "start_time": "2023-11-28T08:55:02.412292",
     "status": "completed"
    },
    "tags": []
   },
   "source": [
    "# 17. Which directors produced atleast one movie in 2021?"
   ]
  },
  {
   "cell_type": "code",
   "execution_count": 34,
   "metadata": {
    "execution": {
     "iopub.execute_input": "2023-12-20T17:14:56.308414Z",
     "iopub.status.busy": "2023-12-20T17:14:56.308042Z",
     "iopub.status.idle": "2023-12-20T17:14:56.320932Z",
     "shell.execute_reply": "2023-12-20T17:14:56.320052Z",
     "shell.execute_reply.started": "2023-12-20T17:14:56.308386Z"
    },
    "papermill": {
     "duration": 0.050699,
     "end_time": "2023-11-28T08:55:02.533449",
     "exception": false,
     "start_time": "2023-11-28T08:55:02.482750",
     "status": "completed"
    },
    "tags": []
   },
   "outputs": [],
   "source": [
    "release_year = data.loc[(data['type'] == 'Movie') & (data['release_year'] == 2021)]"
   ]
  },
  {
   "cell_type": "code",
   "execution_count": 35,
   "metadata": {
    "execution": {
     "iopub.execute_input": "2023-12-20T17:14:56.322397Z",
     "iopub.status.busy": "2023-12-20T17:14:56.322108Z",
     "iopub.status.idle": "2023-12-20T17:14:56.340809Z",
     "shell.execute_reply": "2023-12-20T17:14:56.339565Z",
     "shell.execute_reply.started": "2023-12-20T17:14:56.322371Z"
    },
    "papermill": {
     "duration": 0.0556,
     "end_time": "2023-11-28T08:55:02.625061",
     "exception": false,
     "start_time": "2023-11-28T08:55:02.569461",
     "status": "completed"
    },
    "tags": []
   },
   "outputs": [
    {
     "data": {
      "text/plain": [
       "director           \n",
       "Rathindran R Prasad    4\n",
       "Leigh Janiak           3\n",
       "Troy Miller            2\n",
       "Ben Simms              2\n",
       "Keishi Otomo           2\n",
       "                      ..\n",
       "Hemambar Jasti         1\n",
       "Ivan Ayr               1\n",
       "J Blakeson             1\n",
       "Jakub Piątek           1\n",
       "Zhao Ji                1\n",
       "Name: count, Length: 241, dtype: int64"
      ]
     },
     "execution_count": 35,
     "metadata": {},
     "output_type": "execute_result"
    }
   ],
   "source": [
    "pd.DataFrame(release_year.loc[:, 'director']).value_counts()"
   ]
  },
  {
   "cell_type": "markdown",
   "metadata": {
    "papermill": {
     "duration": 0.035239,
     "end_time": "2023-11-28T08:55:02.696763",
     "exception": false,
     "start_time": "2023-11-28T08:55:02.661524",
     "status": "completed"
    },
    "tags": []
   },
   "source": [
    "above is the list of directors who have produced movies in 2021."
   ]
  },
  {
   "cell_type": "markdown",
   "metadata": {
    "papermill": {
     "duration": 0.035219,
     "end_time": "2023-11-28T08:55:02.767527",
     "exception": false,
     "start_time": "2023-11-28T08:55:02.732308",
     "status": "completed"
    },
    "tags": []
   },
   "source": [
    "# 18. How many unique TV shows and movies are there in the dataset?"
   ]
  },
  {
   "cell_type": "code",
   "execution_count": 36,
   "metadata": {
    "execution": {
     "iopub.execute_input": "2023-12-20T17:14:56.342739Z",
     "iopub.status.busy": "2023-12-20T17:14:56.342401Z",
     "iopub.status.idle": "2023-12-20T17:14:56.380297Z",
     "shell.execute_reply": "2023-12-20T17:14:56.379290Z",
     "shell.execute_reply.started": "2023-12-20T17:14:56.342711Z"
    },
    "papermill": {
     "duration": 0.097025,
     "end_time": "2023-11-28T08:55:02.900155",
     "exception": false,
     "start_time": "2023-11-28T08:55:02.803130",
     "status": "completed"
    },
    "tags": []
   },
   "outputs": [
    {
     "data": {
      "text/plain": [
       "type\n",
       "Movie      6131\n",
       "TV Show    2676\n",
       "Name: title, dtype: int64"
      ]
     },
     "execution_count": 36,
     "metadata": {},
     "output_type": "execute_result"
    }
   ],
   "source": [
    "data.groupby('type').nunique().loc[:, 'title']"
   ]
  },
  {
   "cell_type": "markdown",
   "metadata": {
    "papermill": {
     "duration": 0.03902,
     "end_time": "2023-11-28T08:55:02.976973",
     "exception": false,
     "start_time": "2023-11-28T08:55:02.937953",
     "status": "completed"
    },
    "tags": []
   },
   "source": [
    "There are 6131 movies and 2676 TV shows in the dataset."
   ]
  },
  {
   "cell_type": "markdown",
   "metadata": {
    "papermill": {
     "duration": 0.040273,
     "end_time": "2023-11-28T08:55:03.059734",
     "exception": false,
     "start_time": "2023-11-28T08:55:03.019461",
     "status": "completed"
    },
    "tags": []
   },
   "source": [
    "# 19. How many TV shows and movies are there per country? "
   ]
  },
  {
   "cell_type": "code",
   "execution_count": 37,
   "metadata": {
    "execution": {
     "iopub.execute_input": "2023-12-20T17:14:56.382151Z",
     "iopub.status.busy": "2023-12-20T17:14:56.381739Z",
     "iopub.status.idle": "2023-12-20T17:14:56.421473Z",
     "shell.execute_reply": "2023-12-20T17:14:56.420368Z",
     "shell.execute_reply.started": "2023-12-20T17:14:56.382116Z"
    },
    "papermill": {
     "duration": 0.109083,
     "end_time": "2023-11-28T08:55:03.209540",
     "exception": false,
     "start_time": "2023-11-28T08:55:03.100457",
     "status": "completed"
    },
    "tags": []
   },
   "outputs": [
    {
     "data": {
      "text/plain": [
       "country                                              type   \n",
       ", France, Algeria                                    Movie       1\n",
       ", South Korea                                        TV Show     1\n",
       "Argentina                                            Movie      38\n",
       "                                                     TV Show    18\n",
       "Argentina, Brazil, France, Poland, Germany, Denmark  Movie       1\n",
       "                                                                ..\n",
       "Venezuela                                            Movie       1\n",
       "Venezuela, Colombia                                  Movie       1\n",
       "Vietnam                                              Movie       7\n",
       "West Germany                                         Movie       1\n",
       "Zimbabwe                                             Movie       1\n",
       "Name: title, Length: 847, dtype: int64"
      ]
     },
     "execution_count": 37,
     "metadata": {},
     "output_type": "execute_result"
    }
   ],
   "source": [
    "data.groupby(['country', 'type']).nunique().loc[:, 'title']\n"
   ]
  },
  {
   "cell_type": "markdown",
   "metadata": {
    "papermill": {
     "duration": 0.041295,
     "end_time": "2023-11-28T08:55:03.292201",
     "exception": false,
     "start_time": "2023-11-28T08:55:03.250906",
     "status": "completed"
    },
    "tags": []
   },
   "source": [
    "# 20. What is the average duration of a movie in the dataset?"
   ]
  },
  {
   "cell_type": "code",
   "execution_count": 38,
   "metadata": {
    "execution": {
     "iopub.execute_input": "2023-12-20T17:14:56.423257Z",
     "iopub.status.busy": "2023-12-20T17:14:56.422899Z",
     "iopub.status.idle": "2023-12-20T17:14:56.446552Z",
     "shell.execute_reply": "2023-12-20T17:14:56.445138Z",
     "shell.execute_reply.started": "2023-12-20T17:14:56.423228Z"
    },
    "papermill": {
     "duration": 0.083,
     "end_time": "2023-11-28T08:55:03.416006",
     "exception": false,
     "start_time": "2023-11-28T08:55:03.333006",
     "status": "completed"
    },
    "tags": []
   },
   "outputs": [
    {
     "data": {
      "text/plain": [
       "99.52846191485891"
      ]
     },
     "execution_count": 38,
     "metadata": {},
     "output_type": "execute_result"
    }
   ],
   "source": [
    "data['duration_int'] = data['duration'].str.extract(r'(\\d+)')\n",
    "data['duration_int'] = data['duration_int'].fillna(0).astype(int)\n",
    "data.loc[data['type'] == 'Movie','duration_int'].mean()                             "
   ]
  },
  {
   "cell_type": "markdown",
   "metadata": {
    "papermill": {
     "duration": 0.036835,
     "end_time": "2023-11-28T08:55:03.489451",
     "exception": false,
     "start_time": "2023-11-28T08:55:03.452616",
     "status": "completed"
    },
    "tags": []
   },
   "source": [
    "from the above analysis the average duration of movie in the dataset is 99.528 min."
   ]
  },
  {
   "cell_type": "markdown",
   "metadata": {
    "papermill": {
     "duration": 0.036155,
     "end_time": "2023-11-28T08:55:03.563413",
     "exception": false,
     "start_time": "2023-11-28T08:55:03.527258",
     "status": "completed"
    },
    "tags": []
   },
   "source": [
    "# 21. How many movies and TV shows were added to Netflix each year?"
   ]
  },
  {
   "cell_type": "code",
   "execution_count": 39,
   "metadata": {
    "execution": {
     "iopub.execute_input": "2023-12-20T17:14:56.447907Z",
     "iopub.status.busy": "2023-12-20T17:14:56.447618Z",
     "iopub.status.idle": "2023-12-20T17:14:56.487491Z",
     "shell.execute_reply": "2023-12-20T17:14:56.486520Z",
     "shell.execute_reply.started": "2023-12-20T17:14:56.447884Z"
    },
    "papermill": {
     "duration": 0.097035,
     "end_time": "2023-11-28T08:55:03.696923",
     "exception": false,
     "start_time": "2023-11-28T08:55:03.599888",
     "status": "completed"
    },
    "tags": []
   },
   "outputs": [
    {
     "data": {
      "text/html": [
       "<div>\n",
       "<style scoped>\n",
       "    .dataframe tbody tr th:only-of-type {\n",
       "        vertical-align: middle;\n",
       "    }\n",
       "\n",
       "    .dataframe tbody tr th {\n",
       "        vertical-align: top;\n",
       "    }\n",
       "\n",
       "    .dataframe thead th {\n",
       "        text-align: right;\n",
       "    }\n",
       "</style>\n",
       "<table border=\"1\" class=\"dataframe\">\n",
       "  <thead>\n",
       "    <tr style=\"text-align: right;\">\n",
       "      <th></th>\n",
       "      <th>type</th>\n",
       "      <th>release_year</th>\n",
       "      <th>title</th>\n",
       "    </tr>\n",
       "  </thead>\n",
       "  <tbody>\n",
       "    <tr>\n",
       "      <th>0</th>\n",
       "      <td>Movie</td>\n",
       "      <td>1942</td>\n",
       "      <td>2</td>\n",
       "    </tr>\n",
       "    <tr>\n",
       "      <th>1</th>\n",
       "      <td>Movie</td>\n",
       "      <td>1943</td>\n",
       "      <td>3</td>\n",
       "    </tr>\n",
       "    <tr>\n",
       "      <th>2</th>\n",
       "      <td>Movie</td>\n",
       "      <td>1944</td>\n",
       "      <td>3</td>\n",
       "    </tr>\n",
       "    <tr>\n",
       "      <th>3</th>\n",
       "      <td>Movie</td>\n",
       "      <td>1945</td>\n",
       "      <td>3</td>\n",
       "    </tr>\n",
       "    <tr>\n",
       "      <th>4</th>\n",
       "      <td>Movie</td>\n",
       "      <td>1946</td>\n",
       "      <td>1</td>\n",
       "    </tr>\n",
       "    <tr>\n",
       "      <th>...</th>\n",
       "      <td>...</td>\n",
       "      <td>...</td>\n",
       "      <td>...</td>\n",
       "    </tr>\n",
       "    <tr>\n",
       "      <th>114</th>\n",
       "      <td>TV Show</td>\n",
       "      <td>2017</td>\n",
       "      <td>265</td>\n",
       "    </tr>\n",
       "    <tr>\n",
       "      <th>115</th>\n",
       "      <td>TV Show</td>\n",
       "      <td>2018</td>\n",
       "      <td>380</td>\n",
       "    </tr>\n",
       "    <tr>\n",
       "      <th>116</th>\n",
       "      <td>TV Show</td>\n",
       "      <td>2019</td>\n",
       "      <td>397</td>\n",
       "    </tr>\n",
       "    <tr>\n",
       "      <th>117</th>\n",
       "      <td>TV Show</td>\n",
       "      <td>2020</td>\n",
       "      <td>436</td>\n",
       "    </tr>\n",
       "    <tr>\n",
       "      <th>118</th>\n",
       "      <td>TV Show</td>\n",
       "      <td>2021</td>\n",
       "      <td>315</td>\n",
       "    </tr>\n",
       "  </tbody>\n",
       "</table>\n",
       "<p>119 rows × 3 columns</p>\n",
       "</div>"
      ],
      "text/plain": [
       "        type  release_year  title\n",
       "0      Movie          1942      2\n",
       "1      Movie          1943      3\n",
       "2      Movie          1944      3\n",
       "3      Movie          1945      3\n",
       "4      Movie          1946      1\n",
       "..       ...           ...    ...\n",
       "114  TV Show          2017    265\n",
       "115  TV Show          2018    380\n",
       "116  TV Show          2019    397\n",
       "117  TV Show          2020    436\n",
       "118  TV Show          2021    315\n",
       "\n",
       "[119 rows x 3 columns]"
      ]
     },
     "execution_count": 39,
     "metadata": {},
     "output_type": "execute_result"
    }
   ],
   "source": [
    "data.groupby(['type', 'release_year']).nunique().loc[:, 'title'].reset_index()"
   ]
  },
  {
   "cell_type": "markdown",
   "metadata": {
    "papermill": {
     "duration": 0.036906,
     "end_time": "2023-11-28T08:55:03.769914",
     "exception": false,
     "start_time": "2023-11-28T08:55:03.733008",
     "status": "completed"
    },
    "tags": []
   },
   "source": [
    "# 22. What is the most common rating for movies and TV shows in the dataset?"
   ]
  },
  {
   "cell_type": "code",
   "execution_count": 28,
   "metadata": {
    "execution": {
     "iopub.execute_input": "2023-12-20T17:14:56.494362Z",
     "iopub.status.busy": "2023-12-20T17:14:56.493983Z",
     "iopub.status.idle": "2023-12-20T17:14:56.513969Z",
     "shell.execute_reply": "2023-12-20T17:14:56.513143Z",
     "shell.execute_reply.started": "2023-12-20T17:14:56.494335Z"
    },
    "papermill": {
     "duration": 0.066832,
     "end_time": "2023-11-28T08:55:03.873495",
     "exception": false,
     "start_time": "2023-11-28T08:55:03.806663",
     "status": "completed"
    },
    "tags": []
   },
   "outputs": [
    {
     "data": {
      "text/html": [
       "<div>\n",
       "<style scoped>\n",
       "    .dataframe tbody tr th:only-of-type {\n",
       "        vertical-align: middle;\n",
       "    }\n",
       "\n",
       "    .dataframe tbody tr th {\n",
       "        vertical-align: top;\n",
       "    }\n",
       "\n",
       "    .dataframe thead th {\n",
       "        text-align: right;\n",
       "    }\n",
       "</style>\n",
       "<table border=\"1\" class=\"dataframe\">\n",
       "  <thead>\n",
       "    <tr style=\"text-align: right;\">\n",
       "      <th></th>\n",
       "      <th>type</th>\n",
       "      <th>rating</th>\n",
       "      <th>title</th>\n",
       "    </tr>\n",
       "  </thead>\n",
       "  <tbody>\n",
       "    <tr>\n",
       "      <th>8</th>\n",
       "      <td>Movie</td>\n",
       "      <td>TV-MA</td>\n",
       "      <td>1342</td>\n",
       "    </tr>\n",
       "    <tr>\n",
       "      <th>6</th>\n",
       "      <td>Movie</td>\n",
       "      <td>TV-14</td>\n",
       "      <td>1037</td>\n",
       "    </tr>\n",
       "    <tr>\n",
       "      <th>5</th>\n",
       "      <td>Movie</td>\n",
       "      <td>R</td>\n",
       "      <td>505</td>\n",
       "    </tr>\n",
       "    <tr>\n",
       "      <th>9</th>\n",
       "      <td>Movie</td>\n",
       "      <td>TV-PG</td>\n",
       "      <td>432</td>\n",
       "    </tr>\n",
       "    <tr>\n",
       "      <th>4</th>\n",
       "      <td>Movie</td>\n",
       "      <td>PG-13</td>\n",
       "      <td>286</td>\n",
       "    </tr>\n",
       "    <tr>\n",
       "      <th>2</th>\n",
       "      <td>Movie</td>\n",
       "      <td>NR</td>\n",
       "      <td>202</td>\n",
       "    </tr>\n",
       "    <tr>\n",
       "      <th>3</th>\n",
       "      <td>Movie</td>\n",
       "      <td>PG</td>\n",
       "      <td>183</td>\n",
       "    </tr>\n",
       "    <tr>\n",
       "      <th>7</th>\n",
       "      <td>Movie</td>\n",
       "      <td>TV-G</td>\n",
       "      <td>80</td>\n",
       "    </tr>\n",
       "    <tr>\n",
       "      <th>11</th>\n",
       "      <td>Movie</td>\n",
       "      <td>TV-Y7</td>\n",
       "      <td>69</td>\n",
       "    </tr>\n",
       "    <tr>\n",
       "      <th>10</th>\n",
       "      <td>Movie</td>\n",
       "      <td>TV-Y</td>\n",
       "      <td>41</td>\n",
       "    </tr>\n",
       "  </tbody>\n",
       "</table>\n",
       "</div>"
      ],
      "text/plain": [
       "     type rating  title\n",
       "8   Movie  TV-MA   1342\n",
       "6   Movie  TV-14   1037\n",
       "5   Movie      R    505\n",
       "9   Movie  TV-PG    432\n",
       "4   Movie  PG-13    286\n",
       "2   Movie     NR    202\n",
       "3   Movie     PG    183\n",
       "7   Movie   TV-G     80\n",
       "11  Movie  TV-Y7     69\n",
       "10  Movie   TV-Y     41"
      ]
     },
     "execution_count": 28,
     "metadata": {},
     "output_type": "execute_result"
    }
   ],
   "source": [
    "data_agg = data.groupby(['type', 'rating'])['title'].nunique().reset_index()\n",
    "data_agg.query(\"type == 'Movie'\").nlargest(n=10, columns='title')"
   ]
  },
  {
   "cell_type": "code",
   "execution_count": 41,
   "metadata": {
    "execution": {
     "iopub.execute_input": "2023-12-20T17:14:56.516240Z",
     "iopub.status.busy": "2023-12-20T17:14:56.515885Z",
     "iopub.status.idle": "2023-12-20T17:14:56.532841Z",
     "shell.execute_reply": "2023-12-20T17:14:56.531876Z",
     "shell.execute_reply.started": "2023-12-20T17:14:56.516209Z"
    },
    "papermill": {
     "duration": 0.057259,
     "end_time": "2023-11-28T08:55:03.967760",
     "exception": false,
     "start_time": "2023-11-28T08:55:03.910501",
     "status": "completed"
    },
    "tags": []
   },
   "outputs": [
    {
     "data": {
      "text/html": [
       "<div>\n",
       "<style scoped>\n",
       "    .dataframe tbody tr th:only-of-type {\n",
       "        vertical-align: middle;\n",
       "    }\n",
       "\n",
       "    .dataframe tbody tr th {\n",
       "        vertical-align: top;\n",
       "    }\n",
       "\n",
       "    .dataframe thead th {\n",
       "        text-align: right;\n",
       "    }\n",
       "</style>\n",
       "<table border=\"1\" class=\"dataframe\">\n",
       "  <thead>\n",
       "    <tr style=\"text-align: right;\">\n",
       "      <th></th>\n",
       "      <th>type</th>\n",
       "      <th>rating</th>\n",
       "      <th>title</th>\n",
       "    </tr>\n",
       "  </thead>\n",
       "  <tbody>\n",
       "    <tr>\n",
       "      <th>21</th>\n",
       "      <td>TV Show</td>\n",
       "      <td>TV-MA</td>\n",
       "      <td>1145</td>\n",
       "    </tr>\n",
       "  </tbody>\n",
       "</table>\n",
       "</div>"
      ],
      "text/plain": [
       "       type rating  title\n",
       "21  TV Show  TV-MA   1145"
      ]
     },
     "execution_count": 41,
     "metadata": {},
     "output_type": "execute_result"
    }
   ],
   "source": [
    "data_agg.query(\"type == 'TV Show'\").nlargest(n=1, columns='title')"
   ]
  },
  {
   "cell_type": "markdown",
   "metadata": {
    "papermill": {
     "duration": 0.038306,
     "end_time": "2023-11-28T08:55:04.045344",
     "exception": false,
     "start_time": "2023-11-28T08:55:04.007038",
     "status": "completed"
    },
    "tags": []
   },
   "source": [
    "TV-MA seems to be the most common rating across Movies and TV shows. "
   ]
  },
  {
   "cell_type": "markdown",
   "metadata": {
    "papermill": {
     "duration": 0.038428,
     "end_time": "2023-11-28T08:55:04.121135",
     "exception": false,
     "start_time": "2023-11-28T08:55:04.082707",
     "status": "completed"
    },
    "tags": []
   },
   "source": [
    "# 23. What is the average duration of movies released each year?"
   ]
  },
  {
   "cell_type": "code",
   "execution_count": 42,
   "metadata": {
    "execution": {
     "iopub.execute_input": "2023-12-20T17:14:56.534372Z",
     "iopub.status.busy": "2023-12-20T17:14:56.534013Z",
     "iopub.status.idle": "2023-12-20T17:14:56.575806Z",
     "shell.execute_reply": "2023-12-20T17:14:56.574544Z",
     "shell.execute_reply.started": "2023-12-20T17:14:56.534344Z"
    },
    "papermill": {
     "duration": 0.088951,
     "end_time": "2023-11-28T08:55:04.249763",
     "exception": false,
     "start_time": "2023-11-28T08:55:04.160812",
     "status": "completed"
    },
    "tags": []
   },
   "outputs": [
    {
     "data": {
      "text/html": [
       "<div>\n",
       "<style scoped>\n",
       "    .dataframe tbody tr th:only-of-type {\n",
       "        vertical-align: middle;\n",
       "    }\n",
       "\n",
       "    .dataframe tbody tr th {\n",
       "        vertical-align: top;\n",
       "    }\n",
       "\n",
       "    .dataframe thead th {\n",
       "        text-align: right;\n",
       "    }\n",
       "</style>\n",
       "<table border=\"1\" class=\"dataframe\">\n",
       "  <thead>\n",
       "    <tr style=\"text-align: right;\">\n",
       "      <th></th>\n",
       "      <th>release_year</th>\n",
       "      <th>duration_int</th>\n",
       "    </tr>\n",
       "  </thead>\n",
       "  <tbody>\n",
       "    <tr>\n",
       "      <th>0</th>\n",
       "      <td>1942</td>\n",
       "      <td>35.000000</td>\n",
       "    </tr>\n",
       "    <tr>\n",
       "      <th>1</th>\n",
       "      <td>1943</td>\n",
       "      <td>62.666667</td>\n",
       "    </tr>\n",
       "    <tr>\n",
       "      <th>2</th>\n",
       "      <td>1944</td>\n",
       "      <td>52.000000</td>\n",
       "    </tr>\n",
       "    <tr>\n",
       "      <th>3</th>\n",
       "      <td>1945</td>\n",
       "      <td>51.333333</td>\n",
       "    </tr>\n",
       "    <tr>\n",
       "      <th>4</th>\n",
       "      <td>1946</td>\n",
       "      <td>58.000000</td>\n",
       "    </tr>\n",
       "    <tr>\n",
       "      <th>...</th>\n",
       "      <td>...</td>\n",
       "      <td>...</td>\n",
       "    </tr>\n",
       "    <tr>\n",
       "      <th>68</th>\n",
       "      <td>2017</td>\n",
       "      <td>95.410691</td>\n",
       "    </tr>\n",
       "    <tr>\n",
       "      <th>69</th>\n",
       "      <td>2018</td>\n",
       "      <td>96.185137</td>\n",
       "    </tr>\n",
       "    <tr>\n",
       "      <th>70</th>\n",
       "      <td>2019</td>\n",
       "      <td>93.466035</td>\n",
       "    </tr>\n",
       "    <tr>\n",
       "      <th>71</th>\n",
       "      <td>2020</td>\n",
       "      <td>92.141199</td>\n",
       "    </tr>\n",
       "    <tr>\n",
       "      <th>72</th>\n",
       "      <td>2021</td>\n",
       "      <td>96.444043</td>\n",
       "    </tr>\n",
       "  </tbody>\n",
       "</table>\n",
       "<p>73 rows × 2 columns</p>\n",
       "</div>"
      ],
      "text/plain": [
       "    release_year  duration_int\n",
       "0           1942     35.000000\n",
       "1           1943     62.666667\n",
       "2           1944     52.000000\n",
       "3           1945     51.333333\n",
       "4           1946     58.000000\n",
       "..           ...           ...\n",
       "68          2017     95.410691\n",
       "69          2018     96.185137\n",
       "70          2019     93.466035\n",
       "71          2020     92.141199\n",
       "72          2021     96.444043\n",
       "\n",
       "[73 rows x 2 columns]"
      ]
     },
     "execution_count": 42,
     "metadata": {},
     "output_type": "execute_result"
    }
   ],
   "source": [
    "data['duration_int'] = data['duration'].str.extract(r'(\\d+)') \n",
    "data['duration_int'] = data['duration_int'].fillna(0).astype(int)\n",
    "movie_yearwise = data.loc[(data['type'] == 'Movie')]\n",
    "movie_yearwise = movie_yearwise.groupby(['release_year'])['duration_int'].mean().reset_index()\n",
    "movie_yearwise\n",
    "#movie_yearwise.groupby('duration_int')['release_year'].mean().reset_index()"
   ]
  },
  {
   "cell_type": "markdown",
   "metadata": {
    "papermill": {
     "duration": 0.036868,
     "end_time": "2023-11-28T08:55:04.324126",
     "exception": false,
     "start_time": "2023-11-28T08:55:04.287258",
     "status": "completed"
    },
    "tags": []
   },
   "source": [
    "# 24. How many movies and TV shows are there for each rating category?\n"
   ]
  },
  {
   "cell_type": "code",
   "execution_count": 32,
   "metadata": {
    "execution": {
     "iopub.execute_input": "2023-12-20T17:14:56.578171Z",
     "iopub.status.busy": "2023-12-20T17:14:56.577614Z",
     "iopub.status.idle": "2023-12-20T17:14:56.594282Z",
     "shell.execute_reply": "2023-12-20T17:14:56.593130Z",
     "shell.execute_reply.started": "2023-12-20T17:14:56.578139Z"
    },
    "papermill": {
     "duration": 0.068221,
     "end_time": "2023-11-28T08:55:04.430341",
     "exception": false,
     "start_time": "2023-11-28T08:55:04.362120",
     "status": "completed"
    },
    "tags": []
   },
   "outputs": [
    {
     "ename": "ValueError",
     "evalue": "cannot insert rating, already exists",
     "output_type": "error",
     "traceback": [
      "\u001b[1;31m---------------------------------------------------------------------------\u001b[0m",
      "\u001b[1;31mValueError\u001b[0m                                Traceback (most recent call last)",
      "Cell \u001b[1;32mIn[32], line 1\u001b[0m\n\u001b[1;32m----> 1\u001b[0m data_grouped \u001b[38;5;241m=\u001b[39m data\u001b[38;5;241m.\u001b[39mgroupby([\u001b[38;5;124m'\u001b[39m\u001b[38;5;124mtype\u001b[39m\u001b[38;5;124m'\u001b[39m, \u001b[38;5;124m'\u001b[39m\u001b[38;5;124mrating\u001b[39m\u001b[38;5;124m'\u001b[39m])[\u001b[38;5;124m'\u001b[39m\u001b[38;5;124mrating\u001b[39m\u001b[38;5;124m'\u001b[39m]\u001b[38;5;241m.\u001b[39mvalue_counts()\u001b[38;5;241m.\u001b[39mreset_index()\n\u001b[0;32m      2\u001b[0m data_grouped\n",
      "File \u001b[1;32mC:\\ProgramData\\anaconda3\\Lib\\site-packages\\pandas\\util\\_decorators.py:331\u001b[0m, in \u001b[0;36mdeprecate_nonkeyword_arguments.<locals>.decorate.<locals>.wrapper\u001b[1;34m(*args, **kwargs)\u001b[0m\n\u001b[0;32m    325\u001b[0m \u001b[38;5;28;01mif\u001b[39;00m \u001b[38;5;28mlen\u001b[39m(args) \u001b[38;5;241m>\u001b[39m num_allow_args:\n\u001b[0;32m    326\u001b[0m     warnings\u001b[38;5;241m.\u001b[39mwarn(\n\u001b[0;32m    327\u001b[0m         msg\u001b[38;5;241m.\u001b[39mformat(arguments\u001b[38;5;241m=\u001b[39m_format_argument_list(allow_args)),\n\u001b[0;32m    328\u001b[0m         \u001b[38;5;167;01mFutureWarning\u001b[39;00m,\n\u001b[0;32m    329\u001b[0m         stacklevel\u001b[38;5;241m=\u001b[39mfind_stack_level(),\n\u001b[0;32m    330\u001b[0m     )\n\u001b[1;32m--> 331\u001b[0m \u001b[38;5;28;01mreturn\u001b[39;00m func(\u001b[38;5;241m*\u001b[39margs, \u001b[38;5;241m*\u001b[39m\u001b[38;5;241m*\u001b[39mkwargs)\n",
      "File \u001b[1;32mC:\\ProgramData\\anaconda3\\Lib\\site-packages\\pandas\\core\\series.py:1581\u001b[0m, in \u001b[0;36mSeries.reset_index\u001b[1;34m(self, level, drop, name, inplace, allow_duplicates)\u001b[0m\n\u001b[0;32m   1578\u001b[0m             name \u001b[38;5;241m=\u001b[39m \u001b[38;5;28mself\u001b[39m\u001b[38;5;241m.\u001b[39mname\n\u001b[0;32m   1580\u001b[0m     df \u001b[38;5;241m=\u001b[39m \u001b[38;5;28mself\u001b[39m\u001b[38;5;241m.\u001b[39mto_frame(name)\n\u001b[1;32m-> 1581\u001b[0m     \u001b[38;5;28;01mreturn\u001b[39;00m df\u001b[38;5;241m.\u001b[39mreset_index(\n\u001b[0;32m   1582\u001b[0m         level\u001b[38;5;241m=\u001b[39mlevel, drop\u001b[38;5;241m=\u001b[39mdrop, allow_duplicates\u001b[38;5;241m=\u001b[39mallow_duplicates\n\u001b[0;32m   1583\u001b[0m     )\n\u001b[0;32m   1584\u001b[0m \u001b[38;5;28;01mreturn\u001b[39;00m \u001b[38;5;28;01mNone\u001b[39;00m\n",
      "File \u001b[1;32mC:\\ProgramData\\anaconda3\\Lib\\site-packages\\pandas\\util\\_decorators.py:331\u001b[0m, in \u001b[0;36mdeprecate_nonkeyword_arguments.<locals>.decorate.<locals>.wrapper\u001b[1;34m(*args, **kwargs)\u001b[0m\n\u001b[0;32m    325\u001b[0m \u001b[38;5;28;01mif\u001b[39;00m \u001b[38;5;28mlen\u001b[39m(args) \u001b[38;5;241m>\u001b[39m num_allow_args:\n\u001b[0;32m    326\u001b[0m     warnings\u001b[38;5;241m.\u001b[39mwarn(\n\u001b[0;32m    327\u001b[0m         msg\u001b[38;5;241m.\u001b[39mformat(arguments\u001b[38;5;241m=\u001b[39m_format_argument_list(allow_args)),\n\u001b[0;32m    328\u001b[0m         \u001b[38;5;167;01mFutureWarning\u001b[39;00m,\n\u001b[0;32m    329\u001b[0m         stacklevel\u001b[38;5;241m=\u001b[39mfind_stack_level(),\n\u001b[0;32m    330\u001b[0m     )\n\u001b[1;32m--> 331\u001b[0m \u001b[38;5;28;01mreturn\u001b[39;00m func(\u001b[38;5;241m*\u001b[39margs, \u001b[38;5;241m*\u001b[39m\u001b[38;5;241m*\u001b[39mkwargs)\n",
      "File \u001b[1;32mC:\\ProgramData\\anaconda3\\Lib\\site-packages\\pandas\\core\\frame.py:6361\u001b[0m, in \u001b[0;36mDataFrame.reset_index\u001b[1;34m(self, level, drop, inplace, col_level, col_fill, allow_duplicates, names)\u001b[0m\n\u001b[0;32m   6355\u001b[0m         \u001b[38;5;28;01mif\u001b[39;00m lab \u001b[38;5;129;01mis\u001b[39;00m \u001b[38;5;129;01mnot\u001b[39;00m \u001b[38;5;28;01mNone\u001b[39;00m:\n\u001b[0;32m   6356\u001b[0m             \u001b[38;5;66;03m# if we have the codes, extract the values with a mask\u001b[39;00m\n\u001b[0;32m   6357\u001b[0m             level_values \u001b[38;5;241m=\u001b[39m algorithms\u001b[38;5;241m.\u001b[39mtake(\n\u001b[0;32m   6358\u001b[0m                 level_values, lab, allow_fill\u001b[38;5;241m=\u001b[39m\u001b[38;5;28;01mTrue\u001b[39;00m, fill_value\u001b[38;5;241m=\u001b[39mlev\u001b[38;5;241m.\u001b[39m_na_value\n\u001b[0;32m   6359\u001b[0m             )\n\u001b[1;32m-> 6361\u001b[0m         new_obj\u001b[38;5;241m.\u001b[39minsert(\n\u001b[0;32m   6362\u001b[0m             \u001b[38;5;241m0\u001b[39m,\n\u001b[0;32m   6363\u001b[0m             name,\n\u001b[0;32m   6364\u001b[0m             level_values,\n\u001b[0;32m   6365\u001b[0m             allow_duplicates\u001b[38;5;241m=\u001b[39mallow_duplicates,\n\u001b[0;32m   6366\u001b[0m         )\n\u001b[0;32m   6368\u001b[0m new_obj\u001b[38;5;241m.\u001b[39mindex \u001b[38;5;241m=\u001b[39m new_index\n\u001b[0;32m   6369\u001b[0m \u001b[38;5;28;01mif\u001b[39;00m \u001b[38;5;129;01mnot\u001b[39;00m inplace:\n",
      "File \u001b[1;32mC:\\ProgramData\\anaconda3\\Lib\\site-packages\\pandas\\core\\frame.py:4817\u001b[0m, in \u001b[0;36mDataFrame.insert\u001b[1;34m(self, loc, column, value, allow_duplicates)\u001b[0m\n\u001b[0;32m   4811\u001b[0m     \u001b[38;5;28;01mraise\u001b[39;00m \u001b[38;5;167;01mValueError\u001b[39;00m(\n\u001b[0;32m   4812\u001b[0m         \u001b[38;5;124m\"\u001b[39m\u001b[38;5;124mCannot specify \u001b[39m\u001b[38;5;124m'\u001b[39m\u001b[38;5;124mallow_duplicates=True\u001b[39m\u001b[38;5;124m'\u001b[39m\u001b[38;5;124m when \u001b[39m\u001b[38;5;124m\"\u001b[39m\n\u001b[0;32m   4813\u001b[0m         \u001b[38;5;124m\"\u001b[39m\u001b[38;5;124m'\u001b[39m\u001b[38;5;124mself.flags.allows_duplicate_labels\u001b[39m\u001b[38;5;124m'\u001b[39m\u001b[38;5;124m is False.\u001b[39m\u001b[38;5;124m\"\u001b[39m\n\u001b[0;32m   4814\u001b[0m     )\n\u001b[0;32m   4815\u001b[0m \u001b[38;5;28;01mif\u001b[39;00m \u001b[38;5;129;01mnot\u001b[39;00m allow_duplicates \u001b[38;5;129;01mand\u001b[39;00m column \u001b[38;5;129;01min\u001b[39;00m \u001b[38;5;28mself\u001b[39m\u001b[38;5;241m.\u001b[39mcolumns:\n\u001b[0;32m   4816\u001b[0m     \u001b[38;5;66;03m# Should this be a different kind of error??\u001b[39;00m\n\u001b[1;32m-> 4817\u001b[0m     \u001b[38;5;28;01mraise\u001b[39;00m \u001b[38;5;167;01mValueError\u001b[39;00m(\u001b[38;5;124mf\u001b[39m\u001b[38;5;124m\"\u001b[39m\u001b[38;5;124mcannot insert \u001b[39m\u001b[38;5;132;01m{\u001b[39;00mcolumn\u001b[38;5;132;01m}\u001b[39;00m\u001b[38;5;124m, already exists\u001b[39m\u001b[38;5;124m\"\u001b[39m)\n\u001b[0;32m   4818\u001b[0m \u001b[38;5;28;01mif\u001b[39;00m \u001b[38;5;129;01mnot\u001b[39;00m \u001b[38;5;28misinstance\u001b[39m(loc, \u001b[38;5;28mint\u001b[39m):\n\u001b[0;32m   4819\u001b[0m     \u001b[38;5;28;01mraise\u001b[39;00m \u001b[38;5;167;01mTypeError\u001b[39;00m(\u001b[38;5;124m\"\u001b[39m\u001b[38;5;124mloc must be int\u001b[39m\u001b[38;5;124m\"\u001b[39m)\n",
      "\u001b[1;31mValueError\u001b[0m: cannot insert rating, already exists"
     ]
    }
   ],
   "source": [
    "data_grouped = data.groupby(['type', 'rating'])['rating'].value_counts().reset_index()\n",
    "data_grouped"
   ]
  },
  {
   "cell_type": "code",
   "execution_count": 31,
   "metadata": {
    "execution": {
     "iopub.execute_input": "2023-12-20T17:14:56.596631Z",
     "iopub.status.busy": "2023-12-20T17:14:56.595555Z",
     "iopub.status.idle": "2023-12-20T17:14:56.615953Z",
     "shell.execute_reply": "2023-12-20T17:14:56.615091Z",
     "shell.execute_reply.started": "2023-12-20T17:14:56.596605Z"
    },
    "papermill": {
     "duration": 0.070317,
     "end_time": "2023-11-28T08:55:04.538578",
     "exception": false,
     "start_time": "2023-11-28T08:55:04.468261",
     "status": "completed"
    },
    "tags": []
   },
   "outputs": [
    {
     "ename": "NameError",
     "evalue": "name 'data_grouped' is not defined",
     "output_type": "error",
     "traceback": [
      "\u001b[1;31m---------------------------------------------------------------------------\u001b[0m",
      "\u001b[1;31mNameError\u001b[0m                                 Traceback (most recent call last)",
      "Cell \u001b[1;32mIn[31], line 1\u001b[0m\n\u001b[1;32m----> 1\u001b[0m pd\u001b[38;5;241m.\u001b[39mpivot_table(data\u001b[38;5;241m=\u001b[39mdata_grouped, index\u001b[38;5;241m=\u001b[39m\u001b[38;5;124m'\u001b[39m\u001b[38;5;124mrating\u001b[39m\u001b[38;5;124m'\u001b[39m, columns\u001b[38;5;241m=\u001b[39m\u001b[38;5;124m'\u001b[39m\u001b[38;5;124mtype\u001b[39m\u001b[38;5;124m'\u001b[39m, values\u001b[38;5;241m=\u001b[39m\u001b[38;5;124m'\u001b[39m\u001b[38;5;124mcount\u001b[39m\u001b[38;5;124m'\u001b[39m, fill_value\u001b[38;5;241m=\u001b[39m\u001b[38;5;241m0\u001b[39m)\n",
      "\u001b[1;31mNameError\u001b[0m: name 'data_grouped' is not defined"
     ]
    }
   ],
   "source": [
    "pd.pivot_table(data=data_grouped, index='rating', columns='type', values='count', fill_value=0)"
   ]
  },
  {
   "cell_type": "markdown",
   "metadata": {
    "papermill": {
     "duration": 0.037316,
     "end_time": "2023-11-28T08:55:04.614025",
     "exception": false,
     "start_time": "2023-11-28T08:55:04.576709",
     "status": "completed"
    },
    "tags": []
   },
   "source": [
    "# 25. Which country has produced the most number of movies?"
   ]
  },
  {
   "cell_type": "code",
   "execution_count": 45,
   "metadata": {
    "execution": {
     "iopub.execute_input": "2023-12-20T17:14:56.617887Z",
     "iopub.status.busy": "2023-12-20T17:14:56.617548Z",
     "iopub.status.idle": "2023-12-20T17:14:56.631967Z",
     "shell.execute_reply": "2023-12-20T17:14:56.630893Z",
     "shell.execute_reply.started": "2023-12-20T17:14:56.617858Z"
    },
    "papermill": {
     "duration": 0.062612,
     "end_time": "2023-11-28T08:55:04.714438",
     "exception": false,
     "start_time": "2023-11-28T08:55:04.651826",
     "status": "completed"
    },
    "tags": []
   },
   "outputs": [
    {
     "data": {
      "text/plain": [
       "country\n",
       "United States      2058\n",
       "India               893\n",
       "United Kingdom      206\n",
       "Canada              122\n",
       "Spain                97\n",
       "                   ... \n",
       "India, Mexico         1\n",
       "India, Malaysia       1\n",
       "India, Japan          1\n",
       "India, Iran           1\n",
       "Zimbabwe              1\n",
       "Name: title, Length: 651, dtype: int64"
      ]
     },
     "execution_count": 45,
     "metadata": {},
     "output_type": "execute_result"
    }
   ],
   "source": [
    "num_movie = data.loc[(data['type'] == 'Movie')]\n",
    "num_movie = num_movie.groupby(['country'])['title'].count().sort_values(ascending=False)\n",
    "num_movie"
   ]
  },
  {
   "cell_type": "markdown",
   "metadata": {
    "papermill": {
     "duration": 0.037435,
     "end_time": "2023-11-28T08:55:04.789761",
     "exception": false,
     "start_time": "2023-11-28T08:55:04.752326",
     "status": "completed"
    },
    "tags": []
   },
   "source": [
    "Unites stated produced the most number of movies."
   ]
  },
  {
   "cell_type": "markdown",
   "metadata": {
    "papermill": {
     "duration": 0.037587,
     "end_time": "2023-11-28T08:55:04.865298",
     "exception": false,
     "start_time": "2023-11-28T08:55:04.827711",
     "status": "completed"
    },
    "tags": []
   },
   "source": [
    "# 26. Which country has produced the most number of TV shows?"
   ]
  },
  {
   "cell_type": "code",
   "execution_count": 46,
   "metadata": {
    "execution": {
     "iopub.execute_input": "2023-12-20T17:14:56.635245Z",
     "iopub.status.busy": "2023-12-20T17:14:56.633684Z",
     "iopub.status.idle": "2023-12-20T17:14:56.649684Z",
     "shell.execute_reply": "2023-12-20T17:14:56.648314Z",
     "shell.execute_reply.started": "2023-12-20T17:14:56.635187Z"
    },
    "papermill": {
     "duration": 0.060333,
     "end_time": "2023-11-28T08:55:04.963727",
     "exception": false,
     "start_time": "2023-11-28T08:55:04.903394",
     "status": "completed"
    },
    "tags": []
   },
   "outputs": [
    {
     "data": {
      "text/plain": [
       "country\n",
       "United States                                                  760\n",
       "United Kingdom                                                 213\n",
       "Japan                                                          169\n",
       "South Korea                                                    158\n",
       "India                                                           79\n",
       "                                                              ... \n",
       "Italy, Canada, France                                            1\n",
       "Italy, Germany                                                   1\n",
       "Italy, South Africa, West Germany, Australia, United States      1\n",
       "Italy, United Kingdom                                            1\n",
       "Uruguay, Germany                                                 1\n",
       "Name: title, Length: 196, dtype: int64"
      ]
     },
     "execution_count": 46,
     "metadata": {},
     "output_type": "execute_result"
    }
   ],
   "source": [
    "num_tvshow = data.loc[(data['type'] == 'TV Show')]\n",
    "num_tvshow = num_tvshow.groupby('country')['title'].count().sort_values(ascending=False)\n",
    "num_tvshow\n"
   ]
  },
  {
   "cell_type": "markdown",
   "metadata": {
    "papermill": {
     "duration": 0.037768,
     "end_time": "2023-11-28T08:55:05.039746",
     "exception": false,
     "start_time": "2023-11-28T08:55:05.001978",
     "status": "completed"
    },
    "tags": []
   },
   "source": [
    "United states wins again.\n"
   ]
  },
  {
   "cell_type": "markdown",
   "metadata": {
    "papermill": {
     "duration": 0.037742,
     "end_time": "2023-11-28T08:55:05.115451",
     "exception": false,
     "start_time": "2023-11-28T08:55:05.077709",
     "status": "completed"
    },
    "tags": []
   },
   "source": [
    "# 27. What is the earliest and latest release year in the dataset?\n",
    "\n",
    "\n"
   ]
  },
  {
   "cell_type": "code",
   "execution_count": 47,
   "metadata": {
    "execution": {
     "iopub.execute_input": "2023-12-20T17:14:56.651924Z",
     "iopub.status.busy": "2023-12-20T17:14:56.650794Z",
     "iopub.status.idle": "2023-12-20T17:14:56.665436Z",
     "shell.execute_reply": "2023-12-20T17:14:56.664554Z",
     "shell.execute_reply.started": "2023-12-20T17:14:56.651874Z"
    },
    "papermill": {
     "duration": 0.059915,
     "end_time": "2023-11-28T08:55:05.217425",
     "exception": false,
     "start_time": "2023-11-28T08:55:05.157510",
     "status": "completed"
    },
    "tags": []
   },
   "outputs": [
    {
     "data": {
      "text/html": [
       "<div>\n",
       "<style scoped>\n",
       "    .dataframe tbody tr th:only-of-type {\n",
       "        vertical-align: middle;\n",
       "    }\n",
       "\n",
       "    .dataframe tbody tr th {\n",
       "        vertical-align: top;\n",
       "    }\n",
       "\n",
       "    .dataframe thead th {\n",
       "        text-align: right;\n",
       "    }\n",
       "</style>\n",
       "<table border=\"1\" class=\"dataframe\">\n",
       "  <thead>\n",
       "    <tr style=\"text-align: right;\">\n",
       "      <th></th>\n",
       "      <th>index</th>\n",
       "      <th>release_year</th>\n",
       "    </tr>\n",
       "  </thead>\n",
       "  <tbody>\n",
       "    <tr>\n",
       "      <th>0</th>\n",
       "      <td>4250</td>\n",
       "      <td>1925</td>\n",
       "    </tr>\n",
       "    <tr>\n",
       "      <th>1</th>\n",
       "      <td>7790</td>\n",
       "      <td>1942</td>\n",
       "    </tr>\n",
       "    <tr>\n",
       "      <th>2</th>\n",
       "      <td>8205</td>\n",
       "      <td>1942</td>\n",
       "    </tr>\n",
       "    <tr>\n",
       "      <th>3</th>\n",
       "      <td>8660</td>\n",
       "      <td>1943</td>\n",
       "    </tr>\n",
       "    <tr>\n",
       "      <th>4</th>\n",
       "      <td>8739</td>\n",
       "      <td>1943</td>\n",
       "    </tr>\n",
       "    <tr>\n",
       "      <th>...</th>\n",
       "      <td>...</td>\n",
       "      <td>...</td>\n",
       "    </tr>\n",
       "    <tr>\n",
       "      <th>8802</th>\n",
       "      <td>862</td>\n",
       "      <td>2021</td>\n",
       "    </tr>\n",
       "    <tr>\n",
       "      <th>8803</th>\n",
       "      <td>861</td>\n",
       "      <td>2021</td>\n",
       "    </tr>\n",
       "    <tr>\n",
       "      <th>8804</th>\n",
       "      <td>857</td>\n",
       "      <td>2021</td>\n",
       "    </tr>\n",
       "    <tr>\n",
       "      <th>8805</th>\n",
       "      <td>876</td>\n",
       "      <td>2021</td>\n",
       "    </tr>\n",
       "    <tr>\n",
       "      <th>8806</th>\n",
       "      <td>965</td>\n",
       "      <td>2021</td>\n",
       "    </tr>\n",
       "  </tbody>\n",
       "</table>\n",
       "<p>8807 rows × 2 columns</p>\n",
       "</div>"
      ],
      "text/plain": [
       "      index  release_year\n",
       "0      4250          1925\n",
       "1      7790          1942\n",
       "2      8205          1942\n",
       "3      8660          1943\n",
       "4      8739          1943\n",
       "...     ...           ...\n",
       "8802    862          2021\n",
       "8803    861          2021\n",
       "8804    857          2021\n",
       "8805    876          2021\n",
       "8806    965          2021\n",
       "\n",
       "[8807 rows x 2 columns]"
      ]
     },
     "execution_count": 47,
     "metadata": {},
     "output_type": "execute_result"
    }
   ],
   "source": [
    "data.loc[:, 'release_year'].sort_values().reset_index()"
   ]
  },
  {
   "cell_type": "code",
   "execution_count": 48,
   "metadata": {
    "execution": {
     "iopub.execute_input": "2023-12-20T17:14:56.667484Z",
     "iopub.status.busy": "2023-12-20T17:14:56.666693Z",
     "iopub.status.idle": "2023-12-20T17:14:56.685282Z",
     "shell.execute_reply": "2023-12-20T17:14:56.683770Z",
     "shell.execute_reply.started": "2023-12-20T17:14:56.667442Z"
    },
    "papermill": {
     "duration": 0.062017,
     "end_time": "2023-11-28T08:55:05.318292",
     "exception": false,
     "start_time": "2023-11-28T08:55:05.256275",
     "status": "completed"
    },
    "tags": []
   },
   "outputs": [
    {
     "data": {
      "text/html": [
       "<div>\n",
       "<style scoped>\n",
       "    .dataframe tbody tr th:only-of-type {\n",
       "        vertical-align: middle;\n",
       "    }\n",
       "\n",
       "    .dataframe tbody tr th {\n",
       "        vertical-align: top;\n",
       "    }\n",
       "\n",
       "    .dataframe thead th {\n",
       "        text-align: right;\n",
       "    }\n",
       "</style>\n",
       "<table border=\"1\" class=\"dataframe\">\n",
       "  <thead>\n",
       "    <tr style=\"text-align: right;\">\n",
       "      <th></th>\n",
       "      <th>show_id</th>\n",
       "      <th>type</th>\n",
       "      <th>title</th>\n",
       "      <th>director</th>\n",
       "      <th>cast</th>\n",
       "      <th>country</th>\n",
       "      <th>date_added</th>\n",
       "      <th>release_year</th>\n",
       "      <th>rating</th>\n",
       "      <th>duration</th>\n",
       "      <th>listed_in</th>\n",
       "      <th>description</th>\n",
       "      <th>duration_int</th>\n",
       "    </tr>\n",
       "  </thead>\n",
       "  <tbody>\n",
       "    <tr>\n",
       "      <th>0</th>\n",
       "      <td>s1</td>\n",
       "      <td>Movie</td>\n",
       "      <td>Dick Johnson Is Dead</td>\n",
       "      <td>Kirsten Johnson</td>\n",
       "      <td>NaN</td>\n",
       "      <td>United States</td>\n",
       "      <td>September 25, 2021</td>\n",
       "      <td>2020</td>\n",
       "      <td>PG-13</td>\n",
       "      <td>90 min</td>\n",
       "      <td>Documentaries</td>\n",
       "      <td>As her father nears the end of his life, filmm...</td>\n",
       "      <td>90</td>\n",
       "    </tr>\n",
       "    <tr>\n",
       "      <th>1</th>\n",
       "      <td>s2</td>\n",
       "      <td>TV Show</td>\n",
       "      <td>Blood &amp; Water</td>\n",
       "      <td>NaN</td>\n",
       "      <td>Ama Qamata, Khosi Ngema, Gail Mabalane, Thaban...</td>\n",
       "      <td>South Africa</td>\n",
       "      <td>September 24, 2021</td>\n",
       "      <td>2021</td>\n",
       "      <td>TV-MA</td>\n",
       "      <td>2 Seasons</td>\n",
       "      <td>International TV Shows, TV Dramas, TV Mysteries</td>\n",
       "      <td>After crossing paths at a party, a Cape Town t...</td>\n",
       "      <td>2</td>\n",
       "    </tr>\n",
       "    <tr>\n",
       "      <th>2</th>\n",
       "      <td>s3</td>\n",
       "      <td>TV Show</td>\n",
       "      <td>Ganglands</td>\n",
       "      <td>Julien Leclercq</td>\n",
       "      <td>Sami Bouajila, Tracy Gotoas, Samuel Jouy, Nabi...</td>\n",
       "      <td>NaN</td>\n",
       "      <td>September 24, 2021</td>\n",
       "      <td>2021</td>\n",
       "      <td>TV-MA</td>\n",
       "      <td>1 Season</td>\n",
       "      <td>Crime TV Shows, International TV Shows, TV Act...</td>\n",
       "      <td>To protect his family from a powerful drug lor...</td>\n",
       "      <td>1</td>\n",
       "    </tr>\n",
       "    <tr>\n",
       "      <th>3</th>\n",
       "      <td>s4</td>\n",
       "      <td>TV Show</td>\n",
       "      <td>Jailbirds New Orleans</td>\n",
       "      <td>NaN</td>\n",
       "      <td>NaN</td>\n",
       "      <td>NaN</td>\n",
       "      <td>September 24, 2021</td>\n",
       "      <td>2021</td>\n",
       "      <td>TV-MA</td>\n",
       "      <td>1 Season</td>\n",
       "      <td>Docuseries, Reality TV</td>\n",
       "      <td>Feuds, flirtations and toilet talk go down amo...</td>\n",
       "      <td>1</td>\n",
       "    </tr>\n",
       "    <tr>\n",
       "      <th>4</th>\n",
       "      <td>s5</td>\n",
       "      <td>TV Show</td>\n",
       "      <td>Kota Factory</td>\n",
       "      <td>NaN</td>\n",
       "      <td>Mayur More, Jitendra Kumar, Ranjan Raj, Alam K...</td>\n",
       "      <td>India</td>\n",
       "      <td>September 24, 2021</td>\n",
       "      <td>2021</td>\n",
       "      <td>TV-MA</td>\n",
       "      <td>2 Seasons</td>\n",
       "      <td>International TV Shows, Romantic TV Shows, TV ...</td>\n",
       "      <td>In a city of coaching centers known to train I...</td>\n",
       "      <td>2</td>\n",
       "    </tr>\n",
       "  </tbody>\n",
       "</table>\n",
       "</div>"
      ],
      "text/plain": [
       "  show_id     type                  title         director  \\\n",
       "0      s1    Movie   Dick Johnson Is Dead  Kirsten Johnson   \n",
       "1      s2  TV Show          Blood & Water              NaN   \n",
       "2      s3  TV Show              Ganglands  Julien Leclercq   \n",
       "3      s4  TV Show  Jailbirds New Orleans              NaN   \n",
       "4      s5  TV Show           Kota Factory              NaN   \n",
       "\n",
       "                                                cast        country  \\\n",
       "0                                                NaN  United States   \n",
       "1  Ama Qamata, Khosi Ngema, Gail Mabalane, Thaban...   South Africa   \n",
       "2  Sami Bouajila, Tracy Gotoas, Samuel Jouy, Nabi...            NaN   \n",
       "3                                                NaN            NaN   \n",
       "4  Mayur More, Jitendra Kumar, Ranjan Raj, Alam K...          India   \n",
       "\n",
       "           date_added  release_year rating   duration  \\\n",
       "0  September 25, 2021          2020  PG-13     90 min   \n",
       "1  September 24, 2021          2021  TV-MA  2 Seasons   \n",
       "2  September 24, 2021          2021  TV-MA   1 Season   \n",
       "3  September 24, 2021          2021  TV-MA   1 Season   \n",
       "4  September 24, 2021          2021  TV-MA  2 Seasons   \n",
       "\n",
       "                                           listed_in  \\\n",
       "0                                      Documentaries   \n",
       "1    International TV Shows, TV Dramas, TV Mysteries   \n",
       "2  Crime TV Shows, International TV Shows, TV Act...   \n",
       "3                             Docuseries, Reality TV   \n",
       "4  International TV Shows, Romantic TV Shows, TV ...   \n",
       "\n",
       "                                         description  duration_int  \n",
       "0  As her father nears the end of his life, filmm...            90  \n",
       "1  After crossing paths at a party, a Cape Town t...             2  \n",
       "2  To protect his family from a powerful drug lor...             1  \n",
       "3  Feuds, flirtations and toilet talk go down amo...             1  \n",
       "4  In a city of coaching centers known to train I...             2  "
      ]
     },
     "execution_count": 48,
     "metadata": {},
     "output_type": "execute_result"
    }
   ],
   "source": [
    "data.head()"
   ]
  },
  {
   "cell_type": "markdown",
   "metadata": {
    "papermill": {
     "duration": 0.038931,
     "end_time": "2023-11-28T08:55:05.396865",
     "exception": false,
     "start_time": "2023-11-28T08:55:05.357934",
     "status": "completed"
    },
    "tags": []
   },
   "source": [
    "from the above data we can say the earliest release in the data is from 1925 and the latest one is from 2021."
   ]
  },
  {
   "cell_type": "markdown",
   "metadata": {
    "papermill": {
     "duration": 0.039075,
     "end_time": "2023-11-28T08:55:05.475348",
     "exception": false,
     "start_time": "2023-11-28T08:55:05.436273",
     "status": "completed"
    },
    "tags": []
   },
   "source": [
    "# 28. How many movies and TV shows were added to Netflix each month?"
   ]
  },
  {
   "cell_type": "code",
   "execution_count": 49,
   "metadata": {
    "execution": {
     "iopub.execute_input": "2023-12-20T17:14:56.687195Z",
     "iopub.status.busy": "2023-12-20T17:14:56.686749Z",
     "iopub.status.idle": "2023-12-20T17:14:56.881748Z",
     "shell.execute_reply": "2023-12-20T17:14:56.880886Z",
     "shell.execute_reply.started": "2023-12-20T17:14:56.687142Z"
    },
    "papermill": {
     "duration": 0.358966,
     "end_time": "2023-11-28T08:55:05.873344",
     "exception": false,
     "start_time": "2023-11-28T08:55:05.514378",
     "status": "completed"
    },
    "tags": []
   },
   "outputs": [
    {
     "data": {
      "text/html": [
       "<div>\n",
       "<style scoped>\n",
       "    .dataframe tbody tr th:only-of-type {\n",
       "        vertical-align: middle;\n",
       "    }\n",
       "\n",
       "    .dataframe tbody tr th {\n",
       "        vertical-align: top;\n",
       "    }\n",
       "\n",
       "    .dataframe thead th {\n",
       "        text-align: right;\n",
       "    }\n",
       "</style>\n",
       "<table border=\"1\" class=\"dataframe\">\n",
       "  <thead>\n",
       "    <tr style=\"text-align: right;\">\n",
       "      <th></th>\n",
       "      <th>type</th>\n",
       "      <th>month_added</th>\n",
       "      <th>title</th>\n",
       "    </tr>\n",
       "  </thead>\n",
       "  <tbody>\n",
       "    <tr>\n",
       "      <th>0</th>\n",
       "      <td>Movie</td>\n",
       "      <td>April</td>\n",
       "      <td>550</td>\n",
       "    </tr>\n",
       "    <tr>\n",
       "      <th>1</th>\n",
       "      <td>Movie</td>\n",
       "      <td>August</td>\n",
       "      <td>519</td>\n",
       "    </tr>\n",
       "    <tr>\n",
       "      <th>2</th>\n",
       "      <td>Movie</td>\n",
       "      <td>December</td>\n",
       "      <td>547</td>\n",
       "    </tr>\n",
       "    <tr>\n",
       "      <th>3</th>\n",
       "      <td>Movie</td>\n",
       "      <td>February</td>\n",
       "      <td>382</td>\n",
       "    </tr>\n",
       "    <tr>\n",
       "      <th>4</th>\n",
       "      <td>Movie</td>\n",
       "      <td>January</td>\n",
       "      <td>546</td>\n",
       "    </tr>\n",
       "    <tr>\n",
       "      <th>5</th>\n",
       "      <td>Movie</td>\n",
       "      <td>July</td>\n",
       "      <td>565</td>\n",
       "    </tr>\n",
       "    <tr>\n",
       "      <th>6</th>\n",
       "      <td>Movie</td>\n",
       "      <td>June</td>\n",
       "      <td>492</td>\n",
       "    </tr>\n",
       "    <tr>\n",
       "      <th>7</th>\n",
       "      <td>Movie</td>\n",
       "      <td>March</td>\n",
       "      <td>529</td>\n",
       "    </tr>\n",
       "    <tr>\n",
       "      <th>8</th>\n",
       "      <td>Movie</td>\n",
       "      <td>May</td>\n",
       "      <td>439</td>\n",
       "    </tr>\n",
       "    <tr>\n",
       "      <th>9</th>\n",
       "      <td>Movie</td>\n",
       "      <td>November</td>\n",
       "      <td>498</td>\n",
       "    </tr>\n",
       "    <tr>\n",
       "      <th>10</th>\n",
       "      <td>Movie</td>\n",
       "      <td>October</td>\n",
       "      <td>545</td>\n",
       "    </tr>\n",
       "    <tr>\n",
       "      <th>11</th>\n",
       "      <td>Movie</td>\n",
       "      <td>September</td>\n",
       "      <td>519</td>\n",
       "    </tr>\n",
       "    <tr>\n",
       "      <th>12</th>\n",
       "      <td>TV Show</td>\n",
       "      <td>April</td>\n",
       "      <td>214</td>\n",
       "    </tr>\n",
       "    <tr>\n",
       "      <th>13</th>\n",
       "      <td>TV Show</td>\n",
       "      <td>August</td>\n",
       "      <td>236</td>\n",
       "    </tr>\n",
       "    <tr>\n",
       "      <th>14</th>\n",
       "      <td>TV Show</td>\n",
       "      <td>December</td>\n",
       "      <td>266</td>\n",
       "    </tr>\n",
       "    <tr>\n",
       "      <th>15</th>\n",
       "      <td>TV Show</td>\n",
       "      <td>February</td>\n",
       "      <td>181</td>\n",
       "    </tr>\n",
       "    <tr>\n",
       "      <th>16</th>\n",
       "      <td>TV Show</td>\n",
       "      <td>January</td>\n",
       "      <td>192</td>\n",
       "    </tr>\n",
       "    <tr>\n",
       "      <th>17</th>\n",
       "      <td>TV Show</td>\n",
       "      <td>July</td>\n",
       "      <td>262</td>\n",
       "    </tr>\n",
       "    <tr>\n",
       "      <th>18</th>\n",
       "      <td>TV Show</td>\n",
       "      <td>June</td>\n",
       "      <td>236</td>\n",
       "    </tr>\n",
       "    <tr>\n",
       "      <th>19</th>\n",
       "      <td>TV Show</td>\n",
       "      <td>March</td>\n",
       "      <td>213</td>\n",
       "    </tr>\n",
       "    <tr>\n",
       "      <th>20</th>\n",
       "      <td>TV Show</td>\n",
       "      <td>May</td>\n",
       "      <td>193</td>\n",
       "    </tr>\n",
       "    <tr>\n",
       "      <th>21</th>\n",
       "      <td>TV Show</td>\n",
       "      <td>November</td>\n",
       "      <td>207</td>\n",
       "    </tr>\n",
       "    <tr>\n",
       "      <th>22</th>\n",
       "      <td>TV Show</td>\n",
       "      <td>October</td>\n",
       "      <td>215</td>\n",
       "    </tr>\n",
       "    <tr>\n",
       "      <th>23</th>\n",
       "      <td>TV Show</td>\n",
       "      <td>September</td>\n",
       "      <td>251</td>\n",
       "    </tr>\n",
       "  </tbody>\n",
       "</table>\n",
       "</div>"
      ],
      "text/plain": [
       "       type month_added  title\n",
       "0     Movie       April    550\n",
       "1     Movie      August    519\n",
       "2     Movie    December    547\n",
       "3     Movie    February    382\n",
       "4     Movie     January    546\n",
       "5     Movie        July    565\n",
       "6     Movie        June    492\n",
       "7     Movie       March    529\n",
       "8     Movie         May    439\n",
       "9     Movie    November    498\n",
       "10    Movie     October    545\n",
       "11    Movie   September    519\n",
       "12  TV Show       April    214\n",
       "13  TV Show      August    236\n",
       "14  TV Show    December    266\n",
       "15  TV Show    February    181\n",
       "16  TV Show     January    192\n",
       "17  TV Show        July    262\n",
       "18  TV Show        June    236\n",
       "19  TV Show       March    213\n",
       "20  TV Show         May    193\n",
       "21  TV Show    November    207\n",
       "22  TV Show     October    215\n",
       "23  TV Show   September    251"
      ]
     },
     "execution_count": 49,
     "metadata": {},
     "output_type": "execute_result"
    }
   ],
   "source": [
    "data['month_added'] = pd.to_datetime(data['date_added'], format='mixed')\n",
    "data['month_added'] = data['month_added'].dt.strftime('%B') #this is for data needed in string form in a new column.\n",
    "#data = data.drop(['month'], axis=1) #this is to drop a column.\n",
    "data.groupby(['type','month_added'])['title'].count().reset_index()"
   ]
  },
  {
   "cell_type": "markdown",
   "metadata": {
    "papermill": {
     "duration": 0.039468,
     "end_time": "2023-11-28T08:55:05.952229",
     "exception": false,
     "start_time": "2023-11-28T08:55:05.912761",
     "status": "completed"
    },
    "tags": []
   },
   "source": [
    "# 29. What is the most common duration for movies in the dataset?"
   ]
  },
  {
   "cell_type": "code",
   "execution_count": 34,
   "metadata": {
    "execution": {
     "iopub.execute_input": "2023-12-20T17:14:56.883716Z",
     "iopub.status.busy": "2023-12-20T17:14:56.883136Z",
     "iopub.status.idle": "2023-12-20T17:14:56.905641Z",
     "shell.execute_reply": "2023-12-20T17:14:56.904154Z",
     "shell.execute_reply.started": "2023-12-20T17:14:56.883684Z"
    },
    "papermill": {
     "duration": 0.070318,
     "end_time": "2023-11-28T08:55:06.061683",
     "exception": false,
     "start_time": "2023-11-28T08:55:05.991365",
     "status": "completed"
    },
    "tags": []
   },
   "outputs": [
    {
     "data": {
      "text/html": [
       "<div>\n",
       "<style scoped>\n",
       "    .dataframe tbody tr th:only-of-type {\n",
       "        vertical-align: middle;\n",
       "    }\n",
       "\n",
       "    .dataframe tbody tr th {\n",
       "        vertical-align: top;\n",
       "    }\n",
       "\n",
       "    .dataframe thead th {\n",
       "        text-align: right;\n",
       "    }\n",
       "</style>\n",
       "<table border=\"1\" class=\"dataframe\">\n",
       "  <thead>\n",
       "    <tr style=\"text-align: right;\">\n",
       "      <th></th>\n",
       "      <th>duration</th>\n",
       "      <th>number_of_titles</th>\n",
       "    </tr>\n",
       "  </thead>\n",
       "  <tbody>\n",
       "    <tr>\n",
       "      <th>176</th>\n",
       "      <td>90 min</td>\n",
       "      <td>111</td>\n",
       "    </tr>\n",
       "    <tr>\n",
       "      <th>177</th>\n",
       "      <td>91 min</td>\n",
       "      <td>102</td>\n",
       "    </tr>\n",
       "    <tr>\n",
       "      <th>178</th>\n",
       "      <td>92 min</td>\n",
       "      <td>101</td>\n",
       "    </tr>\n",
       "    <tr>\n",
       "      <th>181</th>\n",
       "      <td>95 min</td>\n",
       "      <td>94</td>\n",
       "    </tr>\n",
       "    <tr>\n",
       "      <th>180</th>\n",
       "      <td>94 min</td>\n",
       "      <td>94</td>\n",
       "    </tr>\n",
       "    <tr>\n",
       "      <th>...</th>\n",
       "      <td>...</td>\n",
       "      <td>...</td>\n",
       "    </tr>\n",
       "    <tr>\n",
       "      <th>118</th>\n",
       "      <td>312 min</td>\n",
       "      <td>1</td>\n",
       "    </tr>\n",
       "    <tr>\n",
       "      <th>120</th>\n",
       "      <td>33 min</td>\n",
       "      <td>1</td>\n",
       "    </tr>\n",
       "    <tr>\n",
       "      <th>121</th>\n",
       "      <td>34 min</td>\n",
       "      <td>1</td>\n",
       "    </tr>\n",
       "    <tr>\n",
       "      <th>123</th>\n",
       "      <td>36 min</td>\n",
       "      <td>1</td>\n",
       "    </tr>\n",
       "    <tr>\n",
       "      <th>93</th>\n",
       "      <td>191 min</td>\n",
       "      <td>1</td>\n",
       "    </tr>\n",
       "  </tbody>\n",
       "</table>\n",
       "<p>186 rows × 2 columns</p>\n",
       "</div>"
      ],
      "text/plain": [
       "    duration  number_of_titles\n",
       "176   90 min               111\n",
       "177   91 min               102\n",
       "178   92 min               101\n",
       "181   95 min                94\n",
       "180   94 min                94\n",
       "..       ...               ...\n",
       "118  312 min                 1\n",
       "120   33 min                 1\n",
       "121   34 min                 1\n",
       "123   36 min                 1\n",
       "93   191 min                 1\n",
       "\n",
       "[186 rows x 2 columns]"
      ]
     },
     "execution_count": 34,
     "metadata": {},
     "output_type": "execute_result"
    }
   ],
   "source": [
    "movie_ds = data.loc[(data['type'] == 'Movie')]\n",
    "movie_ds = movie_ds.groupby('duration')['title'].nunique().reset_index()\n",
    "movie_ds = movie_ds.rename(columns={'title': 'number_of_titles'})\n",
    "movie_ds.sort_values('number_of_titles', ascending=False)"
   ]
  },
  {
   "cell_type": "markdown",
   "metadata": {
    "papermill": {
     "duration": 0.040371,
     "end_time": "2023-11-28T08:55:06.141614",
     "exception": false,
     "start_time": "2023-11-28T08:55:06.101243",
     "status": "completed"
    },
    "tags": []
   },
   "source": [
    "from the above analysis we can see that 90min length is the most common for movies in this dateset."
   ]
  },
  {
   "cell_type": "markdown",
   "metadata": {
    "papermill": {
     "duration": 0.039475,
     "end_time": "2023-11-28T08:55:06.223006",
     "exception": false,
     "start_time": "2023-11-28T08:55:06.183531",
     "status": "completed"
    },
    "tags": []
   },
   "source": [
    "# 30. What is the most common number of seasons for TV shows in the dataset?"
   ]
  },
  {
   "cell_type": "code",
   "execution_count": 51,
   "metadata": {
    "execution": {
     "iopub.execute_input": "2023-12-20T17:14:56.907302Z",
     "iopub.status.busy": "2023-12-20T17:14:56.906949Z",
     "iopub.status.idle": "2023-12-20T17:14:56.938723Z",
     "shell.execute_reply": "2023-12-20T17:14:56.937576Z",
     "shell.execute_reply.started": "2023-12-20T17:14:56.907274Z"
    },
    "papermill": {
     "duration": 0.084822,
     "end_time": "2023-11-28T08:55:06.347588",
     "exception": false,
     "start_time": "2023-11-28T08:55:06.262766",
     "status": "completed"
    },
    "tags": []
   },
   "outputs": [
    {
     "data": {
      "text/html": [
       "<div>\n",
       "<style scoped>\n",
       "    .dataframe tbody tr th:only-of-type {\n",
       "        vertical-align: middle;\n",
       "    }\n",
       "\n",
       "    .dataframe tbody tr th {\n",
       "        vertical-align: top;\n",
       "    }\n",
       "\n",
       "    .dataframe thead th {\n",
       "        text-align: right;\n",
       "    }\n",
       "</style>\n",
       "<table border=\"1\" class=\"dataframe\">\n",
       "  <thead>\n",
       "    <tr style=\"text-align: right;\">\n",
       "      <th></th>\n",
       "      <th>show_id</th>\n",
       "      <th>type</th>\n",
       "      <th>title</th>\n",
       "      <th>director</th>\n",
       "      <th>cast</th>\n",
       "      <th>country</th>\n",
       "      <th>date_added</th>\n",
       "      <th>release_year</th>\n",
       "      <th>rating</th>\n",
       "      <th>listed_in</th>\n",
       "      <th>description</th>\n",
       "      <th>duration_int</th>\n",
       "      <th>month_added</th>\n",
       "    </tr>\n",
       "    <tr>\n",
       "      <th>duration</th>\n",
       "      <th></th>\n",
       "      <th></th>\n",
       "      <th></th>\n",
       "      <th></th>\n",
       "      <th></th>\n",
       "      <th></th>\n",
       "      <th></th>\n",
       "      <th></th>\n",
       "      <th></th>\n",
       "      <th></th>\n",
       "      <th></th>\n",
       "      <th></th>\n",
       "      <th></th>\n",
       "    </tr>\n",
       "  </thead>\n",
       "  <tbody>\n",
       "    <tr>\n",
       "      <th>1 Season</th>\n",
       "      <td>1793</td>\n",
       "      <td>1</td>\n",
       "      <td>1793</td>\n",
       "      <td>178</td>\n",
       "      <td>1476</td>\n",
       "      <td>139</td>\n",
       "      <td>811</td>\n",
       "      <td>41</td>\n",
       "      <td>8</td>\n",
       "      <td>186</td>\n",
       "      <td>1790</td>\n",
       "      <td>1</td>\n",
       "      <td>12</td>\n",
       "    </tr>\n",
       "    <tr>\n",
       "      <th>10 Seasons</th>\n",
       "      <td>7</td>\n",
       "      <td>1</td>\n",
       "      <td>7</td>\n",
       "      <td>0</td>\n",
       "      <td>7</td>\n",
       "      <td>4</td>\n",
       "      <td>6</td>\n",
       "      <td>5</td>\n",
       "      <td>5</td>\n",
       "      <td>7</td>\n",
       "      <td>7</td>\n",
       "      <td>1</td>\n",
       "      <td>5</td>\n",
       "    </tr>\n",
       "    <tr>\n",
       "      <th>11 Seasons</th>\n",
       "      <td>2</td>\n",
       "      <td>1</td>\n",
       "      <td>2</td>\n",
       "      <td>0</td>\n",
       "      <td>2</td>\n",
       "      <td>1</td>\n",
       "      <td>1</td>\n",
       "      <td>2</td>\n",
       "      <td>1</td>\n",
       "      <td>1</td>\n",
       "      <td>2</td>\n",
       "      <td>1</td>\n",
       "      <td>1</td>\n",
       "    </tr>\n",
       "    <tr>\n",
       "      <th>12 Seasons</th>\n",
       "      <td>2</td>\n",
       "      <td>1</td>\n",
       "      <td>2</td>\n",
       "      <td>0</td>\n",
       "      <td>2</td>\n",
       "      <td>2</td>\n",
       "      <td>2</td>\n",
       "      <td>2</td>\n",
       "      <td>2</td>\n",
       "      <td>2</td>\n",
       "      <td>2</td>\n",
       "      <td>1</td>\n",
       "      <td>2</td>\n",
       "    </tr>\n",
       "    <tr>\n",
       "      <th>13 Seasons</th>\n",
       "      <td>3</td>\n",
       "      <td>1</td>\n",
       "      <td>3</td>\n",
       "      <td>0</td>\n",
       "      <td>3</td>\n",
       "      <td>2</td>\n",
       "      <td>2</td>\n",
       "      <td>2</td>\n",
       "      <td>3</td>\n",
       "      <td>3</td>\n",
       "      <td>3</td>\n",
       "      <td>1</td>\n",
       "      <td>2</td>\n",
       "    </tr>\n",
       "    <tr>\n",
       "      <th>15 Seasons</th>\n",
       "      <td>2</td>\n",
       "      <td>1</td>\n",
       "      <td>2</td>\n",
       "      <td>1</td>\n",
       "      <td>2</td>\n",
       "      <td>2</td>\n",
       "      <td>2</td>\n",
       "      <td>2</td>\n",
       "      <td>1</td>\n",
       "      <td>2</td>\n",
       "      <td>2</td>\n",
       "      <td>1</td>\n",
       "      <td>2</td>\n",
       "    </tr>\n",
       "    <tr>\n",
       "      <th>17 Seasons</th>\n",
       "      <td>1</td>\n",
       "      <td>1</td>\n",
       "      <td>1</td>\n",
       "      <td>0</td>\n",
       "      <td>1</td>\n",
       "      <td>1</td>\n",
       "      <td>1</td>\n",
       "      <td>1</td>\n",
       "      <td>1</td>\n",
       "      <td>1</td>\n",
       "      <td>1</td>\n",
       "      <td>1</td>\n",
       "      <td>1</td>\n",
       "    </tr>\n",
       "    <tr>\n",
       "      <th>2 Seasons</th>\n",
       "      <td>425</td>\n",
       "      <td>1</td>\n",
       "      <td>425</td>\n",
       "      <td>21</td>\n",
       "      <td>384</td>\n",
       "      <td>74</td>\n",
       "      <td>321</td>\n",
       "      <td>23</td>\n",
       "      <td>7</td>\n",
       "      <td>113</td>\n",
       "      <td>425</td>\n",
       "      <td>1</td>\n",
       "      <td>12</td>\n",
       "    </tr>\n",
       "    <tr>\n",
       "      <th>3 Seasons</th>\n",
       "      <td>199</td>\n",
       "      <td>1</td>\n",
       "      <td>199</td>\n",
       "      <td>4</td>\n",
       "      <td>179</td>\n",
       "      <td>48</td>\n",
       "      <td>175</td>\n",
       "      <td>16</td>\n",
       "      <td>7</td>\n",
       "      <td>85</td>\n",
       "      <td>198</td>\n",
       "      <td>1</td>\n",
       "      <td>12</td>\n",
       "    </tr>\n",
       "    <tr>\n",
       "      <th>4 Seasons</th>\n",
       "      <td>95</td>\n",
       "      <td>1</td>\n",
       "      <td>95</td>\n",
       "      <td>4</td>\n",
       "      <td>93</td>\n",
       "      <td>28</td>\n",
       "      <td>87</td>\n",
       "      <td>17</td>\n",
       "      <td>6</td>\n",
       "      <td>52</td>\n",
       "      <td>95</td>\n",
       "      <td>1</td>\n",
       "      <td>12</td>\n",
       "    </tr>\n",
       "    <tr>\n",
       "      <th>5 Seasons</th>\n",
       "      <td>65</td>\n",
       "      <td>1</td>\n",
       "      <td>65</td>\n",
       "      <td>6</td>\n",
       "      <td>65</td>\n",
       "      <td>15</td>\n",
       "      <td>61</td>\n",
       "      <td>16</td>\n",
       "      <td>6</td>\n",
       "      <td>41</td>\n",
       "      <td>65</td>\n",
       "      <td>1</td>\n",
       "      <td>12</td>\n",
       "    </tr>\n",
       "    <tr>\n",
       "      <th>6 Seasons</th>\n",
       "      <td>33</td>\n",
       "      <td>1</td>\n",
       "      <td>33</td>\n",
       "      <td>3</td>\n",
       "      <td>32</td>\n",
       "      <td>8</td>\n",
       "      <td>30</td>\n",
       "      <td>14</td>\n",
       "      <td>6</td>\n",
       "      <td>25</td>\n",
       "      <td>33</td>\n",
       "      <td>1</td>\n",
       "      <td>12</td>\n",
       "    </tr>\n",
       "    <tr>\n",
       "      <th>7 Seasons</th>\n",
       "      <td>23</td>\n",
       "      <td>1</td>\n",
       "      <td>23</td>\n",
       "      <td>1</td>\n",
       "      <td>23</td>\n",
       "      <td>6</td>\n",
       "      <td>23</td>\n",
       "      <td>15</td>\n",
       "      <td>3</td>\n",
       "      <td>15</td>\n",
       "      <td>23</td>\n",
       "      <td>1</td>\n",
       "      <td>12</td>\n",
       "    </tr>\n",
       "    <tr>\n",
       "      <th>8 Seasons</th>\n",
       "      <td>17</td>\n",
       "      <td>1</td>\n",
       "      <td>17</td>\n",
       "      <td>3</td>\n",
       "      <td>16</td>\n",
       "      <td>3</td>\n",
       "      <td>17</td>\n",
       "      <td>10</td>\n",
       "      <td>6</td>\n",
       "      <td>11</td>\n",
       "      <td>17</td>\n",
       "      <td>1</td>\n",
       "      <td>8</td>\n",
       "    </tr>\n",
       "    <tr>\n",
       "      <th>9 Seasons</th>\n",
       "      <td>9</td>\n",
       "      <td>1</td>\n",
       "      <td>9</td>\n",
       "      <td>3</td>\n",
       "      <td>9</td>\n",
       "      <td>3</td>\n",
       "      <td>9</td>\n",
       "      <td>9</td>\n",
       "      <td>3</td>\n",
       "      <td>9</td>\n",
       "      <td>9</td>\n",
       "      <td>1</td>\n",
       "      <td>5</td>\n",
       "    </tr>\n",
       "  </tbody>\n",
       "</table>\n",
       "</div>"
      ],
      "text/plain": [
       "            show_id  type  title  director  cast  country  date_added  \\\n",
       "duration                                                                \n",
       "1 Season       1793     1   1793       178  1476      139         811   \n",
       "10 Seasons        7     1      7         0     7        4           6   \n",
       "11 Seasons        2     1      2         0     2        1           1   \n",
       "12 Seasons        2     1      2         0     2        2           2   \n",
       "13 Seasons        3     1      3         0     3        2           2   \n",
       "15 Seasons        2     1      2         1     2        2           2   \n",
       "17 Seasons        1     1      1         0     1        1           1   \n",
       "2 Seasons       425     1    425        21   384       74         321   \n",
       "3 Seasons       199     1    199         4   179       48         175   \n",
       "4 Seasons        95     1     95         4    93       28          87   \n",
       "5 Seasons        65     1     65         6    65       15          61   \n",
       "6 Seasons        33     1     33         3    32        8          30   \n",
       "7 Seasons        23     1     23         1    23        6          23   \n",
       "8 Seasons        17     1     17         3    16        3          17   \n",
       "9 Seasons         9     1      9         3     9        3           9   \n",
       "\n",
       "            release_year  rating  listed_in  description  duration_int  \\\n",
       "duration                                                                 \n",
       "1 Season              41       8        186         1790             1   \n",
       "10 Seasons             5       5          7            7             1   \n",
       "11 Seasons             2       1          1            2             1   \n",
       "12 Seasons             2       2          2            2             1   \n",
       "13 Seasons             2       3          3            3             1   \n",
       "15 Seasons             2       1          2            2             1   \n",
       "17 Seasons             1       1          1            1             1   \n",
       "2 Seasons             23       7        113          425             1   \n",
       "3 Seasons             16       7         85          198             1   \n",
       "4 Seasons             17       6         52           95             1   \n",
       "5 Seasons             16       6         41           65             1   \n",
       "6 Seasons             14       6         25           33             1   \n",
       "7 Seasons             15       3         15           23             1   \n",
       "8 Seasons             10       6         11           17             1   \n",
       "9 Seasons              9       3          9            9             1   \n",
       "\n",
       "            month_added  \n",
       "duration                 \n",
       "1 Season             12  \n",
       "10 Seasons            5  \n",
       "11 Seasons            1  \n",
       "12 Seasons            2  \n",
       "13 Seasons            2  \n",
       "15 Seasons            2  \n",
       "17 Seasons            1  \n",
       "2 Seasons            12  \n",
       "3 Seasons            12  \n",
       "4 Seasons            12  \n",
       "5 Seasons            12  \n",
       "6 Seasons            12  \n",
       "7 Seasons            12  \n",
       "8 Seasons             8  \n",
       "9 Seasons             5  "
      ]
     },
     "execution_count": 51,
     "metadata": {},
     "output_type": "execute_result"
    }
   ],
   "source": [
    "x = data.loc[(data['type'] == 'TV Show')]\n",
    "x.groupby('duration').nunique()"
   ]
  },
  {
   "cell_type": "markdown",
   "metadata": {
    "papermill": {
     "duration": 0.040836,
     "end_time": "2023-11-28T08:55:06.428451",
     "exception": false,
     "start_time": "2023-11-28T08:55:06.387615",
     "status": "completed"
    },
    "tags": []
   },
   "source": [
    "as we can see above 'Season 1' is the most common number of season for a TV show in this dataset."
   ]
  },
  {
   "cell_type": "code",
   "execution_count": 52,
   "metadata": {
    "execution": {
     "iopub.execute_input": "2023-12-20T17:14:56.941593Z",
     "iopub.status.busy": "2023-12-20T17:14:56.941170Z",
     "iopub.status.idle": "2023-12-20T17:14:56.966721Z",
     "shell.execute_reply": "2023-12-20T17:14:56.965698Z",
     "shell.execute_reply.started": "2023-12-20T17:14:56.941557Z"
    },
    "papermill": {
     "duration": 0.068363,
     "end_time": "2023-11-28T08:55:06.537503",
     "exception": false,
     "start_time": "2023-11-28T08:55:06.469140",
     "status": "completed"
    },
    "tags": []
   },
   "outputs": [
    {
     "data": {
      "text/html": [
       "<div>\n",
       "<style scoped>\n",
       "    .dataframe tbody tr th:only-of-type {\n",
       "        vertical-align: middle;\n",
       "    }\n",
       "\n",
       "    .dataframe tbody tr th {\n",
       "        vertical-align: top;\n",
       "    }\n",
       "\n",
       "    .dataframe thead th {\n",
       "        text-align: right;\n",
       "    }\n",
       "</style>\n",
       "<table border=\"1\" class=\"dataframe\">\n",
       "  <thead>\n",
       "    <tr style=\"text-align: right;\">\n",
       "      <th></th>\n",
       "      <th>show_id</th>\n",
       "      <th>type</th>\n",
       "      <th>title</th>\n",
       "      <th>director</th>\n",
       "      <th>cast</th>\n",
       "      <th>country</th>\n",
       "      <th>date_added</th>\n",
       "      <th>release_year</th>\n",
       "      <th>rating</th>\n",
       "      <th>duration</th>\n",
       "      <th>listed_in</th>\n",
       "      <th>description</th>\n",
       "      <th>duration_int</th>\n",
       "      <th>month_added</th>\n",
       "    </tr>\n",
       "  </thead>\n",
       "  <tbody>\n",
       "    <tr>\n",
       "      <th>4</th>\n",
       "      <td>s5</td>\n",
       "      <td>TV Show</td>\n",
       "      <td>Kota Factory</td>\n",
       "      <td>NaN</td>\n",
       "      <td>Mayur More, Jitendra Kumar, Ranjan Raj, Alam K...</td>\n",
       "      <td>India</td>\n",
       "      <td>September 24, 2021</td>\n",
       "      <td>2021</td>\n",
       "      <td>TV-MA</td>\n",
       "      <td>2 Seasons</td>\n",
       "      <td>International TV Shows, Romantic TV Shows, TV ...</td>\n",
       "      <td>In a city of coaching centers known to train I...</td>\n",
       "      <td>2</td>\n",
       "      <td>September</td>\n",
       "    </tr>\n",
       "  </tbody>\n",
       "</table>\n",
       "</div>"
      ],
      "text/plain": [
       "  show_id     type         title director  \\\n",
       "4      s5  TV Show  Kota Factory      NaN   \n",
       "\n",
       "                                                cast country  \\\n",
       "4  Mayur More, Jitendra Kumar, Ranjan Raj, Alam K...   India   \n",
       "\n",
       "           date_added  release_year rating   duration  \\\n",
       "4  September 24, 2021          2021  TV-MA  2 Seasons   \n",
       "\n",
       "                                           listed_in  \\\n",
       "4  International TV Shows, Romantic TV Shows, TV ...   \n",
       "\n",
       "                                         description  duration_int month_added  \n",
       "4  In a city of coaching centers known to train I...             2   September  "
      ]
     },
     "execution_count": 52,
     "metadata": {},
     "output_type": "execute_result"
    }
   ],
   "source": [
    "data.query(\"title == 'Kota Factory'\") #this is to check if the seasons are repeating for a perticular title."
   ]
  },
  {
   "cell_type": "markdown",
   "metadata": {
    "papermill": {
     "duration": 0.043685,
     "end_time": "2023-11-28T08:55:06.625299",
     "exception": false,
     "start_time": "2023-11-28T08:55:06.581614",
     "status": "completed"
    },
    "tags": []
   },
   "source": [
    "# 31. How many unique directors are there in the dataset?"
   ]
  },
  {
   "cell_type": "code",
   "execution_count": 53,
   "metadata": {
    "execution": {
     "iopub.execute_input": "2023-12-20T17:14:56.968990Z",
     "iopub.status.busy": "2023-12-20T17:14:56.968119Z",
     "iopub.status.idle": "2023-12-20T17:14:56.984138Z",
     "shell.execute_reply": "2023-12-20T17:14:56.983003Z",
     "shell.execute_reply.started": "2023-12-20T17:14:56.968956Z"
    },
    "papermill": {
     "duration": 0.069487,
     "end_time": "2023-11-28T08:55:06.741622",
     "exception": false,
     "start_time": "2023-11-28T08:55:06.672135",
     "status": "completed"
    },
    "tags": []
   },
   "outputs": [
    {
     "data": {
      "text/plain": [
       "4528"
      ]
     },
     "execution_count": 53,
     "metadata": {},
     "output_type": "execute_result"
    }
   ],
   "source": [
    "data.groupby('director')['title'].nunique().count()"
   ]
  },
  {
   "cell_type": "markdown",
   "metadata": {
    "papermill": {
     "duration": 0.045094,
     "end_time": "2023-11-28T08:55:06.831495",
     "exception": false,
     "start_time": "2023-11-28T08:55:06.786401",
     "status": "completed"
    },
    "tags": []
   },
   "source": [
    "there are total 4528 unique directors are there in the dataset. Wow!"
   ]
  },
  {
   "cell_type": "markdown",
   "metadata": {
    "papermill": {
     "duration": 0.045503,
     "end_time": "2023-11-28T08:55:06.921022",
     "exception": false,
     "start_time": "2023-11-28T08:55:06.875519",
     "status": "completed"
    },
    "tags": []
   },
   "source": [
    "# 32. What is the most common release year for movies and TV shows in the dataset?"
   ]
  },
  {
   "cell_type": "code",
   "execution_count": 54,
   "metadata": {
    "execution": {
     "iopub.execute_input": "2023-12-20T17:14:56.986425Z",
     "iopub.status.busy": "2023-12-20T17:14:56.985998Z",
     "iopub.status.idle": "2023-12-20T17:14:57.005888Z",
     "shell.execute_reply": "2023-12-20T17:14:57.004177Z",
     "shell.execute_reply.started": "2023-12-20T17:14:56.986390Z"
    },
    "papermill": {
     "duration": 0.075222,
     "end_time": "2023-11-28T08:55:07.041623",
     "exception": false,
     "start_time": "2023-11-28T08:55:06.966401",
     "status": "completed"
    },
    "tags": []
   },
   "outputs": [
    {
     "data": {
      "text/html": [
       "<div>\n",
       "<style scoped>\n",
       "    .dataframe tbody tr th:only-of-type {\n",
       "        vertical-align: middle;\n",
       "    }\n",
       "\n",
       "    .dataframe tbody tr th {\n",
       "        vertical-align: top;\n",
       "    }\n",
       "\n",
       "    .dataframe thead th {\n",
       "        text-align: right;\n",
       "    }\n",
       "</style>\n",
       "<table border=\"1\" class=\"dataframe\">\n",
       "  <thead>\n",
       "    <tr style=\"text-align: right;\">\n",
       "      <th></th>\n",
       "      <th>type</th>\n",
       "      <th>release_year</th>\n",
       "      <th>count</th>\n",
       "    </tr>\n",
       "  </thead>\n",
       "  <tbody>\n",
       "    <tr>\n",
       "      <th>0</th>\n",
       "      <td>Movie</td>\n",
       "      <td>2017</td>\n",
       "      <td>767</td>\n",
       "    </tr>\n",
       "  </tbody>\n",
       "</table>\n",
       "</div>"
      ],
      "text/plain": [
       "    type  release_year  count\n",
       "0  Movie          2017    767"
      ]
     },
     "execution_count": 54,
     "metadata": {},
     "output_type": "execute_result"
    }
   ],
   "source": [
    "#data.loc[(data['type'] == 'Movie'), 'release_year'].value_counts()\n",
    "data_peryear = data.groupby('type')['release_year'].value_counts().reset_index()\n",
    "\n",
    "data_peryear\n",
    "data_peryear.query(\"type == 'Movie'\").nlargest(n=1, columns='count')"
   ]
  },
  {
   "cell_type": "code",
   "execution_count": 55,
   "metadata": {
    "execution": {
     "iopub.execute_input": "2023-12-20T17:14:57.007374Z",
     "iopub.status.busy": "2023-12-20T17:14:57.007100Z",
     "iopub.status.idle": "2023-12-20T17:14:57.021628Z",
     "shell.execute_reply": "2023-12-20T17:14:57.019894Z",
     "shell.execute_reply.started": "2023-12-20T17:14:57.007350Z"
    },
    "papermill": {
     "duration": 0.06902,
     "end_time": "2023-11-28T08:55:07.157910",
     "exception": false,
     "start_time": "2023-11-28T08:55:07.088890",
     "status": "completed"
    },
    "tags": []
   },
   "outputs": [
    {
     "data": {
      "text/html": [
       "<div>\n",
       "<style scoped>\n",
       "    .dataframe tbody tr th:only-of-type {\n",
       "        vertical-align: middle;\n",
       "    }\n",
       "\n",
       "    .dataframe tbody tr th {\n",
       "        vertical-align: top;\n",
       "    }\n",
       "\n",
       "    .dataframe thead th {\n",
       "        text-align: right;\n",
       "    }\n",
       "</style>\n",
       "<table border=\"1\" class=\"dataframe\">\n",
       "  <thead>\n",
       "    <tr style=\"text-align: right;\">\n",
       "      <th></th>\n",
       "      <th>type</th>\n",
       "      <th>release_year</th>\n",
       "      <th>count</th>\n",
       "    </tr>\n",
       "  </thead>\n",
       "  <tbody>\n",
       "    <tr>\n",
       "      <th>73</th>\n",
       "      <td>TV Show</td>\n",
       "      <td>2020</td>\n",
       "      <td>436</td>\n",
       "    </tr>\n",
       "  </tbody>\n",
       "</table>\n",
       "</div>"
      ],
      "text/plain": [
       "       type  release_year  count\n",
       "73  TV Show          2020    436"
      ]
     },
     "execution_count": 55,
     "metadata": {},
     "output_type": "execute_result"
    }
   ],
   "source": [
    "data_peryear.query(\"type == 'TV Show'\").nlargest(n=1, columns='count')"
   ]
  },
  {
   "cell_type": "markdown",
   "metadata": {
    "papermill": {
     "duration": 0.043997,
     "end_time": "2023-11-28T08:55:07.248702",
     "exception": false,
     "start_time": "2023-11-28T08:55:07.204705",
     "status": "completed"
    },
    "tags": []
   },
   "source": [
    "as we can see from the above analysis, 2017 for movies and 2020 for TV show were the most common release for the dataset."
   ]
  },
  {
   "cell_type": "markdown",
   "metadata": {
    "papermill": {
     "duration": 0.045159,
     "end_time": "2023-11-28T08:55:07.341921",
     "exception": false,
     "start_time": "2023-11-28T08:55:07.296762",
     "status": "completed"
    },
    "tags": []
   },
   "source": [
    "# 33. How many movies and TV shows were produced by each country per year?"
   ]
  },
  {
   "cell_type": "code",
   "execution_count": 56,
   "metadata": {
    "execution": {
     "iopub.execute_input": "2023-12-20T17:14:57.024055Z",
     "iopub.status.busy": "2023-12-20T17:14:57.023609Z",
     "iopub.status.idle": "2023-12-20T17:14:57.045761Z",
     "shell.execute_reply": "2023-12-20T17:14:57.044891Z",
     "shell.execute_reply.started": "2023-12-20T17:14:57.024021Z"
    },
    "papermill": {
     "duration": 0.076481,
     "end_time": "2023-11-28T08:55:07.467467",
     "exception": false,
     "start_time": "2023-11-28T08:55:07.390986",
     "status": "completed"
    },
    "tags": []
   },
   "outputs": [
    {
     "data": {
      "text/html": [
       "<div>\n",
       "<style scoped>\n",
       "    .dataframe tbody tr th:only-of-type {\n",
       "        vertical-align: middle;\n",
       "    }\n",
       "\n",
       "    .dataframe tbody tr th {\n",
       "        vertical-align: top;\n",
       "    }\n",
       "\n",
       "    .dataframe thead th {\n",
       "        text-align: right;\n",
       "    }\n",
       "</style>\n",
       "<table border=\"1\" class=\"dataframe\">\n",
       "  <thead>\n",
       "    <tr style=\"text-align: right;\">\n",
       "      <th></th>\n",
       "      <th>type</th>\n",
       "      <th>country</th>\n",
       "      <th>count</th>\n",
       "    </tr>\n",
       "  </thead>\n",
       "  <tbody>\n",
       "    <tr>\n",
       "      <th>0</th>\n",
       "      <td>Movie</td>\n",
       "      <td>, France, Algeria</td>\n",
       "      <td>1</td>\n",
       "    </tr>\n",
       "    <tr>\n",
       "      <th>1</th>\n",
       "      <td>Movie</td>\n",
       "      <td>Argentina</td>\n",
       "      <td>38</td>\n",
       "    </tr>\n",
       "    <tr>\n",
       "      <th>2</th>\n",
       "      <td>Movie</td>\n",
       "      <td>Argentina, Brazil, France, Poland, Germany, De...</td>\n",
       "      <td>1</td>\n",
       "    </tr>\n",
       "    <tr>\n",
       "      <th>3</th>\n",
       "      <td>Movie</td>\n",
       "      <td>Argentina, Chile</td>\n",
       "      <td>2</td>\n",
       "    </tr>\n",
       "    <tr>\n",
       "      <th>4</th>\n",
       "      <td>Movie</td>\n",
       "      <td>Argentina, Chile, Peru</td>\n",
       "      <td>1</td>\n",
       "    </tr>\n",
       "    <tr>\n",
       "      <th>...</th>\n",
       "      <td>...</td>\n",
       "      <td>...</td>\n",
       "      <td>...</td>\n",
       "    </tr>\n",
       "    <tr>\n",
       "      <th>842</th>\n",
       "      <td>TV Show</td>\n",
       "      <td>United States, South Korea, China</td>\n",
       "      <td>2</td>\n",
       "    </tr>\n",
       "    <tr>\n",
       "      <th>843</th>\n",
       "      <td>TV Show</td>\n",
       "      <td>United States, Sweden</td>\n",
       "      <td>1</td>\n",
       "    </tr>\n",
       "    <tr>\n",
       "      <th>844</th>\n",
       "      <td>TV Show</td>\n",
       "      <td>United States, United Kingdom</td>\n",
       "      <td>9</td>\n",
       "    </tr>\n",
       "    <tr>\n",
       "      <th>845</th>\n",
       "      <td>TV Show</td>\n",
       "      <td>United States, United Kingdom, Australia</td>\n",
       "      <td>1</td>\n",
       "    </tr>\n",
       "    <tr>\n",
       "      <th>846</th>\n",
       "      <td>TV Show</td>\n",
       "      <td>Uruguay, Germany</td>\n",
       "      <td>1</td>\n",
       "    </tr>\n",
       "  </tbody>\n",
       "</table>\n",
       "<p>847 rows × 3 columns</p>\n",
       "</div>"
      ],
      "text/plain": [
       "        type                                            country  count\n",
       "0      Movie                                  , France, Algeria      1\n",
       "1      Movie                                          Argentina     38\n",
       "2      Movie  Argentina, Brazil, France, Poland, Germany, De...      1\n",
       "3      Movie                                   Argentina, Chile      2\n",
       "4      Movie                             Argentina, Chile, Peru      1\n",
       "..       ...                                                ...    ...\n",
       "842  TV Show                  United States, South Korea, China      2\n",
       "843  TV Show                              United States, Sweden      1\n",
       "844  TV Show                      United States, United Kingdom      9\n",
       "845  TV Show           United States, United Kingdom, Australia      1\n",
       "846  TV Show                                   Uruguay, Germany      1\n",
       "\n",
       "[847 rows x 3 columns]"
      ]
     },
     "execution_count": 56,
     "metadata": {},
     "output_type": "execute_result"
    }
   ],
   "source": [
    "data.groupby(['type', 'country'])['country'].value_counts().reset_index()"
   ]
  },
  {
   "cell_type": "markdown",
   "metadata": {
    "papermill": {
     "duration": 0.041551,
     "end_time": "2023-11-28T08:55:07.553197",
     "exception": false,
     "start_time": "2023-11-28T08:55:07.511646",
     "status": "completed"
    },
    "tags": []
   },
   "source": [
    "The data is not cleaned up hence the above data."
   ]
  },
  {
   "cell_type": "markdown",
   "metadata": {
    "papermill": {
     "duration": 0.041073,
     "end_time": "2023-11-28T08:55:07.635888",
     "exception": false,
     "start_time": "2023-11-28T08:55:07.594815",
     "status": "completed"
    },
    "tags": []
   },
   "source": [
    "# 34. How many movies and TV shows does each rating category have per year?"
   ]
  },
  {
   "cell_type": "code",
   "execution_count": 57,
   "metadata": {
    "execution": {
     "iopub.execute_input": "2023-12-20T17:14:57.047648Z",
     "iopub.status.busy": "2023-12-20T17:14:57.046826Z",
     "iopub.status.idle": "2023-12-20T17:14:57.067051Z",
     "shell.execute_reply": "2023-12-20T17:14:57.065455Z",
     "shell.execute_reply.started": "2023-12-20T17:14:57.047618Z"
    },
    "papermill": {
     "duration": 0.073951,
     "end_time": "2023-11-28T08:55:07.751348",
     "exception": false,
     "start_time": "2023-11-28T08:55:07.677397",
     "status": "completed"
    },
    "tags": []
   },
   "outputs": [
    {
     "data": {
      "text/html": [
       "<div>\n",
       "<style scoped>\n",
       "    .dataframe tbody tr th:only-of-type {\n",
       "        vertical-align: middle;\n",
       "    }\n",
       "\n",
       "    .dataframe tbody tr th {\n",
       "        vertical-align: top;\n",
       "    }\n",
       "\n",
       "    .dataframe thead th {\n",
       "        text-align: right;\n",
       "    }\n",
       "</style>\n",
       "<table border=\"1\" class=\"dataframe\">\n",
       "  <thead>\n",
       "    <tr style=\"text-align: right;\">\n",
       "      <th></th>\n",
       "      <th>type</th>\n",
       "      <th>rating</th>\n",
       "      <th>release_year</th>\n",
       "      <th>count</th>\n",
       "    </tr>\n",
       "  </thead>\n",
       "  <tbody>\n",
       "    <tr>\n",
       "      <th>0</th>\n",
       "      <td>Movie</td>\n",
       "      <td>66 min</td>\n",
       "      <td>2015</td>\n",
       "      <td>1</td>\n",
       "    </tr>\n",
       "    <tr>\n",
       "      <th>1</th>\n",
       "      <td>Movie</td>\n",
       "      <td>74 min</td>\n",
       "      <td>2017</td>\n",
       "      <td>1</td>\n",
       "    </tr>\n",
       "    <tr>\n",
       "      <th>2</th>\n",
       "      <td>Movie</td>\n",
       "      <td>84 min</td>\n",
       "      <td>2010</td>\n",
       "      <td>1</td>\n",
       "    </tr>\n",
       "    <tr>\n",
       "      <th>3</th>\n",
       "      <td>Movie</td>\n",
       "      <td>G</td>\n",
       "      <td>2009</td>\n",
       "      <td>4</td>\n",
       "    </tr>\n",
       "    <tr>\n",
       "      <th>4</th>\n",
       "      <td>Movie</td>\n",
       "      <td>G</td>\n",
       "      <td>2016</td>\n",
       "      <td>3</td>\n",
       "    </tr>\n",
       "    <tr>\n",
       "      <th>...</th>\n",
       "      <td>...</td>\n",
       "      <td>...</td>\n",
       "      <td>...</td>\n",
       "      <td>...</td>\n",
       "    </tr>\n",
       "    <tr>\n",
       "      <th>559</th>\n",
       "      <td>TV Show</td>\n",
       "      <td>TV-Y7</td>\n",
       "      <td>1981</td>\n",
       "      <td>1</td>\n",
       "    </tr>\n",
       "    <tr>\n",
       "      <th>560</th>\n",
       "      <td>TV Show</td>\n",
       "      <td>TV-Y7</td>\n",
       "      <td>1993</td>\n",
       "      <td>1</td>\n",
       "    </tr>\n",
       "    <tr>\n",
       "      <th>561</th>\n",
       "      <td>TV Show</td>\n",
       "      <td>TV-Y7</td>\n",
       "      <td>1997</td>\n",
       "      <td>1</td>\n",
       "    </tr>\n",
       "    <tr>\n",
       "      <th>562</th>\n",
       "      <td>TV Show</td>\n",
       "      <td>TV-Y7</td>\n",
       "      <td>1998</td>\n",
       "      <td>1</td>\n",
       "    </tr>\n",
       "    <tr>\n",
       "      <th>563</th>\n",
       "      <td>TV Show</td>\n",
       "      <td>TV-Y7-FV</td>\n",
       "      <td>2014</td>\n",
       "      <td>1</td>\n",
       "    </tr>\n",
       "  </tbody>\n",
       "</table>\n",
       "<p>564 rows × 4 columns</p>\n",
       "</div>"
      ],
      "text/plain": [
       "        type    rating  release_year  count\n",
       "0      Movie    66 min          2015      1\n",
       "1      Movie    74 min          2017      1\n",
       "2      Movie    84 min          2010      1\n",
       "3      Movie         G          2009      4\n",
       "4      Movie         G          2016      3\n",
       "..       ...       ...           ...    ...\n",
       "559  TV Show     TV-Y7          1981      1\n",
       "560  TV Show     TV-Y7          1993      1\n",
       "561  TV Show     TV-Y7          1997      1\n",
       "562  TV Show     TV-Y7          1998      1\n",
       "563  TV Show  TV-Y7-FV          2014      1\n",
       "\n",
       "[564 rows x 4 columns]"
      ]
     },
     "execution_count": 57,
     "metadata": {},
     "output_type": "execute_result"
    }
   ],
   "source": [
    "data.groupby(['type', 'rating'])['release_year'].value_counts().reset_index()"
   ]
  },
  {
   "cell_type": "markdown",
   "metadata": {
    "papermill": {
     "duration": 0.045089,
     "end_time": "2023-11-28T08:55:07.843484",
     "exception": false,
     "start_time": "2023-11-28T08:55:07.798395",
     "status": "completed"
    },
    "tags": []
   },
   "source": [
    "# 35. How many movies and TV shows were directed by each director per year?"
   ]
  },
  {
   "cell_type": "code",
   "execution_count": 58,
   "metadata": {
    "execution": {
     "iopub.execute_input": "2023-12-20T17:14:57.069229Z",
     "iopub.status.busy": "2023-12-20T17:14:57.068165Z",
     "iopub.status.idle": "2023-12-20T17:14:57.091839Z",
     "shell.execute_reply": "2023-12-20T17:14:57.090404Z",
     "shell.execute_reply.started": "2023-12-20T17:14:57.069181Z"
    },
    "papermill": {
     "duration": 0.081206,
     "end_time": "2023-11-28T08:55:07.970971",
     "exception": false,
     "start_time": "2023-11-28T08:55:07.889765",
     "status": "completed"
    },
    "tags": []
   },
   "outputs": [
    {
     "data": {
      "text/html": [
       "<div>\n",
       "<style scoped>\n",
       "    .dataframe tbody tr th:only-of-type {\n",
       "        vertical-align: middle;\n",
       "    }\n",
       "\n",
       "    .dataframe tbody tr th {\n",
       "        vertical-align: top;\n",
       "    }\n",
       "\n",
       "    .dataframe thead th {\n",
       "        text-align: right;\n",
       "    }\n",
       "</style>\n",
       "<table border=\"1\" class=\"dataframe\">\n",
       "  <thead>\n",
       "    <tr style=\"text-align: right;\">\n",
       "      <th></th>\n",
       "      <th>type</th>\n",
       "      <th>director</th>\n",
       "      <th>release_year</th>\n",
       "      <th>title</th>\n",
       "    </tr>\n",
       "  </thead>\n",
       "  <tbody>\n",
       "    <tr>\n",
       "      <th>0</th>\n",
       "      <td>Movie</td>\n",
       "      <td>A. L. Vijay</td>\n",
       "      <td>2016</td>\n",
       "      <td>1</td>\n",
       "    </tr>\n",
       "    <tr>\n",
       "      <th>1</th>\n",
       "      <td>Movie</td>\n",
       "      <td>A. L. Vijay</td>\n",
       "      <td>2019</td>\n",
       "      <td>1</td>\n",
       "    </tr>\n",
       "    <tr>\n",
       "      <th>2</th>\n",
       "      <td>Movie</td>\n",
       "      <td>A. Raajdheep</td>\n",
       "      <td>2020</td>\n",
       "      <td>1</td>\n",
       "    </tr>\n",
       "    <tr>\n",
       "      <th>3</th>\n",
       "      <td>Movie</td>\n",
       "      <td>A. Salaam</td>\n",
       "      <td>1975</td>\n",
       "      <td>1</td>\n",
       "    </tr>\n",
       "    <tr>\n",
       "      <th>4</th>\n",
       "      <td>Movie</td>\n",
       "      <td>A.R. Murugadoss</td>\n",
       "      <td>2017</td>\n",
       "      <td>1</td>\n",
       "    </tr>\n",
       "    <tr>\n",
       "      <th>...</th>\n",
       "      <td>...</td>\n",
       "      <td>...</td>\n",
       "      <td>...</td>\n",
       "      <td>...</td>\n",
       "    </tr>\n",
       "    <tr>\n",
       "      <th>5906</th>\n",
       "      <td>TV Show</td>\n",
       "      <td>Vijay S. Bhanushali</td>\n",
       "      <td>2019</td>\n",
       "      <td>1</td>\n",
       "    </tr>\n",
       "    <tr>\n",
       "      <th>5907</th>\n",
       "      <td>TV Show</td>\n",
       "      <td>Vikramaditya Motwane, Anurag Kashyap</td>\n",
       "      <td>2019</td>\n",
       "      <td>1</td>\n",
       "    </tr>\n",
       "    <tr>\n",
       "      <th>5908</th>\n",
       "      <td>TV Show</td>\n",
       "      <td>Wouter Bouvijn</td>\n",
       "      <td>2019</td>\n",
       "      <td>1</td>\n",
       "    </tr>\n",
       "    <tr>\n",
       "      <th>5909</th>\n",
       "      <td>TV Show</td>\n",
       "      <td>Yasuhiro Irie</td>\n",
       "      <td>2010</td>\n",
       "      <td>1</td>\n",
       "    </tr>\n",
       "    <tr>\n",
       "      <th>5910</th>\n",
       "      <td>TV Show</td>\n",
       "      <td>Ziad Doueiri</td>\n",
       "      <td>2020</td>\n",
       "      <td>1</td>\n",
       "    </tr>\n",
       "  </tbody>\n",
       "</table>\n",
       "<p>5911 rows × 4 columns</p>\n",
       "</div>"
      ],
      "text/plain": [
       "         type                              director  release_year  title\n",
       "0       Movie                           A. L. Vijay          2016      1\n",
       "1       Movie                           A. L. Vijay          2019      1\n",
       "2       Movie                          A. Raajdheep          2020      1\n",
       "3       Movie                             A. Salaam          1975      1\n",
       "4       Movie                       A.R. Murugadoss          2017      1\n",
       "...       ...                                   ...           ...    ...\n",
       "5906  TV Show                   Vijay S. Bhanushali          2019      1\n",
       "5907  TV Show  Vikramaditya Motwane, Anurag Kashyap          2019      1\n",
       "5908  TV Show                        Wouter Bouvijn          2019      1\n",
       "5909  TV Show                         Yasuhiro Irie          2010      1\n",
       "5910  TV Show                          Ziad Doueiri          2020      1\n",
       "\n",
       "[5911 rows x 4 columns]"
      ]
     },
     "execution_count": 58,
     "metadata": {},
     "output_type": "execute_result"
    }
   ],
   "source": [
    "data_peryear = data.groupby(['type', 'director','release_year'])['title'].count().reset_index()\n",
    "data_peryear"
   ]
  },
  {
   "cell_type": "markdown",
   "metadata": {},
   "source": [
    "# Cluster Analysis"
   ]
  },
  {
   "cell_type": "code",
   "execution_count": 59,
   "metadata": {
    "execution": {
     "iopub.execute_input": "2023-12-20T17:14:57.093978Z",
     "iopub.status.busy": "2023-12-20T17:14:57.093631Z",
     "iopub.status.idle": "2023-12-20T17:14:57.153962Z",
     "shell.execute_reply": "2023-12-20T17:14:57.152418Z",
     "shell.execute_reply.started": "2023-12-20T17:14:57.093945Z"
    }
   },
   "outputs": [
    {
     "data": {
      "text/html": [
       "<div>\n",
       "<style scoped>\n",
       "    .dataframe tbody tr th:only-of-type {\n",
       "        vertical-align: middle;\n",
       "    }\n",
       "\n",
       "    .dataframe tbody tr th {\n",
       "        vertical-align: top;\n",
       "    }\n",
       "\n",
       "    .dataframe thead th {\n",
       "        text-align: right;\n",
       "    }\n",
       "</style>\n",
       "<table border=\"1\" class=\"dataframe\">\n",
       "  <thead>\n",
       "    <tr style=\"text-align: right;\">\n",
       "      <th></th>\n",
       "      <th>show_id</th>\n",
       "      <th>type</th>\n",
       "      <th>title</th>\n",
       "      <th>director</th>\n",
       "      <th>cast</th>\n",
       "      <th>country</th>\n",
       "      <th>date_added</th>\n",
       "      <th>release_year</th>\n",
       "      <th>rating</th>\n",
       "      <th>duration</th>\n",
       "      <th>...</th>\n",
       "      <th>Spanish-Language TV Shows</th>\n",
       "      <th>Classic &amp; Cult TV</th>\n",
       "      <th>Music &amp; Musicals</th>\n",
       "      <th>Romantic Movies</th>\n",
       "      <th>LGBTQ Movies</th>\n",
       "      <th>Stand-Up Comedy</th>\n",
       "      <th>TV Sci-Fi &amp; Fantasy</th>\n",
       "      <th>Sports Movies</th>\n",
       "      <th>Movies_duration</th>\n",
       "      <th>TV_Seasons</th>\n",
       "    </tr>\n",
       "  </thead>\n",
       "  <tbody>\n",
       "    <tr>\n",
       "      <th>0</th>\n",
       "      <td>s1</td>\n",
       "      <td>Movie</td>\n",
       "      <td>Dick Johnson Is Dead</td>\n",
       "      <td>Kirsten Johnson</td>\n",
       "      <td>0</td>\n",
       "      <td>United States</td>\n",
       "      <td>September 25, 2021</td>\n",
       "      <td>2020</td>\n",
       "      <td>PG-13</td>\n",
       "      <td>90 min</td>\n",
       "      <td>...</td>\n",
       "      <td>0.0</td>\n",
       "      <td>0.0</td>\n",
       "      <td>0.0</td>\n",
       "      <td>0.0</td>\n",
       "      <td>0.0</td>\n",
       "      <td>0.0</td>\n",
       "      <td>0.0</td>\n",
       "      <td>0.0</td>\n",
       "      <td>90.0</td>\n",
       "      <td>0.0</td>\n",
       "    </tr>\n",
       "    <tr>\n",
       "      <th>1</th>\n",
       "      <td>s2</td>\n",
       "      <td>TV Show</td>\n",
       "      <td>Blood &amp; Water</td>\n",
       "      <td>0</td>\n",
       "      <td>Ama Qamata, Khosi Ngema, Gail Mabalane, Thaban...</td>\n",
       "      <td>South Africa</td>\n",
       "      <td>September 24, 2021</td>\n",
       "      <td>2021</td>\n",
       "      <td>TV-MA</td>\n",
       "      <td>2 Seasons</td>\n",
       "      <td>...</td>\n",
       "      <td>0.0</td>\n",
       "      <td>0.0</td>\n",
       "      <td>0.0</td>\n",
       "      <td>0.0</td>\n",
       "      <td>0.0</td>\n",
       "      <td>0.0</td>\n",
       "      <td>0.0</td>\n",
       "      <td>0.0</td>\n",
       "      <td>0.0</td>\n",
       "      <td>2.0</td>\n",
       "    </tr>\n",
       "    <tr>\n",
       "      <th>2</th>\n",
       "      <td>s3</td>\n",
       "      <td>TV Show</td>\n",
       "      <td>Ganglands</td>\n",
       "      <td>Julien Leclercq</td>\n",
       "      <td>Sami Bouajila, Tracy Gotoas, Samuel Jouy, Nabi...</td>\n",
       "      <td>0</td>\n",
       "      <td>September 24, 2021</td>\n",
       "      <td>2021</td>\n",
       "      <td>TV-MA</td>\n",
       "      <td>1 Season</td>\n",
       "      <td>...</td>\n",
       "      <td>0.0</td>\n",
       "      <td>0.0</td>\n",
       "      <td>0.0</td>\n",
       "      <td>0.0</td>\n",
       "      <td>0.0</td>\n",
       "      <td>0.0</td>\n",
       "      <td>0.0</td>\n",
       "      <td>0.0</td>\n",
       "      <td>0.0</td>\n",
       "      <td>1.0</td>\n",
       "    </tr>\n",
       "    <tr>\n",
       "      <th>3</th>\n",
       "      <td>s4</td>\n",
       "      <td>TV Show</td>\n",
       "      <td>Jailbirds New Orleans</td>\n",
       "      <td>0</td>\n",
       "      <td>0</td>\n",
       "      <td>0</td>\n",
       "      <td>September 24, 2021</td>\n",
       "      <td>2021</td>\n",
       "      <td>TV-MA</td>\n",
       "      <td>1 Season</td>\n",
       "      <td>...</td>\n",
       "      <td>0.0</td>\n",
       "      <td>0.0</td>\n",
       "      <td>0.0</td>\n",
       "      <td>0.0</td>\n",
       "      <td>0.0</td>\n",
       "      <td>0.0</td>\n",
       "      <td>0.0</td>\n",
       "      <td>0.0</td>\n",
       "      <td>0.0</td>\n",
       "      <td>1.0</td>\n",
       "    </tr>\n",
       "    <tr>\n",
       "      <th>4</th>\n",
       "      <td>s5</td>\n",
       "      <td>TV Show</td>\n",
       "      <td>Kota Factory</td>\n",
       "      <td>0</td>\n",
       "      <td>Mayur More, Jitendra Kumar, Ranjan Raj, Alam K...</td>\n",
       "      <td>India</td>\n",
       "      <td>September 24, 2021</td>\n",
       "      <td>2021</td>\n",
       "      <td>TV-MA</td>\n",
       "      <td>2 Seasons</td>\n",
       "      <td>...</td>\n",
       "      <td>0.0</td>\n",
       "      <td>0.0</td>\n",
       "      <td>0.0</td>\n",
       "      <td>0.0</td>\n",
       "      <td>0.0</td>\n",
       "      <td>0.0</td>\n",
       "      <td>0.0</td>\n",
       "      <td>0.0</td>\n",
       "      <td>0.0</td>\n",
       "      <td>2.0</td>\n",
       "    </tr>\n",
       "    <tr>\n",
       "      <th>...</th>\n",
       "      <td>...</td>\n",
       "      <td>...</td>\n",
       "      <td>...</td>\n",
       "      <td>...</td>\n",
       "      <td>...</td>\n",
       "      <td>...</td>\n",
       "      <td>...</td>\n",
       "      <td>...</td>\n",
       "      <td>...</td>\n",
       "      <td>...</td>\n",
       "      <td>...</td>\n",
       "      <td>...</td>\n",
       "      <td>...</td>\n",
       "      <td>...</td>\n",
       "      <td>...</td>\n",
       "      <td>...</td>\n",
       "      <td>...</td>\n",
       "      <td>...</td>\n",
       "      <td>...</td>\n",
       "      <td>...</td>\n",
       "      <td>...</td>\n",
       "    </tr>\n",
       "    <tr>\n",
       "      <th>8802</th>\n",
       "      <td>s8803</td>\n",
       "      <td>Movie</td>\n",
       "      <td>Zodiac</td>\n",
       "      <td>David Fincher</td>\n",
       "      <td>Mark Ruffalo, Jake Gyllenhaal, Robert Downey J...</td>\n",
       "      <td>United States</td>\n",
       "      <td>November 20, 2019</td>\n",
       "      <td>2007</td>\n",
       "      <td>R</td>\n",
       "      <td>158 min</td>\n",
       "      <td>...</td>\n",
       "      <td>0.0</td>\n",
       "      <td>0.0</td>\n",
       "      <td>0.0</td>\n",
       "      <td>0.0</td>\n",
       "      <td>0.0</td>\n",
       "      <td>0.0</td>\n",
       "      <td>0.0</td>\n",
       "      <td>0.0</td>\n",
       "      <td>158.0</td>\n",
       "      <td>0.0</td>\n",
       "    </tr>\n",
       "    <tr>\n",
       "      <th>8803</th>\n",
       "      <td>s8804</td>\n",
       "      <td>TV Show</td>\n",
       "      <td>Zombie Dumb</td>\n",
       "      <td>0</td>\n",
       "      <td>0</td>\n",
       "      <td>0</td>\n",
       "      <td>July 1, 2019</td>\n",
       "      <td>2018</td>\n",
       "      <td>TV-Y7</td>\n",
       "      <td>2 Seasons</td>\n",
       "      <td>...</td>\n",
       "      <td>0.0</td>\n",
       "      <td>0.0</td>\n",
       "      <td>0.0</td>\n",
       "      <td>0.0</td>\n",
       "      <td>0.0</td>\n",
       "      <td>0.0</td>\n",
       "      <td>0.0</td>\n",
       "      <td>0.0</td>\n",
       "      <td>0.0</td>\n",
       "      <td>2.0</td>\n",
       "    </tr>\n",
       "    <tr>\n",
       "      <th>8804</th>\n",
       "      <td>s8805</td>\n",
       "      <td>Movie</td>\n",
       "      <td>Zombieland</td>\n",
       "      <td>Ruben Fleischer</td>\n",
       "      <td>Jesse Eisenberg, Woody Harrelson, Emma Stone, ...</td>\n",
       "      <td>United States</td>\n",
       "      <td>November 1, 2019</td>\n",
       "      <td>2009</td>\n",
       "      <td>R</td>\n",
       "      <td>88 min</td>\n",
       "      <td>...</td>\n",
       "      <td>0.0</td>\n",
       "      <td>0.0</td>\n",
       "      <td>0.0</td>\n",
       "      <td>0.0</td>\n",
       "      <td>0.0</td>\n",
       "      <td>0.0</td>\n",
       "      <td>0.0</td>\n",
       "      <td>0.0</td>\n",
       "      <td>88.0</td>\n",
       "      <td>0.0</td>\n",
       "    </tr>\n",
       "    <tr>\n",
       "      <th>8805</th>\n",
       "      <td>s8806</td>\n",
       "      <td>Movie</td>\n",
       "      <td>Zoom</td>\n",
       "      <td>Peter Hewitt</td>\n",
       "      <td>Tim Allen, Courteney Cox, Chevy Chase, Kate Ma...</td>\n",
       "      <td>United States</td>\n",
       "      <td>January 11, 2020</td>\n",
       "      <td>2006</td>\n",
       "      <td>PG</td>\n",
       "      <td>88 min</td>\n",
       "      <td>...</td>\n",
       "      <td>0.0</td>\n",
       "      <td>0.0</td>\n",
       "      <td>0.0</td>\n",
       "      <td>0.0</td>\n",
       "      <td>0.0</td>\n",
       "      <td>0.0</td>\n",
       "      <td>0.0</td>\n",
       "      <td>0.0</td>\n",
       "      <td>88.0</td>\n",
       "      <td>0.0</td>\n",
       "    </tr>\n",
       "    <tr>\n",
       "      <th>8806</th>\n",
       "      <td>s8807</td>\n",
       "      <td>Movie</td>\n",
       "      <td>Zubaan</td>\n",
       "      <td>Mozez Singh</td>\n",
       "      <td>Vicky Kaushal, Sarah-Jane Dias, Raaghav Chanan...</td>\n",
       "      <td>India</td>\n",
       "      <td>March 2, 2019</td>\n",
       "      <td>2015</td>\n",
       "      <td>TV-14</td>\n",
       "      <td>111 min</td>\n",
       "      <td>...</td>\n",
       "      <td>0.0</td>\n",
       "      <td>0.0</td>\n",
       "      <td>0.0</td>\n",
       "      <td>0.0</td>\n",
       "      <td>0.0</td>\n",
       "      <td>0.0</td>\n",
       "      <td>0.0</td>\n",
       "      <td>0.0</td>\n",
       "      <td>111.0</td>\n",
       "      <td>0.0</td>\n",
       "    </tr>\n",
       "  </tbody>\n",
       "</table>\n",
       "<p>8807 rows × 87 columns</p>\n",
       "</div>"
      ],
      "text/plain": [
       "     show_id     type                  title         director  \\\n",
       "0         s1    Movie   Dick Johnson Is Dead  Kirsten Johnson   \n",
       "1         s2  TV Show          Blood & Water                0   \n",
       "2         s3  TV Show              Ganglands  Julien Leclercq   \n",
       "3         s4  TV Show  Jailbirds New Orleans                0   \n",
       "4         s5  TV Show           Kota Factory                0   \n",
       "...      ...      ...                    ...              ...   \n",
       "8802   s8803    Movie                 Zodiac    David Fincher   \n",
       "8803   s8804  TV Show            Zombie Dumb                0   \n",
       "8804   s8805    Movie             Zombieland  Ruben Fleischer   \n",
       "8805   s8806    Movie                   Zoom     Peter Hewitt   \n",
       "8806   s8807    Movie                 Zubaan      Mozez Singh   \n",
       "\n",
       "                                                   cast        country  \\\n",
       "0                                                     0  United States   \n",
       "1     Ama Qamata, Khosi Ngema, Gail Mabalane, Thaban...   South Africa   \n",
       "2     Sami Bouajila, Tracy Gotoas, Samuel Jouy, Nabi...              0   \n",
       "3                                                     0              0   \n",
       "4     Mayur More, Jitendra Kumar, Ranjan Raj, Alam K...          India   \n",
       "...                                                 ...            ...   \n",
       "8802  Mark Ruffalo, Jake Gyllenhaal, Robert Downey J...  United States   \n",
       "8803                                                  0              0   \n",
       "8804  Jesse Eisenberg, Woody Harrelson, Emma Stone, ...  United States   \n",
       "8805  Tim Allen, Courteney Cox, Chevy Chase, Kate Ma...  United States   \n",
       "8806  Vicky Kaushal, Sarah-Jane Dias, Raaghav Chanan...          India   \n",
       "\n",
       "              date_added  release_year rating   duration  ...  \\\n",
       "0     September 25, 2021          2020  PG-13     90 min  ...   \n",
       "1     September 24, 2021          2021  TV-MA  2 Seasons  ...   \n",
       "2     September 24, 2021          2021  TV-MA   1 Season  ...   \n",
       "3     September 24, 2021          2021  TV-MA   1 Season  ...   \n",
       "4     September 24, 2021          2021  TV-MA  2 Seasons  ...   \n",
       "...                  ...           ...    ...        ...  ...   \n",
       "8802   November 20, 2019          2007      R    158 min  ...   \n",
       "8803        July 1, 2019          2018  TV-Y7  2 Seasons  ...   \n",
       "8804    November 1, 2019          2009      R     88 min  ...   \n",
       "8805    January 11, 2020          2006     PG     88 min  ...   \n",
       "8806       March 2, 2019          2015  TV-14    111 min  ...   \n",
       "\n",
       "     Spanish-Language TV Shows  Classic & Cult TV  Music & Musicals  \\\n",
       "0                          0.0                0.0               0.0   \n",
       "1                          0.0                0.0               0.0   \n",
       "2                          0.0                0.0               0.0   \n",
       "3                          0.0                0.0               0.0   \n",
       "4                          0.0                0.0               0.0   \n",
       "...                        ...                ...               ...   \n",
       "8802                       0.0                0.0               0.0   \n",
       "8803                       0.0                0.0               0.0   \n",
       "8804                       0.0                0.0               0.0   \n",
       "8805                       0.0                0.0               0.0   \n",
       "8806                       0.0                0.0               0.0   \n",
       "\n",
       "      Romantic Movies  LGBTQ Movies   Stand-Up Comedy  TV Sci-Fi & Fantasy  \\\n",
       "0                 0.0           0.0               0.0                  0.0   \n",
       "1                 0.0           0.0               0.0                  0.0   \n",
       "2                 0.0           0.0               0.0                  0.0   \n",
       "3                 0.0           0.0               0.0                  0.0   \n",
       "4                 0.0           0.0               0.0                  0.0   \n",
       "...               ...           ...               ...                  ...   \n",
       "8802              0.0           0.0               0.0                  0.0   \n",
       "8803              0.0           0.0               0.0                  0.0   \n",
       "8804              0.0           0.0               0.0                  0.0   \n",
       "8805              0.0           0.0               0.0                  0.0   \n",
       "8806              0.0           0.0               0.0                  0.0   \n",
       "\n",
       "      Sports Movies  Movies_duration  TV_Seasons  \n",
       "0               0.0             90.0         0.0  \n",
       "1               0.0              0.0         2.0  \n",
       "2               0.0              0.0         1.0  \n",
       "3               0.0              0.0         1.0  \n",
       "4               0.0              0.0         2.0  \n",
       "...             ...              ...         ...  \n",
       "8802            0.0            158.0         0.0  \n",
       "8803            0.0              0.0         2.0  \n",
       "8804            0.0             88.0         0.0  \n",
       "8805            0.0             88.0         0.0  \n",
       "8806            0.0            111.0         0.0  \n",
       "\n",
       "[8807 rows x 87 columns]"
      ]
     },
     "execution_count": 59,
     "metadata": {},
     "output_type": "execute_result"
    }
   ],
   "source": [
    "#Let's create new columns for Series and Movies and extract their duration to the new columm, convert them to float\n",
    "\n",
    "data2['Movies_duration'] = data2['duration'].str.extract('(\\d+) min',expand=False).astype(float)\n",
    "data2['TV_Seasons'] = data2['duration'].str.extract('(\\d+) Season', expand=False).astype(float)\n",
    "\n",
    "data2.fillna(0)"
   ]
  },
  {
   "cell_type": "code",
   "execution_count": 60,
   "metadata": {
    "execution": {
     "iopub.execute_input": "2023-12-20T17:14:57.156332Z",
     "iopub.status.busy": "2023-12-20T17:14:57.155869Z",
     "iopub.status.idle": "2023-12-20T17:14:57.168412Z",
     "shell.execute_reply": "2023-12-20T17:14:57.166963Z",
     "shell.execute_reply.started": "2023-12-20T17:14:57.156295Z"
    }
   },
   "outputs": [],
   "source": [
    "data2['type'] = pd.factorize(data2['type'])[0]\n",
    "data2['director'] = pd.factorize(data2['director'])[0]\n",
    "data2['country'] = pd.factorize(data2['country'])[0]\n",
    "data2['rating'] = pd.factorize(data2['rating'])[0]"
   ]
  },
  {
   "cell_type": "code",
   "execution_count": 61,
   "metadata": {
    "execution": {
     "iopub.execute_input": "2023-12-20T17:14:57.170307Z",
     "iopub.status.busy": "2023-12-20T17:14:57.169936Z",
     "iopub.status.idle": "2023-12-20T17:14:57.177313Z",
     "shell.execute_reply": "2023-12-20T17:14:57.176146Z",
     "shell.execute_reply.started": "2023-12-20T17:14:57.170279Z"
    }
   },
   "outputs": [],
   "source": [
    "X_feats = np.setdiff1d(data2.columns, ['show_id','title','cast','date_added', 'listed_in','duration','description'])"
   ]
  },
  {
   "cell_type": "code",
   "execution_count": 62,
   "metadata": {
    "execution": {
     "iopub.execute_input": "2023-12-20T17:14:57.179898Z",
     "iopub.status.busy": "2023-12-20T17:14:57.179511Z",
     "iopub.status.idle": "2023-12-20T17:14:57.192546Z",
     "shell.execute_reply": "2023-12-20T17:14:57.191080Z",
     "shell.execute_reply.started": "2023-12-20T17:14:57.179869Z"
    }
   },
   "outputs": [],
   "source": [
    "#bringing features into dataframe\n",
    "data_for_clustering = data2[X_feats]"
   ]
  },
  {
   "cell_type": "code",
   "execution_count": 63,
   "metadata": {
    "execution": {
     "iopub.execute_input": "2023-12-20T17:14:57.194489Z",
     "iopub.status.busy": "2023-12-20T17:14:57.194156Z",
     "iopub.status.idle": "2023-12-20T17:14:57.205373Z",
     "shell.execute_reply": "2023-12-20T17:14:57.203678Z",
     "shell.execute_reply.started": "2023-12-20T17:14:57.194461Z"
    }
   },
   "outputs": [],
   "source": [
    "data_for_clustering = data_for_clustering.fillna(0)"
   ]
  },
  {
   "cell_type": "markdown",
   "metadata": {},
   "source": [
    "# Importing Umap"
   ]
  },
  {
   "cell_type": "code",
   "execution_count": 64,
   "metadata": {
    "execution": {
     "iopub.execute_input": "2023-12-20T17:14:57.207743Z",
     "iopub.status.busy": "2023-12-20T17:14:57.206841Z",
     "iopub.status.idle": "2023-12-20T17:15:05.349003Z",
     "shell.execute_reply": "2023-12-20T17:15:05.348345Z",
     "shell.execute_reply.started": "2023-12-20T17:14:57.207699Z"
    }
   },
   "outputs": [],
   "source": [
    "import umap"
   ]
  },
  {
   "cell_type": "code",
   "execution_count": 65,
   "metadata": {
    "execution": {
     "iopub.execute_input": "2023-12-20T17:15:05.351563Z",
     "iopub.status.busy": "2023-12-20T17:15:05.349932Z",
     "iopub.status.idle": "2023-12-20T17:15:34.290527Z",
     "shell.execute_reply": "2023-12-20T17:15:34.289486Z",
     "shell.execute_reply.started": "2023-12-20T17:15:05.351504Z"
    }
   },
   "outputs": [
    {
     "name": "stderr",
     "output_type": "stream",
     "text": [
      "/opt/conda/lib/python3.10/site-packages/umap/umap_.py:1943: UserWarning: n_jobs value -1 overridden to 1 by setting random_state. Use no seed for parallelism.\n",
      "  warn(f\"n_jobs value {self.n_jobs} overridden to 1 by setting random_state. Use no seed for parallelism.\")\n"
     ]
    }
   ],
   "source": [
    "#squishing all the features into two columns\n",
    "model = umap.UMAP(random_state=42)\n",
    "train_umap_embeddings = model.fit_transform(data_for_clustering)"
   ]
  },
  {
   "cell_type": "code",
   "execution_count": 66,
   "metadata": {
    "execution": {
     "iopub.execute_input": "2023-12-20T17:15:34.292015Z",
     "iopub.status.busy": "2023-12-20T17:15:34.291717Z",
     "iopub.status.idle": "2023-12-20T17:15:34.298645Z",
     "shell.execute_reply": "2023-12-20T17:15:34.297116Z",
     "shell.execute_reply.started": "2023-12-20T17:15:34.291988Z"
    }
   },
   "outputs": [],
   "source": [
    "trainUmap = pd.DataFrame(train_umap_embeddings)\n",
    "trainUmap.columns = ['col1', 'col2'] #renaming the columns after tranforming the data"
   ]
  },
  {
   "cell_type": "code",
   "execution_count": 67,
   "metadata": {
    "execution": {
     "iopub.execute_input": "2023-12-20T17:15:34.300933Z",
     "iopub.status.busy": "2023-12-20T17:15:34.300525Z",
     "iopub.status.idle": "2023-12-20T17:15:34.363078Z",
     "shell.execute_reply": "2023-12-20T17:15:34.362287Z",
     "shell.execute_reply.started": "2023-12-20T17:15:34.300899Z"
    }
   },
   "outputs": [],
   "source": [
    "from sklearn.cluster import KMeans\n",
    "\n",
    "Kmeans = KMeans(n_clusters = 8, random_state=2023, n_init=\"auto\").fit(trainUmap[['col1','col2']])\n",
    "cluster_ids = Kmeans.labels_\n",
    "trainUmap['cluster_ids'] = cluster_ids"
   ]
  },
  {
   "cell_type": "code",
   "execution_count": 68,
   "metadata": {
    "execution": {
     "iopub.execute_input": "2023-12-20T17:15:34.364943Z",
     "iopub.status.busy": "2023-12-20T17:15:34.364160Z",
     "iopub.status.idle": "2023-12-20T17:15:34.373815Z",
     "shell.execute_reply": "2023-12-20T17:15:34.372545Z",
     "shell.execute_reply.started": "2023-12-20T17:15:34.364912Z"
    }
   },
   "outputs": [
    {
     "data": {
      "text/plain": [
       "cluster_ids\n",
       "7    1519\n",
       "0    1447\n",
       "1    1217\n",
       "2    1093\n",
       "4     996\n",
       "6     931\n",
       "3     861\n",
       "5     743\n",
       "Name: count, dtype: int64"
      ]
     },
     "execution_count": 68,
     "metadata": {},
     "output_type": "execute_result"
    }
   ],
   "source": [
    "trainUmap['cluster_ids'].value_counts()"
   ]
  },
  {
   "cell_type": "code",
   "execution_count": 69,
   "metadata": {
    "execution": {
     "iopub.execute_input": "2023-12-20T17:15:34.375773Z",
     "iopub.status.busy": "2023-12-20T17:15:34.375474Z",
     "iopub.status.idle": "2023-12-20T17:15:35.460976Z",
     "shell.execute_reply": "2023-12-20T17:15:35.460116Z",
     "shell.execute_reply.started": "2023-12-20T17:15:34.375748Z"
    }
   },
   "outputs": [
    {
     "data": {
      "image/png": "[encoded data removed]",
      "text/plain": [
       "<Figure size 800x600 with 1 Axes>"
      ]
     },
     "metadata": {},
     "output_type": "display_data"
    }
   ],
   "source": [
    "# Scatter plot using Seaborn\n",
    "plt.figure(figsize=(8, 6))\n",
    "sns.scatterplot(x='col1', y='col2', hue='cluster_ids', data=trainUmap, palette='tab10')\n",
    "\n",
    "# Add labels and title\n",
    "plt.xlabel('Column 1')\n",
    "plt.ylabel('Column 2')\n",
    "plt.title('Scatter Plot with Clusters')\n",
    "\n",
    "plt.legend(title='cluster_ids', loc='upper left', bbox_to_anchor=(1, 1))\n",
    "# Show the plot\n",
    "plt.show()"
   ]
  },
  {
   "cell_type": "code",
   "execution_count": null,
   "metadata": {},
   "outputs": [],
   "source": []
  }
 ],
 "metadata": {
  "kaggle": {
   "accelerator": "none",
   "dataSources": [
    {
     "datasetId": 434238,
     "sourceId": 2654038,
     "sourceType": "datasetVersion"
    }
   ],
   "dockerImageVersionId": 30587,
   "isGpuEnabled": false,
   "isInternetEnabled": false,
   "language": "python",
   "sourceType": "notebook"
  },
  "kernelspec": {
   "display_name": "Python 3 (ipykernel)",
   "language": "python",
   "name": "python3"
  },
  "language_info": {
   "codemirror_mode": {
    "name": "ipython",
    "version": 3
   },
   "file_extension": ".py",
   "mimetype": "text/x-python",
   "name": "python",
   "nbconvert_exporter": "python",
   "pygments_lexer": "ipython3",
   "version": "3.11.3"
  },
  "papermill": {
   "default_parameters": {},
   "duration": 15.960167,
   "end_time": "2023-11-28T08:55:08.546677",
   "environment_variables": {},
   "exception": null,
   "input_path": "__notebook__.ipynb",
   "output_path": "__notebook__.ipynb",
   "parameters": {},
   "start_time": "2023-11-28T08:54:52.586510",
   "version": "2.4.0"
  }
 },
 "nbformat": 4,
 "nbformat_minor": 4
}
